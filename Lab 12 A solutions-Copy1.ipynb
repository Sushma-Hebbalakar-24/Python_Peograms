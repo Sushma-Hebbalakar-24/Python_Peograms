{
 "cells": [
  {
   "cell_type": "code",
   "execution_count": 1,
   "metadata": {
    "executionInfo": {
     "elapsed": 2262,
     "status": "ok",
     "timestamp": 1613840483170,
     "user": {
      "displayName": "Furqan Rustam",
      "photoUrl": "https://lh3.googleusercontent.com/a-/AOh14Gg5oat7XG884rtNww-Dgt4sEfDMp6vxfwes8ntbog=s64",
      "userId": "11638408104830397330"
     },
     "user_tz": -300
    },
    "id": "jRpgtgXaYoiD"
   },
   "outputs": [],
   "source": [
    "import matplotlib\n",
    "import numpy as np\n",
    "import pandas as pd\n",
    "import seaborn as sns\n",
    "import matplotlib.pyplot as plt\n"
   ]
  },
  {
   "cell_type": "code",
   "execution_count": 53,
   "metadata": {},
   "outputs": [
    {
     "name": "stdout",
     "output_type": "stream",
     "text": [
      "The encoding of the file is: ascii\n"
     ]
    }
   ],
   "source": [
    "import chardet\n",
    "\n",
    "def detect_encoding(file_path):\n",
    "    with open(file_path, 'rb') as file:\n",
    "        result = chardet.detect(file.read())\n",
    "    return result['encoding']\n",
    "\n",
    "# Replace 'your_file.txt' with the actual path to your file\n",
    "file_path = 'C:\\\\Users\\\\User\\\\Python_practice_scripts\\\\DDoSdata.csv\\\\DDoSdata.csv'\n",
    "encoding = detect_encoding(file_path)\n",
    "\n",
    "print(f\"The encoding of the file is: {encoding}\")"
   ]
  },
  {
   "cell_type": "code",
   "execution_count": 47,
   "metadata": {
    "executionInfo": {
     "elapsed": 2350,
     "status": "ok",
     "timestamp": 1613850164152,
     "user": {
      "displayName": "Furqan Rustam",
      "photoUrl": "https://lh3.googleusercontent.com/a-/AOh14Gg5oat7XG884rtNww-Dgt4sEfDMp6vxfwes8ntbog=s64",
      "userId": "11638408104830397330"
     },
     "user_tz": -300
    },
    "id": "7i10IQAVYoiM"
   },
   "outputs": [
    {
     "name": "stderr",
     "output_type": "stream",
     "text": [
      "C:\\Users\\User\\AppData\\Local\\Temp\\ipykernel_33068\\34529906.py:1: DtypeWarning: Columns (8,10) have mixed types. Specify dtype option on import or set low_memory=False.\n",
      "  data1=pd.read_csv('C:\\\\Users\\\\User\\\\Python_practice_scripts\\\\DDoSdata.csv\\\\DDoSdata.csv')\n"
     ]
    }
   ],
   "source": [
    "data1=pd.read_csv('C:\\\\Users\\\\User\\\\Python_practice_scripts\\\\DDoSdata.csv\\\\DDoSdata.csv')\n",
    "col=list(data1.columns.values)\n",
    "data1=data1[:1000000]"
   ]
  },
  {
   "cell_type": "code",
   "execution_count": 48,
   "metadata": {
    "executionInfo": {
     "elapsed": 1768,
     "status": "ok",
     "timestamp": 1613840747497,
     "user": {
      "displayName": "Furqan Rustam",
      "photoUrl": "https://lh3.googleusercontent.com/a-/AOh14Gg5oat7XG884rtNww-Dgt4sEfDMp6vxfwes8ntbog=s64",
      "userId": "11638408104830397330"
     },
     "user_tz": -300
    },
    "id": "HPcOQ7bcYoiV"
   },
   "outputs": [],
   "source": [
    "target1 = data1[\"subcategory\"]\n",
    "data1 = data1.drop([\"attack\", \"category\",\"subcategory\"], axis=1)"
   ]
  },
  {
   "cell_type": "code",
   "execution_count": 49,
   "metadata": {
    "colab": {
     "base_uri": "https://localhost:8080/",
     "height": 132
    },
    "executionInfo": {
     "elapsed": 1350,
     "status": "ok",
     "timestamp": 1613840779309,
     "user": {
      "displayName": "Furqan Rustam",
      "photoUrl": "https://lh3.googleusercontent.com/a-/AOh14Gg5oat7XG884rtNww-Dgt4sEfDMp6vxfwes8ntbog=s64",
      "userId": "11638408104830397330"
     },
     "user_tz": -300
    },
    "id": "L8cyM6llYoiW",
    "outputId": "57177e26-5600-467d-de6e-5301684678da"
   },
   "outputs": [
    {
     "data": {
      "text/plain": [
       "0    HTTP\n",
       "1    HTTP\n",
       "Name: subcategory, dtype: object"
      ]
     },
     "execution_count": 49,
     "metadata": {},
     "output_type": "execute_result"
    }
   ],
   "source": [
    "target1[:2]"
   ]
  },
  {
   "cell_type": "code",
   "execution_count": 50,
   "metadata": {
    "colab": {
     "base_uri": "https://localhost:8080/"
    },
    "executionInfo": {
     "elapsed": 908,
     "status": "ok",
     "timestamp": 1613840820290,
     "user": {
      "displayName": "Furqan Rustam",
      "photoUrl": "https://lh3.googleusercontent.com/a-/AOh14Gg5oat7XG884rtNww-Dgt4sEfDMp6vxfwes8ntbog=s64",
      "userId": "11638408104830397330"
     },
     "user_tz": -300
    },
    "id": "rEf_f_R7YoiX",
    "outputId": "9229ce99-1567-4d09-8444-9c12ebfb7837"
   },
   "outputs": [
    {
     "data": {
      "text/plain": [
       "Counter({'HTTP': 989, 'TCP': 977380, 'UDP': 21631})"
      ]
     },
     "execution_count": 50,
     "metadata": {},
     "output_type": "execute_result"
    }
   ],
   "source": [
    "from collections import Counter\n",
    "Counter(target1)"
   ]
  },
  {
   "cell_type": "code",
   "execution_count": 51,
   "metadata": {},
   "outputs": [],
   "source": [
    "from sklearn import preprocessing\n",
    "import pandas as pd\n",
    "\n",
    "data1= data1.astype(str)\n",
    "le = preprocessing.LabelEncoder()\n",
    "dataF=data1.apply(le.fit_transform)"
   ]
  },
  {
   "cell_type": "code",
   "execution_count": 52,
   "metadata": {},
   "outputs": [
    {
     "data": {
      "text/html": [
       "<div>\n",
       "<style scoped>\n",
       "    .dataframe tbody tr th:only-of-type {\n",
       "        vertical-align: middle;\n",
       "    }\n",
       "\n",
       "    .dataframe tbody tr th {\n",
       "        vertical-align: top;\n",
       "    }\n",
       "\n",
       "    .dataframe thead th {\n",
       "        text-align: right;\n",
       "    }\n",
       "</style>\n",
       "<table border=\"1\" class=\"dataframe\">\n",
       "  <thead>\n",
       "    <tr style=\"text-align: right;\">\n",
       "      <th></th>\n",
       "      <th>Unnamed: 0</th>\n",
       "      <th>pkSeqID</th>\n",
       "      <th>stime</th>\n",
       "      <th>flgs</th>\n",
       "      <th>flgs_number</th>\n",
       "      <th>proto</th>\n",
       "      <th>proto_number</th>\n",
       "      <th>saddr</th>\n",
       "      <th>sport</th>\n",
       "      <th>daddr</th>\n",
       "      <th>...</th>\n",
       "      <th>TnP_PerProto</th>\n",
       "      <th>TnP_Per_Dport</th>\n",
       "      <th>AR_P_Proto_P_SrcIP</th>\n",
       "      <th>AR_P_Proto_P_DstIP</th>\n",
       "      <th>N_IN_Conn_P_DstIP</th>\n",
       "      <th>N_IN_Conn_P_SrcIP</th>\n",
       "      <th>AR_P_Proto_P_Sport</th>\n",
       "      <th>AR_P_Proto_P_Dport</th>\n",
       "      <th>Pkts_P_State_P_Protocol_P_DestIP</th>\n",
       "      <th>Pkts_P_State_P_Protocol_P_SrcIP</th>\n",
       "    </tr>\n",
       "  </thead>\n",
       "  <tbody>\n",
       "    <tr>\n",
       "      <th>0</th>\n",
       "      <td>0</td>\n",
       "      <td>0</td>\n",
       "      <td>129586</td>\n",
       "      <td>0</td>\n",
       "      <td>0</td>\n",
       "      <td>2</td>\n",
       "      <td>0</td>\n",
       "      <td>3</td>\n",
       "      <td>49017</td>\n",
       "      <td>4</td>\n",
       "      <td>...</td>\n",
       "      <td>285</td>\n",
       "      <td>664</td>\n",
       "      <td>13399</td>\n",
       "      <td>8812</td>\n",
       "      <td>26</td>\n",
       "      <td>32</td>\n",
       "      <td>41682</td>\n",
       "      <td>9090</td>\n",
       "      <td>340</td>\n",
       "      <td>296</td>\n",
       "    </tr>\n",
       "    <tr>\n",
       "      <th>1</th>\n",
       "      <td>1</td>\n",
       "      <td>1</td>\n",
       "      <td>129587</td>\n",
       "      <td>0</td>\n",
       "      <td>0</td>\n",
       "      <td>2</td>\n",
       "      <td>0</td>\n",
       "      <td>3</td>\n",
       "      <td>49019</td>\n",
       "      <td>4</td>\n",
       "      <td>...</td>\n",
       "      <td>285</td>\n",
       "      <td>664</td>\n",
       "      <td>13399</td>\n",
       "      <td>8812</td>\n",
       "      <td>26</td>\n",
       "      <td>32</td>\n",
       "      <td>41683</td>\n",
       "      <td>9090</td>\n",
       "      <td>340</td>\n",
       "      <td>296</td>\n",
       "    </tr>\n",
       "  </tbody>\n",
       "</table>\n",
       "<p>2 rows × 44 columns</p>\n",
       "</div>"
      ],
      "text/plain": [
       "   Unnamed: 0  pkSeqID   stime  flgs  flgs_number  proto  proto_number  saddr  \\\n",
       "0           0        0  129586     0            0      2             0      3   \n",
       "1           1        1  129587     0            0      2             0      3   \n",
       "\n",
       "   sport  daddr  ...  TnP_PerProto  TnP_Per_Dport  AR_P_Proto_P_SrcIP  \\\n",
       "0  49017      4  ...           285            664               13399   \n",
       "1  49019      4  ...           285            664               13399   \n",
       "\n",
       "   AR_P_Proto_P_DstIP  N_IN_Conn_P_DstIP  N_IN_Conn_P_SrcIP  \\\n",
       "0                8812                 26                 32   \n",
       "1                8812                 26                 32   \n",
       "\n",
       "   AR_P_Proto_P_Sport  AR_P_Proto_P_Dport  Pkts_P_State_P_Protocol_P_DestIP  \\\n",
       "0               41682                9090                               340   \n",
       "1               41683                9090                               340   \n",
       "\n",
       "   Pkts_P_State_P_Protocol_P_SrcIP  \n",
       "0                              296  \n",
       "1                              296  \n",
       "\n",
       "[2 rows x 44 columns]"
      ]
     },
     "execution_count": 52,
     "metadata": {},
     "output_type": "execute_result"
    }
   ],
   "source": [
    "dataF[:2]"
   ]
  },
  {
   "cell_type": "code",
   "execution_count": 54,
   "metadata": {},
   "outputs": [
    {
     "name": "stdout",
     "output_type": "stream",
     "text": [
      "Unable to convert column 'flgs' to float. Check for non-numeric values.\n",
      "Unable to convert column 'proto' to float. Check for non-numeric values.\n",
      "Unable to convert column 'saddr' to float. Check for non-numeric values.\n",
      "Unable to convert column 'sport' to float. Check for non-numeric values.\n",
      "Unable to convert column 'daddr' to float. Check for non-numeric values.\n",
      "Unable to convert column 'dport' to float. Check for non-numeric values.\n",
      "Unable to convert column 'state' to float. Check for non-numeric values.\n"
     ]
    }
   ],
   "source": [
    "#Converting the column with object type to float\n",
    "\n",
    "import pandas as pd\n",
    "\n",
    "\n",
    "# Identify columns with data type \"object\"\n",
    "object_columns = data1.select_dtypes(include=['object']).columns\n",
    "\n",
    "# Convert selected object columns to float\n",
    "for column in object_columns:\n",
    "    try:\n",
    "        data1[column] = data1[column].astype(float)\n",
    "    except ValueError:\n",
    "        print(f\"Unable to convert column '{column}' to float. Check for non-numeric values.\")\n",
    "\n",
    "\n"
   ]
  },
  {
   "cell_type": "code",
   "execution_count": 55,
   "metadata": {
    "executionInfo": {
     "elapsed": 1693,
     "status": "ok",
     "timestamp": 1613840847534,
     "user": {
      "displayName": "Furqan Rustam",
      "photoUrl": "https://lh3.googleusercontent.com/a-/AOh14Gg5oat7XG884rtNww-Dgt4sEfDMp6vxfwes8ntbog=s64",
      "userId": "11638408104830397330"
     },
     "user_tz": -300
    },
    "id": "GHjTChdtYoiY"
   },
   "outputs": [],
   "source": [
    "from sklearn.model_selection import train_test_split\n",
    "X_train, X_test, y_train, y_test = train_test_split(dataF, target1, test_size=0.30, random_state=1, stratify=target1, shuffle=True)"
   ]
  },
  {
   "cell_type": "code",
   "execution_count": 56,
   "metadata": {
    "colab": {
     "base_uri": "https://localhost:8080/"
    },
    "executionInfo": {
     "elapsed": 1692,
     "status": "ok",
     "timestamp": 1613840859030,
     "user": {
      "displayName": "Furqan Rustam",
      "photoUrl": "https://lh3.googleusercontent.com/a-/AOh14Gg5oat7XG884rtNww-Dgt4sEfDMp6vxfwes8ntbog=s64",
      "userId": "11638408104830397330"
     },
     "user_tz": -300
    },
    "id": "SV0rxUlcYoiZ",
    "outputId": "7474ebd9-4bf1-4033-b736-34c4ed789d22"
   },
   "outputs": [
    {
     "name": "stdout",
     "output_type": "stream",
     "text": [
      "Number transactions X_train dataset:  (700000, 44)\n",
      "Number transactions y_train dataset:  (700000,)\n",
      "Number transactions X_test dataset:  (300000, 44)\n",
      "Number transactions y_test dataset:  (300000,)\n"
     ]
    }
   ],
   "source": [
    "print(\"Number transactions X_train dataset: \", X_train.shape)\n",
    "print(\"Number transactions y_train dataset: \", y_train.shape)\n",
    "print(\"Number transactions X_test dataset: \", X_test.shape)\n",
    "print(\"Number transactions y_test dataset: \", y_test.shape)"
   ]
  },
  {
   "cell_type": "code",
   "execution_count": 57,
   "metadata": {
    "colab": {
     "base_uri": "https://localhost:8080/",
     "height": 132
    },
    "executionInfo": {
     "elapsed": 1670,
     "status": "ok",
     "timestamp": 1613840863211,
     "user": {
      "displayName": "Furqan Rustam",
      "photoUrl": "https://lh3.googleusercontent.com/a-/AOh14Gg5oat7XG884rtNww-Dgt4sEfDMp6vxfwes8ntbog=s64",
      "userId": "11638408104830397330"
     },
     "user_tz": -300
    },
    "id": "y-QaXoeeYoia",
    "outputId": "392614b0-42cd-42e6-9667-27f21e6ccc41"
   },
   "outputs": [
    {
     "data": {
      "text/html": [
       "<div>\n",
       "<style scoped>\n",
       "    .dataframe tbody tr th:only-of-type {\n",
       "        vertical-align: middle;\n",
       "    }\n",
       "\n",
       "    .dataframe tbody tr th {\n",
       "        vertical-align: top;\n",
       "    }\n",
       "\n",
       "    .dataframe thead th {\n",
       "        text-align: right;\n",
       "    }\n",
       "</style>\n",
       "<table border=\"1\" class=\"dataframe\">\n",
       "  <thead>\n",
       "    <tr style=\"text-align: right;\">\n",
       "      <th></th>\n",
       "      <th>Unnamed: 0</th>\n",
       "      <th>pkSeqID</th>\n",
       "      <th>stime</th>\n",
       "      <th>flgs</th>\n",
       "      <th>flgs_number</th>\n",
       "      <th>proto</th>\n",
       "      <th>proto_number</th>\n",
       "      <th>saddr</th>\n",
       "      <th>sport</th>\n",
       "      <th>daddr</th>\n",
       "      <th>...</th>\n",
       "      <th>TnP_PerProto</th>\n",
       "      <th>TnP_Per_Dport</th>\n",
       "      <th>AR_P_Proto_P_SrcIP</th>\n",
       "      <th>AR_P_Proto_P_DstIP</th>\n",
       "      <th>N_IN_Conn_P_DstIP</th>\n",
       "      <th>N_IN_Conn_P_SrcIP</th>\n",
       "      <th>AR_P_Proto_P_Sport</th>\n",
       "      <th>AR_P_Proto_P_Dport</th>\n",
       "      <th>Pkts_P_State_P_Protocol_P_DestIP</th>\n",
       "      <th>Pkts_P_State_P_Protocol_P_SrcIP</th>\n",
       "    </tr>\n",
       "  </thead>\n",
       "  <tbody>\n",
       "    <tr>\n",
       "      <th>749278</th>\n",
       "      <td>749278</td>\n",
       "      <td>749278</td>\n",
       "      <td>101178</td>\n",
       "      <td>4</td>\n",
       "      <td>1</td>\n",
       "      <td>2</td>\n",
       "      <td>0</td>\n",
       "      <td>2</td>\n",
       "      <td>48845</td>\n",
       "      <td>4</td>\n",
       "      <td>...</td>\n",
       "      <td>452</td>\n",
       "      <td>460</td>\n",
       "      <td>10326</td>\n",
       "      <td>6318</td>\n",
       "      <td>2</td>\n",
       "      <td>60</td>\n",
       "      <td>18515</td>\n",
       "      <td>6445</td>\n",
       "      <td>324</td>\n",
       "      <td>59</td>\n",
       "    </tr>\n",
       "    <tr>\n",
       "      <th>497215</th>\n",
       "      <td>497215</td>\n",
       "      <td>497215</td>\n",
       "      <td>71607</td>\n",
       "      <td>4</td>\n",
       "      <td>1</td>\n",
       "      <td>2</td>\n",
       "      <td>0</td>\n",
       "      <td>2</td>\n",
       "      <td>12693</td>\n",
       "      <td>4</td>\n",
       "      <td>...</td>\n",
       "      <td>648</td>\n",
       "      <td>658</td>\n",
       "      <td>12445</td>\n",
       "      <td>8156</td>\n",
       "      <td>2</td>\n",
       "      <td>86</td>\n",
       "      <td>29662</td>\n",
       "      <td>8375</td>\n",
       "      <td>729</td>\n",
       "      <td>618</td>\n",
       "    </tr>\n",
       "  </tbody>\n",
       "</table>\n",
       "<p>2 rows × 44 columns</p>\n",
       "</div>"
      ],
      "text/plain": [
       "        Unnamed: 0  pkSeqID   stime  flgs  flgs_number  proto  proto_number  \\\n",
       "749278      749278   749278  101178     4            1      2             0   \n",
       "497215      497215   497215   71607     4            1      2             0   \n",
       "\n",
       "        saddr  sport  daddr  ...  TnP_PerProto  TnP_Per_Dport  \\\n",
       "749278      2  48845      4  ...           452            460   \n",
       "497215      2  12693      4  ...           648            658   \n",
       "\n",
       "        AR_P_Proto_P_SrcIP  AR_P_Proto_P_DstIP  N_IN_Conn_P_DstIP  \\\n",
       "749278               10326                6318                  2   \n",
       "497215               12445                8156                  2   \n",
       "\n",
       "        N_IN_Conn_P_SrcIP  AR_P_Proto_P_Sport  AR_P_Proto_P_Dport  \\\n",
       "749278                 60               18515                6445   \n",
       "497215                 86               29662                8375   \n",
       "\n",
       "        Pkts_P_State_P_Protocol_P_DestIP  Pkts_P_State_P_Protocol_P_SrcIP  \n",
       "749278                               324                               59  \n",
       "497215                               729                              618  \n",
       "\n",
       "[2 rows x 44 columns]"
      ]
     },
     "execution_count": 57,
     "metadata": {},
     "output_type": "execute_result"
    }
   ],
   "source": [
    "X_train[:2]"
   ]
  },
  {
   "cell_type": "code",
   "execution_count": 14,
   "metadata": {
    "executionInfo": {
     "elapsed": 1690,
     "status": "ok",
     "timestamp": 1613840875989,
     "user": {
      "displayName": "Furqan Rustam",
      "photoUrl": "https://lh3.googleusercontent.com/a-/AOh14Gg5oat7XG884rtNww-Dgt4sEfDMp6vxfwes8ntbog=s64",
      "userId": "11638408104830397330"
     },
     "user_tz": -300
    },
    "id": "crhJXjb8Yoib"
   },
   "outputs": [],
   "source": [
    "from sklearn.metrics import accuracy_score\n",
    "from sklearn.metrics import classification_report\n",
    "from sklearn.metrics import confusion_matrix\n",
    "from sklearn.metrics import accuracy_score\n",
    "from sklearn.metrics import precision_score\n",
    "from sklearn.metrics import recall_score\n",
    "from sklearn.metrics import f1_score"
   ]
  },
  {
   "cell_type": "code",
   "execution_count": 58,
   "metadata": {
    "colab": {
     "base_uri": "https://localhost:8080/"
    },
    "executionInfo": {
     "elapsed": 704846,
     "status": "ok",
     "timestamp": 1613841589218,
     "user": {
      "displayName": "Furqan Rustam",
      "photoUrl": "https://lh3.googleusercontent.com/a-/AOh14Gg5oat7XG884rtNww-Dgt4sEfDMp6vxfwes8ntbog=s64",
      "userId": "11638408104830397330"
     },
     "user_tz": -300
    },
    "id": "bYfoPmU0Yoib",
    "outputId": "9398a6ee-6803-4994-d149-820bbd85da84",
    "scrolled": true
   },
   "outputs": [
    {
     "name": "stdout",
     "output_type": "stream",
     "text": [
      "GBM\n",
      "1.0\n",
      "              precision    recall  f1-score   support\n",
      "\n",
      "        HTTP       1.00      1.00      1.00       297\n",
      "         TCP       1.00      1.00      1.00    293214\n",
      "         UDP       1.00      1.00      1.00      6489\n",
      "\n",
      "    accuracy                           1.00    300000\n",
      "   macro avg       1.00      1.00      1.00    300000\n",
      "weighted avg       1.00      1.00      1.00    300000\n",
      "\n",
      "[[   297      0      0]\n",
      " [     0 293214      0]\n",
      " [     0      0   6489]]\n"
     ]
    }
   ],
   "source": [
    "from sklearn.ensemble import GradientBoostingClassifier\n",
    "a = GradientBoostingClassifier(max_depth=8, learning_rate=0.1, n_estimators=50, random_state=2)\n",
    "print(\"GBM\")\n",
    "a_pred = a.fit(X_train, y_train)\n",
    "pred=a_pred.predict(X_test)\n",
    "print(accuracy_score(y_test,pred))\n",
    "print(classification_report(y_test,pred))\n",
    "print(confusion_matrix(y_test,pred))"
   ]
  },
  {
   "cell_type": "code",
   "execution_count": null,
   "metadata": {
    "id": "cY8ZgeeSYoib"
   },
   "outputs": [],
   "source": []
  },
  {
   "cell_type": "code",
   "execution_count": 16,
   "metadata": {
    "colab": {
     "base_uri": "https://localhost:8080/"
    },
    "executionInfo": {
     "elapsed": 37714,
     "status": "ok",
     "timestamp": 1613841626952,
     "user": {
      "displayName": "Furqan Rustam",
      "photoUrl": "https://lh3.googleusercontent.com/a-/AOh14Gg5oat7XG884rtNww-Dgt4sEfDMp6vxfwes8ntbog=s64",
      "userId": "11638408104830397330"
     },
     "user_tz": -300
    },
    "id": "9q76L2VBYoic",
    "outputId": "ad9e5ec3-bd9c-42fe-8650-6234c9a3d7b3"
   },
   "outputs": [
    {
     "name": "stdout",
     "output_type": "stream",
     "text": [
      "ETC\n",
      "1.0\n",
      "              precision    recall  f1-score   support\n",
      "\n",
      "        HTTP       1.00      1.00      1.00       297\n",
      "         TCP       1.00      1.00      1.00     14703\n",
      "\n",
      "    accuracy                           1.00     15000\n",
      "   macro avg       1.00      1.00      1.00     15000\n",
      "weighted avg       1.00      1.00      1.00     15000\n",
      "\n",
      "[[  297     0]\n",
      " [    0 14703]]\n"
     ]
    }
   ],
   "source": [
    "from sklearn.ensemble import GradientBoostingClassifier\n",
    "from sklearn.ensemble import RandomForestClassifier\n",
    "from sklearn.ensemble import ExtraTreesClassifier\n",
    "a =  ExtraTreesClassifier(n_estimators=250, random_state=27, max_depth=150)\n",
    "print(\"ETC\")\n",
    "a_pred = a.fit(X_train, y_train)\n",
    "pred=a_pred.predict(X_test)\n",
    "print(accuracy_score(y_test,pred))\n",
    "print(classification_report(y_test,pred))\n",
    "print(confusion_matrix(y_test,pred))\n"
   ]
  },
  {
   "cell_type": "code",
   "execution_count": null,
   "metadata": {
    "id": "Pp2j62JIYoid"
   },
   "outputs": [],
   "source": []
  },
  {
   "cell_type": "code",
   "execution_count": 17,
   "metadata": {
    "colab": {
     "base_uri": "https://localhost:8080/"
    },
    "executionInfo": {
     "elapsed": 147207,
     "status": "ok",
     "timestamp": 1613841765408,
     "user": {
      "displayName": "Furqan Rustam",
      "photoUrl": "https://lh3.googleusercontent.com/a-/AOh14Gg5oat7XG884rtNww-Dgt4sEfDMp6vxfwes8ntbog=s64",
      "userId": "11638408104830397330"
     },
     "user_tz": -300
    },
    "id": "QByidYD-Yoid",
    "outputId": "7855b45e-ad8c-4c65-cf87-3bebeaf4d005"
   },
   "outputs": [
    {
     "name": "stdout",
     "output_type": "stream",
     "text": [
      "1.0\n",
      "              precision    recall  f1-score   support\n",
      "\n",
      "        HTTP       1.00      1.00      1.00       297\n",
      "         TCP       1.00      1.00      1.00     14703\n",
      "\n",
      "    accuracy                           1.00     15000\n",
      "   macro avg       1.00      1.00      1.00     15000\n",
      "weighted avg       1.00      1.00      1.00     15000\n",
      "\n",
      "[[  297     0]\n",
      " [    0 14703]]\n"
     ]
    }
   ],
   "source": [
    "from sklearn.ensemble import RandomForestClassifier\n",
    "a =  RandomForestClassifier(n_estimators=200, random_state=2,max_depth=150) \n",
    "a_pred = a.fit(X_train, y_train)\n",
    "pred=a_pred.predict(X_test)\n",
    "print(accuracy_score(y_test,pred))\n",
    "print(classification_report(y_test,pred))\n",
    "print(confusion_matrix(y_test,pred))\n"
   ]
  },
  {
   "cell_type": "code",
   "execution_count": null,
   "metadata": {
    "colab": {
     "base_uri": "https://localhost:8080/"
    },
    "executionInfo": {
     "elapsed": 148765,
     "status": "ok",
     "timestamp": 1613841770414,
     "user": {
      "displayName": "Furqan Rustam",
      "photoUrl": "https://lh3.googleusercontent.com/a-/AOh14Gg5oat7XG884rtNww-Dgt4sEfDMp6vxfwes8ntbog=s64",
      "userId": "11638408104830397330"
     },
     "user_tz": -300
    },
    "id": "LzzB2M0xYoif",
    "outputId": "ccc8a57d-0208-4800-96b0-3ed67ac19dd0"
   },
   "outputs": [],
   "source": []
  },
  {
   "cell_type": "code",
   "execution_count": 26,
   "metadata": {},
   "outputs": [
    {
     "data": {
      "text/plain": [
       "Counter({0: 23461, 4: 16732, 1: 3, 2: 15, 3: 9789})"
      ]
     },
     "execution_count": 26,
     "metadata": {},
     "output_type": "execute_result"
    }
   ],
   "source": [
    "Counter(dataF['flgs'])"
   ]
  },
  {
   "cell_type": "code",
   "execution_count": null,
   "metadata": {
    "id": "oGYsH6ADYoif"
   },
   "outputs": [],
   "source": []
  },
  {
   "cell_type": "code",
   "execution_count": 21,
   "metadata": {
    "colab": {
     "base_uri": "https://localhost:8080/"
    },
    "executionInfo": {
     "elapsed": 189397,
     "status": "ok",
     "timestamp": 1613841813395,
     "user": {
      "displayName": "Furqan Rustam",
      "photoUrl": "https://lh3.googleusercontent.com/a-/AOh14Gg5oat7XG884rtNww-Dgt4sEfDMp6vxfwes8ntbog=s64",
      "userId": "11638408104830397330"
     },
     "user_tz": -300
    },
    "id": "eUght0blYoig",
    "outputId": "c38ea4d9-9f50-44f3-e4f7-ed7169fb87a7"
   },
   "outputs": [
    {
     "name": "stdout",
     "output_type": "stream",
     "text": [
      "1.0\n",
      "              precision    recall  f1-score   support\n",
      "\n",
      "        HTTP       1.00      1.00      1.00       297\n",
      "         TCP       1.00      1.00      1.00     14703\n",
      "\n",
      "    accuracy                           1.00     15000\n",
      "   macro avg       1.00      1.00      1.00     15000\n",
      "weighted avg       1.00      1.00      1.00     15000\n",
      "\n",
      "[[  297     0]\n",
      " [    0 14703]]\n"
     ]
    }
   ],
   "source": [
    "from sklearn.linear_model import SGDClassifier\n",
    "a = SGDClassifier()\n",
    "a_pred = a.fit(X_train, y_train)\n",
    "pred=a_pred.predict(X_test)\n",
    "print(accuracy_score(y_test,pred))\n",
    "print(classification_report(y_test,pred))\n",
    "print(confusion_matrix(y_test,pred))"
   ]
  },
  {
   "cell_type": "code",
   "execution_count": null,
   "metadata": {
    "id": "ul---9uRYoig"
   },
   "outputs": [],
   "source": []
  },
  {
   "cell_type": "code",
   "execution_count": 27,
   "metadata": {
    "colab": {
     "base_uri": "https://localhost:8080/"
    },
    "executionInfo": {
     "elapsed": 1343,
     "status": "ok",
     "timestamp": 1613841814757,
     "user": {
      "displayName": "Furqan Rustam",
      "photoUrl": "https://lh3.googleusercontent.com/a-/AOh14Gg5oat7XG884rtNww-Dgt4sEfDMp6vxfwes8ntbog=s64",
      "userId": "11638408104830397330"
     },
     "user_tz": -300
    },
    "id": "fYkjeuwwYoig",
    "outputId": "c295162a-1045-4751-e770-3f04da9bb2ee"
   },
   "outputs": [
    {
     "name": "stdout",
     "output_type": "stream",
     "text": [
      "1.0\n",
      "              precision    recall  f1-score   support\n",
      "\n",
      "        HTTP       1.00      1.00      1.00       297\n",
      "         TCP       1.00      1.00      1.00     14703\n",
      "\n",
      "    accuracy                           1.00     15000\n",
      "   macro avg       1.00      1.00      1.00     15000\n",
      "weighted avg       1.00      1.00      1.00     15000\n",
      "\n",
      "[[  297     0]\n",
      " [    0 14703]]\n"
     ]
    }
   ],
   "source": [
    "from sklearn.naive_bayes import GaussianNB\n",
    "a = GaussianNB()\n",
    "a_pred = a.fit(X_train, y_train)\n",
    "pred=a_pred.predict(X_test)\n",
    "print(accuracy_score(y_test,pred))\n",
    "print(classification_report(y_test,pred))\n",
    "print(confusion_matrix(y_test,pred))"
   ]
  },
  {
   "cell_type": "code",
   "execution_count": null,
   "metadata": {
    "id": "KQZSEU_GYoii"
   },
   "outputs": [],
   "source": []
  },
  {
   "cell_type": "code",
   "execution_count": 28,
   "metadata": {
    "colab": {
     "base_uri": "https://localhost:8080/"
    },
    "executionInfo": {
     "elapsed": 8647,
     "status": "ok",
     "timestamp": 1613841822070,
     "user": {
      "displayName": "Furqan Rustam",
      "photoUrl": "https://lh3.googleusercontent.com/a-/AOh14Gg5oat7XG884rtNww-Dgt4sEfDMp6vxfwes8ntbog=s64",
      "userId": "11638408104830397330"
     },
     "user_tz": -300
    },
    "id": "XT8eOukKYoij",
    "outputId": "3b2b738e-2603-4134-b36c-d51f50da2d99"
   },
   "outputs": [
    {
     "name": "stdout",
     "output_type": "stream",
     "text": [
      "1.0\n",
      "              precision    recall  f1-score   support\n",
      "\n",
      "        HTTP       1.00      1.00      1.00       297\n",
      "         TCP       1.00      1.00      1.00     14703\n",
      "\n",
      "    accuracy                           1.00     15000\n",
      "   macro avg       1.00      1.00      1.00     15000\n",
      "weighted avg       1.00      1.00      1.00     15000\n",
      "\n",
      "[[  297     0]\n",
      " [    0 14703]]\n"
     ]
    }
   ],
   "source": [
    "from sklearn.tree import DecisionTreeClassifier\n",
    "a = DecisionTreeClassifier()\n",
    "a_pred = a.fit(X_train, y_train)\n",
    "pred=a_pred.predict(X_test)\n",
    "print(accuracy_score(y_test,pred))\n",
    "print(classification_report(y_test,pred))\n",
    "print(confusion_matrix(y_test,pred))"
   ]
  },
  {
   "cell_type": "code",
   "execution_count": null,
   "metadata": {
    "id": "NAfYewA9Yoik"
   },
   "outputs": [],
   "source": []
  },
  {
   "cell_type": "code",
   "execution_count": 29,
   "metadata": {
    "colab": {
     "base_uri": "https://localhost:8080/"
    },
    "executionInfo": {
     "elapsed": 39234,
     "status": "ok",
     "timestamp": 1613841852669,
     "user": {
      "displayName": "Furqan Rustam",
      "photoUrl": "https://lh3.googleusercontent.com/a-/AOh14Gg5oat7XG884rtNww-Dgt4sEfDMp6vxfwes8ntbog=s64",
      "userId": "11638408104830397330"
     },
     "user_tz": -300
    },
    "id": "947JCYV6Yoik",
    "outputId": "4f3eaa15-b6dc-4549-ec35-ad1f50996bba"
   },
   "outputs": [
    {
     "name": "stderr",
     "output_type": "stream",
     "text": [
      "C:\\Users\\User\\anaconda3\\Lib\\site-packages\\sklearn\\linear_model\\_sag.py:350: ConvergenceWarning: The max_iter was reached which means the coef_ did not converge\n",
      "  warnings.warn(\n"
     ]
    },
    {
     "name": "stdout",
     "output_type": "stream",
     "text": [
      "1.0\n",
      "              precision    recall  f1-score   support\n",
      "\n",
      "        HTTP       1.00      1.00      1.00       297\n",
      "         TCP       1.00      1.00      1.00     14703\n",
      "\n",
      "    accuracy                           1.00     15000\n",
      "   macro avg       1.00      1.00      1.00     15000\n",
      "weighted avg       1.00      1.00      1.00     15000\n",
      "\n",
      "[[  297     0]\n",
      " [    0 14703]]\n"
     ]
    }
   ],
   "source": [
    "from sklearn.linear_model import LogisticRegression\n",
    "a=LogisticRegression(random_state=1000, solver='sag',multi_class='ovr',C=2.0)\n",
    "a_pred = a.fit(X_train, y_train)\n",
    "pred=a_pred.predict(X_test)\n",
    "print(accuracy_score(y_test,pred))\n",
    "print(classification_report(y_test,pred))\n",
    "print(confusion_matrix(y_test,pred))"
   ]
  },
  {
   "cell_type": "code",
   "execution_count": null,
   "metadata": {
    "id": "xUlZFmBtYoim"
   },
   "outputs": [],
   "source": []
  },
  {
   "cell_type": "code",
   "execution_count": 31,
   "metadata": {
    "id": "X1lmyLl1Yoim",
    "outputId": "24414d32-6c24-443c-9b51-2e5d085c1d47"
   },
   "outputs": [
    {
     "name": "stdout",
     "output_type": "stream",
     "text": [
      ">lr 1.000 (0.000)\n",
      ">cart 1.000 (0.000)\n",
      ">svm 1.000 (0.000)\n",
      ">bayes 1.000 (0.000)\n"
     ]
    },
    {
     "data": {
      "image/png": "[encoded data removed]",
      "text/plain": [
       "<Figure size 640x480 with 1 Axes>"
      ]
     },
     "metadata": {},
     "output_type": "display_data"
    }
   ],
   "source": [
    "# compare standalone models for binary classification\n",
    "from numpy import mean\n",
    "from numpy import std\n",
    "from sklearn.datasets import make_classification\n",
    "from sklearn.model_selection import cross_val_score\n",
    "from sklearn.model_selection import RepeatedStratifiedKFold\n",
    "from sklearn.linear_model import LogisticRegression\n",
    "from sklearn.neighbors import KNeighborsClassifier\n",
    "from sklearn.tree import DecisionTreeClassifier\n",
    "from sklearn.svm import SVC\n",
    "from sklearn.naive_bayes import GaussianNB\n",
    "from matplotlib import pyplot\n",
    "\n",
    "# get the dataset\n",
    "def get_dataset():\n",
    "\tX, y = make_classification(n_samples=1000, n_features=20, n_informative=15, n_redundant=5, random_state=1)\n",
    "\treturn dataF, target1\n",
    "\n",
    "# get a list of models to evaluate\n",
    "def get_models():\n",
    "\tmodels = dict()\n",
    "\tmodels['lr'] = LogisticRegression()\n",
    "#\tmodels['knn'] = KNeighborsClassifier()\n",
    "\tmodels['cart'] = DecisionTreeClassifier()\n",
    "\tmodels['svm'] = SVC()\n",
    "\tmodels['bayes'] = GaussianNB()\n",
    "\treturn models\n",
    "\n",
    "# evaluate a given model using cross-validation\n",
    "def evaluate_model(model, X, y):\n",
    "\tcv = RepeatedStratifiedKFold(n_splits=10, n_repeats=3, random_state=1)\n",
    "\tscores = cross_val_score(model, X, y, scoring='accuracy', cv=cv, n_jobs=-1, error_score='raise')\n",
    "\treturn scores\n",
    "\n",
    "# define dataset\n",
    "X, y = get_dataset()\n",
    "# get the models to evaluate\n",
    "models = get_models()\n",
    "# evaluate the models and store results\n",
    "results, names = list(), list()\n",
    "for name, model in models.items():\n",
    "\tscores = evaluate_model(model, X, y)\n",
    "\tresults.append(scores)\n",
    "\tnames.append(name)\n",
    "\tprint('>%s %.3f (%.3f)' % (name, mean(scores), std(scores)))\n",
    "# plot model performance for comparison\n",
    "pyplot.boxplot(results, labels=names, showmeans=True)\n",
    "pyplot.show()"
   ]
  },
  {
   "cell_type": "code",
   "execution_count": 32,
   "metadata": {
    "id": "4z7TJT6DYojd"
   },
   "outputs": [],
   "source": [
    "from sklearn import linear_model\n",
    "from sklearn.linear_model import LogisticRegression\n",
    "from sklearn.ensemble import ExtraTreesClassifier\n",
    "from sklearn.neighbors import KNeighborsClassifier\n",
    "from sklearn.svm import SVC, LinearSVC, NuSVC\n",
    "from sklearn.tree import DecisionTreeClassifier\n",
    "from sklearn.ensemble import RandomForestClassifier, AdaBoostClassifier, GradientBoostingClassifier\n",
    "from sklearn.naive_bayes import GaussianNB\n",
    "from sklearn.discriminant_analysis import LinearDiscriminantAnalysis\n",
    "from sklearn.discriminant_analysis import QuadraticDiscriminantAnalysis\n",
    "from sklearn.metrics import accuracy_score\n",
    "from sklearn.calibration import CalibratedClassifierCV\n",
    "from sklearn.linear_model import SGDClassifier\n",
    "from sklearn.ensemble import RandomForestClassifier, VotingClassifier"
   ]
  },
  {
   "cell_type": "code",
   "execution_count": 44,
   "metadata": {
    "id": "t-wO-3dfYojd"
   },
   "outputs": [],
   "source": [
    "clf = SGDClassifier(loss='hinge')\n",
    "lr=LogisticRegression()\n",
    "\n",
    "Classifiers = [\n",
    "    CalibratedClassifierCV(clf, cv=5, method='isotonic'),\n",
    "    VotingClassifier(estimators=[('lr', lr), ('clf', clf),],voting='hard'),\n",
    "    LogisticRegression( solver='liblinear',multi_class='ovr',C=3.0),\n",
    "    ExtraTreesClassifier(n_estimators=500, random_state=5),\n",
    "    SVC(kernel='linear', C=2.0, random_state=500),\n",
    "    DecisionTreeClassifier(),\n",
    "    RandomForestClassifier(n_estimators=200,max_depth=100),\n",
    "    GradientBoostingClassifier(max_depth=100, learning_rate=0.1, n_estimators=50, random_state=52),\n",
    "    AdaBoostClassifier(n_estimators=100, random_state=5),\n",
    "    GaussianNB(),\n",
    "    linear_model.SGDClassifier(max_iter=1000, tol=1e-3)\n",
    "]"
   ]
  },
  {
   "cell_type": "code",
   "execution_count": 46,
   "metadata": {
    "id": "UHkBMCXtYoje",
    "outputId": "fdc99058-bd07-407f-ce27-d5ff431fa723"
   },
   "outputs": [
    {
     "name": "stdout",
     "output_type": "stream",
     "text": [
      "1.0\n",
      "              precision    recall  f1-score   support\n",
      "\n",
      "        HTTP       1.00      1.00      1.00       297\n",
      "         TCP       1.00      1.00      1.00     14703\n",
      "\n",
      "    accuracy                           1.00     15000\n",
      "   macro avg       1.00      1.00      1.00     15000\n",
      "weighted avg       1.00      1.00      1.00     15000\n",
      "\n",
      "[[  297     0]\n",
      " [    0 14703]]\n",
      "==========================================\n",
      "1.0\n",
      "              precision    recall  f1-score   support\n",
      "\n",
      "        HTTP       1.00      1.00      1.00       297\n",
      "         TCP       1.00      1.00      1.00     14703\n",
      "\n",
      "    accuracy                           1.00     15000\n",
      "   macro avg       1.00      1.00      1.00     15000\n",
      "weighted avg       1.00      1.00      1.00     15000\n",
      "\n",
      "[[  297     0]\n",
      " [    0 14703]]\n",
      "==========================================\n",
      "1.0\n",
      "              precision    recall  f1-score   support\n",
      "\n",
      "        HTTP       1.00      1.00      1.00       297\n",
      "         TCP       1.00      1.00      1.00     14703\n",
      "\n",
      "    accuracy                           1.00     15000\n",
      "   macro avg       1.00      1.00      1.00     15000\n",
      "weighted avg       1.00      1.00      1.00     15000\n",
      "\n",
      "[[  297     0]\n",
      " [    0 14703]]\n",
      "==========================================\n",
      "1.0\n",
      "              precision    recall  f1-score   support\n",
      "\n",
      "        HTTP       1.00      1.00      1.00       297\n",
      "         TCP       1.00      1.00      1.00     14703\n",
      "\n",
      "    accuracy                           1.00     15000\n",
      "   macro avg       1.00      1.00      1.00     15000\n",
      "weighted avg       1.00      1.00      1.00     15000\n",
      "\n",
      "[[  297     0]\n",
      " [    0 14703]]\n",
      "==========================================\n",
      "1.0\n",
      "              precision    recall  f1-score   support\n",
      "\n",
      "        HTTP       1.00      1.00      1.00       297\n",
      "         TCP       1.00      1.00      1.00     14703\n",
      "\n",
      "    accuracy                           1.00     15000\n",
      "   macro avg       1.00      1.00      1.00     15000\n",
      "weighted avg       1.00      1.00      1.00     15000\n",
      "\n",
      "[[  297     0]\n",
      " [    0 14703]]\n",
      "==========================================\n",
      "1.0\n",
      "              precision    recall  f1-score   support\n",
      "\n",
      "        HTTP       1.00      1.00      1.00       297\n",
      "         TCP       1.00      1.00      1.00     14703\n",
      "\n",
      "    accuracy                           1.00     15000\n",
      "   macro avg       1.00      1.00      1.00     15000\n",
      "weighted avg       1.00      1.00      1.00     15000\n",
      "\n",
      "[[  297     0]\n",
      " [    0 14703]]\n",
      "==========================================\n",
      "1.0\n",
      "              precision    recall  f1-score   support\n",
      "\n",
      "        HTTP       1.00      1.00      1.00       297\n",
      "         TCP       1.00      1.00      1.00     14703\n",
      "\n",
      "    accuracy                           1.00     15000\n",
      "   macro avg       1.00      1.00      1.00     15000\n",
      "weighted avg       1.00      1.00      1.00     15000\n",
      "\n",
      "[[  297     0]\n",
      " [    0 14703]]\n",
      "==========================================\n",
      "1.0\n",
      "              precision    recall  f1-score   support\n",
      "\n",
      "        HTTP       1.00      1.00      1.00       297\n",
      "         TCP       1.00      1.00      1.00     14703\n",
      "\n",
      "    accuracy                           1.00     15000\n",
      "   macro avg       1.00      1.00      1.00     15000\n",
      "weighted avg       1.00      1.00      1.00     15000\n",
      "\n",
      "[[  297     0]\n",
      " [    0 14703]]\n",
      "==========================================\n",
      "1.0\n",
      "              precision    recall  f1-score   support\n",
      "\n",
      "        HTTP       1.00      1.00      1.00       297\n",
      "         TCP       1.00      1.00      1.00     14703\n",
      "\n",
      "    accuracy                           1.00     15000\n",
      "   macro avg       1.00      1.00      1.00     15000\n",
      "weighted avg       1.00      1.00      1.00     15000\n",
      "\n",
      "[[  297     0]\n",
      " [    0 14703]]\n",
      "==========================================\n",
      "1.0\n",
      "              precision    recall  f1-score   support\n",
      "\n",
      "        HTTP       1.00      1.00      1.00       297\n",
      "         TCP       1.00      1.00      1.00     14703\n",
      "\n",
      "    accuracy                           1.00     15000\n",
      "   macro avg       1.00      1.00      1.00     15000\n",
      "weighted avg       1.00      1.00      1.00     15000\n",
      "\n",
      "[[  297     0]\n",
      " [    0 14703]]\n",
      "==========================================\n",
      "1.0\n",
      "              precision    recall  f1-score   support\n",
      "\n",
      "        HTTP       1.00      1.00      1.00       297\n",
      "         TCP       1.00      1.00      1.00     14703\n",
      "\n",
      "    accuracy                           1.00     15000\n",
      "   macro avg       1.00      1.00      1.00     15000\n",
      "weighted avg       1.00      1.00      1.00     15000\n",
      "\n",
      "[[  297     0]\n",
      " [    0 14703]]\n",
      "==========================================\n"
     ]
    }
   ],
   "source": [
    "Accuracy=[]\n",
    "Model=[]\n",
    "for classifier in Classifiers:\n",
    "    fit = classifier.fit(X_train,y_train)\n",
    "    pred = fit.predict(X_test)\n",
    "   \n",
    "    print(accuracy_score(y_test,pred))\n",
    "    print(classification_report(y_test,pred))\n",
    "    print(confusion_matrix(y_test,pred)) \n",
    "    print(\"==========================================\")"
   ]
  },
  {
   "cell_type": "code",
   "execution_count": null,
   "metadata": {
    "id": "dvvBRCCaYoje"
   },
   "outputs": [],
   "source": []
  }
 ],
 "metadata": {
  "colab": {
   "name": "Networks-IoT.ipynb",
   "provenance": []
  },
  "kernelspec": {
   "display_name": "Python 3 (ipykernel)",
   "language": "python",
   "name": "python3"
  },
  "language_info": {
   "codemirror_mode": {
    "name": "ipython",
    "version": 3
   },
   "file_extension": ".py",
   "mimetype": "text/x-python",
   "name": "python",
   "nbconvert_exporter": "python",
   "pygments_lexer": "ipython3",
   "version": "3.11.4"
  }
 },
 "nbformat": 4,
 "nbformat_minor": 1
}
