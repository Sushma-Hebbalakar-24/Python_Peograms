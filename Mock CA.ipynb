{
 "cells": [
  {
   "cell_type": "markdown",
   "metadata": {
    "button": false,
    "editable": false,
    "new_sheet": false,
    "run_control": {
     "read_only": false
    }
   },
   "source": [
    "**Question 1**\n",
    "\n",
    "Theophylline is a drug used for the treatment of diseases such as chronic obstructive pulmonary disease\n",
    "and asthma. This medicine was administered to 20 subjects over a number of days. Each time the drug\n",
    "was administered to the subjects, the following measurements were recorded:\n",
    "\n",
    "| field | description |\n",
    "|-------|-------------|\n",
    "|id | a number (1, . . . , 20) identifying the subject on whom the observation was made |\n",
    "|weight|weight of the subject (kg)|\n",
    "|dose|dose of theophylline administered orally to the subject (mg/kg)|\n",
    "|time|time since drug administration when the sample was drawn (hr)|\n",
    "|conc|theophylline concentration in the sample (mg/L)|\n",
    "\n",
    "There are 1,000 records in total. You have been provided with an XML file containing this data.\n",
    "\n",
    "a) Create a function to import this XML file. Your function should include exception handling\n",
    "clauses."
   ]
  },
  {
   "cell_type": "code",
   "execution_count": 1,
   "metadata": {},
   "outputs": [],
   "source": [
    "import xml.etree.ElementTree as ET\n",
    "\n",
    "xmlfile = 'theoDataset.xml'\n",
    "\n",
    "try :\n",
    "    xmldata = open(xmlfile,'r')\n",
    "    xmltree = ET.fromstring(xmldata.read())\n",
    "except FileNotFoundError:\n",
    "    print('Could not open the file:'.format(xmlfile))\n",
    "except IOError:\n",
    "    print('Could not read from the file:'.format(xmlfile))\n",
    "finally :\n",
    "    xmldata.close()"
   ]
  },
  {
   "cell_type": "markdown",
   "metadata": {
    "button": false,
    "editable": false,
    "new_sheet": false,
    "run_control": {
     "read_only": false
    }
   },
   "source": [
    "b) Use the print function to display the ‘id’, ‘weight’ and ‘conc’ of the second, fourth, sixth, eight and tenth records in the XML dataset. (Hint: you may use the range() function). "
   ]
  },
  {
   "cell_type": "code",
   "execution_count": 2,
   "metadata": {},
   "outputs": [
    {
     "name": "stdout",
     "output_type": "stream",
     "text": [
      "id:13\tweight:73.8\tconc:0.66\n",
      "id:5\tweight:88.3\tconc:9.47\n",
      "id:8\tweight:81.3\tconc:6.43\n",
      "id:10\tweight:75.1\tconc:11.25\n",
      "id:20\tweight:67.9\tconc:7.84\n"
     ]
    }
   ],
   "source": [
    "for i in range(1,10,2) :\n",
    "    id = xmltree[i].find('id').text\n",
    "    weight = xmltree[i].find('weight').text\n",
    "    conc = xmltree[i].find('conc').text\n",
    "    print('id:{}\\tweight:{}\\tconc:{}'.format(id,weight,conc))"
   ]
  },
  {
   "cell_type": "markdown",
   "metadata": {
    "button": false,
    "editable": false,
    "new_sheet": false,
    "run_control": {
     "read_only": false
    }
   },
   "source": [
    "c) Extract all the XML data and write it to a CSV file. Your file should also contain the column names."
   ]
  },
  {
   "cell_type": "code",
   "execution_count": 3,
   "metadata": {},
   "outputs": [],
   "source": [
    "import csv\n",
    "\n",
    "csv_file = \"./theodata.csv\"\n",
    "\n",
    "try :\n",
    "    theo_csv = open(csv_file, 'w')\n",
    "    csvwriter = csv.writer(theo_csv)\n",
    "    head = []\n",
    "    rowcount = 0\n",
    "    for subject in xmltree.findall('subject'):\n",
    "        row = []\n",
    "        if rowcount == 0:\n",
    "            for col in range(0,len(list(subject))) :\n",
    "                head.append(subject[col].tag)\n",
    "            csvwriter.writerow(head)\n",
    "            rowcount = rowcount + 1\n",
    "        for col in range(0,len(list(subject))) :\n",
    "            row.append(subject[col].text)\n",
    "        csvwriter.writerow(row)\n",
    "except FileNotFoundError:\n",
    "    print('Could not open the file:'.format(csv_file))\n",
    "except IOError:\n",
    "    print('Could not write to the file:'.format(csv_file))\n",
    "finally :\n",
    "    theo_csv.close()"
   ]
  },
  {
   "cell_type": "markdown",
   "metadata": {
    "button": false,
    "editable": false,
    "new_sheet": false,
    "run_control": {
     "read_only": false
    }
   },
   "source": [
    "**Question 2**\n",
    "\n",
    "a) Create a NumPy array filled with 1,500 numbers. Ensure that your array has 300 rows and 5\n",
    "columns. "
   ]
  },
  {
   "cell_type": "code",
   "execution_count": 1,
   "metadata": {},
   "outputs": [],
   "source": [
    "import numpy as np\n",
    "myarray = np.arange(1500).reshape(300,5)"
   ]
  },
  {
   "cell_type": "markdown",
   "metadata": {
    "button": false,
    "editable": false,
    "new_sheet": false,
    "run_control": {
     "read_only": false
    }
   },
   "source": [
    "b) Using slicing, split this array into 5 separate arrays. The number of rows in each array should be\n",
    "equal, and there should still be 5 columns.\n"
   ]
  },
  {
   "cell_type": "code",
   "execution_count": 3,
   "metadata": {},
   "outputs": [
    {
     "data": {
      "text/plain": [
       "array([[  0,   1,   2,   3,   4],\n",
       "       [  5,   6,   7,   8,   9],\n",
       "       [ 10,  11,  12,  13,  14],\n",
       "       [ 15,  16,  17,  18,  19],\n",
       "       [ 20,  21,  22,  23,  24],\n",
       "       [ 25,  26,  27,  28,  29],\n",
       "       [ 30,  31,  32,  33,  34],\n",
       "       [ 35,  36,  37,  38,  39],\n",
       "       [ 40,  41,  42,  43,  44],\n",
       "       [ 45,  46,  47,  48,  49],\n",
       "       [ 50,  51,  52,  53,  54],\n",
       "       [ 55,  56,  57,  58,  59],\n",
       "       [ 60,  61,  62,  63,  64],\n",
       "       [ 65,  66,  67,  68,  69],\n",
       "       [ 70,  71,  72,  73,  74],\n",
       "       [ 75,  76,  77,  78,  79],\n",
       "       [ 80,  81,  82,  83,  84],\n",
       "       [ 85,  86,  87,  88,  89],\n",
       "       [ 90,  91,  92,  93,  94],\n",
       "       [ 95,  96,  97,  98,  99],\n",
       "       [100, 101, 102, 103, 104],\n",
       "       [105, 106, 107, 108, 109],\n",
       "       [110, 111, 112, 113, 114],\n",
       "       [115, 116, 117, 118, 119],\n",
       "       [120, 121, 122, 123, 124],\n",
       "       [125, 126, 127, 128, 129],\n",
       "       [130, 131, 132, 133, 134],\n",
       "       [135, 136, 137, 138, 139],\n",
       "       [140, 141, 142, 143, 144],\n",
       "       [145, 146, 147, 148, 149],\n",
       "       [150, 151, 152, 153, 154],\n",
       "       [155, 156, 157, 158, 159],\n",
       "       [160, 161, 162, 163, 164],\n",
       "       [165, 166, 167, 168, 169],\n",
       "       [170, 171, 172, 173, 174],\n",
       "       [175, 176, 177, 178, 179],\n",
       "       [180, 181, 182, 183, 184],\n",
       "       [185, 186, 187, 188, 189],\n",
       "       [190, 191, 192, 193, 194],\n",
       "       [195, 196, 197, 198, 199],\n",
       "       [200, 201, 202, 203, 204],\n",
       "       [205, 206, 207, 208, 209],\n",
       "       [210, 211, 212, 213, 214],\n",
       "       [215, 216, 217, 218, 219],\n",
       "       [220, 221, 222, 223, 224],\n",
       "       [225, 226, 227, 228, 229],\n",
       "       [230, 231, 232, 233, 234],\n",
       "       [235, 236, 237, 238, 239],\n",
       "       [240, 241, 242, 243, 244],\n",
       "       [245, 246, 247, 248, 249]])"
      ]
     },
     "execution_count": 3,
     "metadata": {},
     "output_type": "execute_result"
    }
   ],
   "source": [
    "myarray1 = myarray[0:50,:]\n",
    "myarray2 = myarray[50:100,:]\n",
    "myarray3 = myarray[100:150,:]\n",
    "myarray4 = myarray[150:200,:]\n",
    "myarray5 = myarray[200:250,:]\n",
    "myarray1"
   ]
  },
  {
   "cell_type": "markdown",
   "metadata": {
    "button": false,
    "editable": false,
    "new_sheet": false,
    "run_control": {
     "read_only": false
    }
   },
   "source": [
    "c) Reshape these 3 of these arrays into any dimensions of your choice. They should all have different\n",
    "dimensions."
   ]
  },
  {
   "cell_type": "code",
   "execution_count": 11,
   "metadata": {},
   "outputs": [
    {
     "data": {
      "text/plain": [
       "array([[[500, 501, 502, 503, 504],\n",
       "        [505, 506, 507, 508, 509],\n",
       "        [510, 511, 512, 513, 514],\n",
       "        [515, 516, 517, 518, 519],\n",
       "        [520, 521, 522, 523, 524]],\n",
       "\n",
       "       [[525, 526, 527, 528, 529],\n",
       "        [530, 531, 532, 533, 534],\n",
       "        [535, 536, 537, 538, 539],\n",
       "        [540, 541, 542, 543, 544],\n",
       "        [545, 546, 547, 548, 549]],\n",
       "\n",
       "       [[550, 551, 552, 553, 554],\n",
       "        [555, 556, 557, 558, 559],\n",
       "        [560, 561, 562, 563, 564],\n",
       "        [565, 566, 567, 568, 569],\n",
       "        [570, 571, 572, 573, 574]],\n",
       "\n",
       "       [[575, 576, 577, 578, 579],\n",
       "        [580, 581, 582, 583, 584],\n",
       "        [585, 586, 587, 588, 589],\n",
       "        [590, 591, 592, 593, 594],\n",
       "        [595, 596, 597, 598, 599]],\n",
       "\n",
       "       [[600, 601, 602, 603, 604],\n",
       "        [605, 606, 607, 608, 609],\n",
       "        [610, 611, 612, 613, 614],\n",
       "        [615, 616, 617, 618, 619],\n",
       "        [620, 621, 622, 623, 624]],\n",
       "\n",
       "       [[625, 626, 627, 628, 629],\n",
       "        [630, 631, 632, 633, 634],\n",
       "        [635, 636, 637, 638, 639],\n",
       "        [640, 641, 642, 643, 644],\n",
       "        [645, 646, 647, 648, 649]],\n",
       "\n",
       "       [[650, 651, 652, 653, 654],\n",
       "        [655, 656, 657, 658, 659],\n",
       "        [660, 661, 662, 663, 664],\n",
       "        [665, 666, 667, 668, 669],\n",
       "        [670, 671, 672, 673, 674]],\n",
       "\n",
       "       [[675, 676, 677, 678, 679],\n",
       "        [680, 681, 682, 683, 684],\n",
       "        [685, 686, 687, 688, 689],\n",
       "        [690, 691, 692, 693, 694],\n",
       "        [695, 696, 697, 698, 699]],\n",
       "\n",
       "       [[700, 701, 702, 703, 704],\n",
       "        [705, 706, 707, 708, 709],\n",
       "        [710, 711, 712, 713, 714],\n",
       "        [715, 716, 717, 718, 719],\n",
       "        [720, 721, 722, 723, 724]],\n",
       "\n",
       "       [[725, 726, 727, 728, 729],\n",
       "        [730, 731, 732, 733, 734],\n",
       "        [735, 736, 737, 738, 739],\n",
       "        [740, 741, 742, 743, 744],\n",
       "        [745, 746, 747, 748, 749]]])"
      ]
     },
     "execution_count": 11,
     "metadata": {},
     "output_type": "execute_result"
    }
   ],
   "source": [
    "reshaped1 = myarray1.ravel()\n",
    "reshaped2 = myarray2.reshape(125,2)\n",
    "#reshaped3 = myarray3.reshape(3,50,2)\n",
    "reshaped4 = myarray3.reshape(10,5,5)\n",
    "reshaped2\n",
    "reshaped4"
   ]
  },
  {
   "cell_type": "markdown",
   "metadata": {
    "button": false,
    "editable": false,
    "new_sheet": false,
    "run_control": {
     "read_only": false
    }
   },
   "source": [
    "d) Split 2 of these reshaped arrays vertically."
   ]
  },
  {
   "cell_type": "code",
   "execution_count": 13,
   "metadata": {},
   "outputs": [
    {
     "data": {
      "text/plain": [
       "[array([[750, 751, 752, 753, 754],\n",
       "        [755, 756, 757, 758, 759],\n",
       "        [760, 761, 762, 763, 764],\n",
       "        [765, 766, 767, 768, 769],\n",
       "        [770, 771, 772, 773, 774],\n",
       "        [775, 776, 777, 778, 779],\n",
       "        [780, 781, 782, 783, 784],\n",
       "        [785, 786, 787, 788, 789],\n",
       "        [790, 791, 792, 793, 794],\n",
       "        [795, 796, 797, 798, 799]]),\n",
       " array([[800, 801, 802, 803, 804],\n",
       "        [805, 806, 807, 808, 809],\n",
       "        [810, 811, 812, 813, 814],\n",
       "        [815, 816, 817, 818, 819],\n",
       "        [820, 821, 822, 823, 824],\n",
       "        [825, 826, 827, 828, 829],\n",
       "        [830, 831, 832, 833, 834],\n",
       "        [835, 836, 837, 838, 839],\n",
       "        [840, 841, 842, 843, 844],\n",
       "        [845, 846, 847, 848, 849]]),\n",
       " array([[850, 851, 852, 853, 854],\n",
       "        [855, 856, 857, 858, 859],\n",
       "        [860, 861, 862, 863, 864],\n",
       "        [865, 866, 867, 868, 869],\n",
       "        [870, 871, 872, 873, 874],\n",
       "        [875, 876, 877, 878, 879],\n",
       "        [880, 881, 882, 883, 884],\n",
       "        [885, 886, 887, 888, 889],\n",
       "        [890, 891, 892, 893, 894],\n",
       "        [895, 896, 897, 898, 899]]),\n",
       " array([[900, 901, 902, 903, 904],\n",
       "        [905, 906, 907, 908, 909],\n",
       "        [910, 911, 912, 913, 914],\n",
       "        [915, 916, 917, 918, 919],\n",
       "        [920, 921, 922, 923, 924],\n",
       "        [925, 926, 927, 928, 929],\n",
       "        [930, 931, 932, 933, 934],\n",
       "        [935, 936, 937, 938, 939],\n",
       "        [940, 941, 942, 943, 944],\n",
       "        [945, 946, 947, 948, 949]]),\n",
       " array([[950, 951, 952, 953, 954],\n",
       "        [955, 956, 957, 958, 959],\n",
       "        [960, 961, 962, 963, 964],\n",
       "        [965, 966, 967, 968, 969],\n",
       "        [970, 971, 972, 973, 974],\n",
       "        [975, 976, 977, 978, 979],\n",
       "        [980, 981, 982, 983, 984],\n",
       "        [985, 986, 987, 988, 989],\n",
       "        [990, 991, 992, 993, 994],\n",
       "        [995, 996, 997, 998, 999]])]"
      ]
     },
     "execution_count": 13,
     "metadata": {},
     "output_type": "execute_result"
    }
   ],
   "source": [
    "split1 = np.vsplit(myarray2,2)\n",
    "split2 = np.vsplit(myarray4,5)\n",
    "split2"
   ]
  },
  {
   "cell_type": "markdown",
   "metadata": {
    "button": false,
    "editable": false,
    "new_sheet": false,
    "run_control": {
     "read_only": false
    }
   },
   "source": [
    "**Question 3**\n",
    "\n",
    "Given the following string:\n",
    "\n",
    "All I want is a proper cup of coffee<br>\n",
    "Made in a proper copper coffee pot<br>\n",
    "I may be off my dot<br>\n",
    "But I want a cup of coffee<br>\n",
    "From a proper coffee pot<br>\n",
    "Tin coffee pots and iron coffee pots<br>\n",
    "They’re no use to me<br>\n",
    "If I can’t have a proper cup of coffee<br>\n",
    "In a proper copper coffee pot<br>\n",
    "I’ll have a cup of tea\n",
    "\n",
    "a) Write a single function that uses regular expressions to highlight the words “tea”,“dot” or “pot” if they appear at the end of a line.\n",
    "\n",
    "Your answer should look like this:\n",
    "\n",
    "All I want is a proper cup of coffee<br>\n",
    "Made in a proper copper coffee {pot}<br>\n",
    "I may be off my {dot}<br>\n",
    "But I want a cup of coffee<br>\n",
    "From a proper coffee {pot}<br>\n",
    "Tin coffee pots and iron coffee pots<br>\n",
    "They’re no use to me<br>\n",
    "If I can’t have a proper cup of coffee<br>\n",
    "In a proper copper coffee {pot}<br>\n",
    "I’ll have a cup of {tea}"
   ]
  },
  {
   "cell_type": "code",
   "execution_count": 14,
   "metadata": {},
   "outputs": [
    {
     "name": "stdout",
     "output_type": "stream",
     "text": [
      "All I want is a proper cup of coffee\n",
      "Made in a proper copper coffee {pot}\n",
      "I may be off my {dot}\n",
      "But I want a cup of coffee\n",
      "From a proper coffee {pot}\n",
      "Tin coffee pots and iron coffee pots\n",
      "They’re no use to me\n",
      "If I can’t have a proper cup of coffee\n",
      "In a proper copper coffee {pot}\n",
      "I’ll have a cup of {tea}\n"
     ]
    }
   ],
   "source": [
    "import re\n",
    "text = '''All I want is a proper cup of coffee\n",
    "Made in a proper copper coffee pot\n",
    "I may be off my dot\n",
    "But I want a cup of coffee\n",
    "From a proper coffee pot\n",
    "Tin coffee pots and iron coffee pots\n",
    "They’re no use to me\n",
    "If I can’t have a proper cup of coffee\n",
    "In a proper copper coffee pot\n",
    "I’ll have a cup of tea\n",
    "'''\n",
    "print(re.compile(r'tea|dot|pot$',re.M).sub('{\\g<0>}',text.rstrip()))"
   ]
  },
  {
   "cell_type": "markdown",
   "metadata": {
    "button": false,
    "editable": false,
    "new_sheet": false,
    "run_control": {
     "read_only": false
    }
   },
   "source": [
    "b) Using regular expressions, write code to highlight all words except “cup”, “pot” and “coffee” regardless of wherever it is found in passage.\n",
    "\n",
    "Your answer should look like this:\n",
    "\n",
    "{All} {I} {want} {is} {a} {proper} cup {of} coffee<br>\n",
    "{Made} {in} {a} {proper} {copper} coffee pot<br>\n",
    "{I} {may} {be} {off} {my} {dot}<br>\n",
    "\n",
    "and so on."
   ]
  },
  {
   "cell_type": "code",
   "execution_count": null,
   "metadata": {},
   "outputs": [],
   "source": [
    "print(re.compile(r'\\b(?!coffee|cup|pot\\b)\\w+',re.M).sub('{\\g<0>}',text.rstrip()))"
   ]
  }
 ],
 "metadata": {
  "kernelspec": {
   "display_name": "Python 3 (ipykernel)",
   "language": "python",
   "name": "python3"
  },
  "language_info": {
   "codemirror_mode": {
    "name": "ipython",
    "version": 3
   },
   "file_extension": ".py",
   "mimetype": "text/x-python",
   "name": "python",
   "nbconvert_exporter": "python",
   "pygments_lexer": "ipython3",
   "version": "3.11.4"
  }
 },
 "nbformat": 4,
 "nbformat_minor": 4
}
