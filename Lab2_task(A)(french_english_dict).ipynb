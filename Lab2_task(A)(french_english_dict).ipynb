{
 "cells": [
  {
   "cell_type": "markdown",
   "metadata": {
    "id": "Vp86YbPY3sKs"
   },
   "source": [
    "# Task 1\n",
    "# Create a Python dictionary that maps English words to their French translations."
   ]
  },
  {
   "cell_type": "code",
   "execution_count": 56,
   "metadata": {
    "id": "ib1pP2bc3Uke"
   },
   "outputs": [],
   "source": [
    "# Task 1\n",
    "# Create a Python dictionary that maps English words to their French translations.\n",
    "english_to_french = {\n",
    "    \"hello\": \"bonjour\",\n",
    "    \"cat\": \"chat\",\n",
    "    \"dog\": \"chien\",\n",
    "    \"yes\": \"oui\",\n",
    "    \"tomorrow\": \"demain\",\n",
    "    \"yesterday\": \"hier\",\n",
    "    \"fish\": \"poisson\",\n",
    "    \"difficult\": \"difficile\",\n",
    "    \"easy\": \"facile\",\n",
    "    \"bad\": \"mauvais\",\n",
    "    \"no\": \"non\",\n",
    "    \"tuesday\": \"mardi\",\n",
    "    \"january\": \"janvier\",\n",
    "    \"world\": \"monde\"\n",
    "}\n"
   ]
  },
  {
   "cell_type": "markdown",
   "metadata": {
    "id": "7HIZtwDZ30Bc"
   },
   "source": [
    "# Task 2\n",
    "# Create a passage of text in English."
   ]
  },
  {
   "cell_type": "code",
   "execution_count": 25,
   "metadata": {},
   "outputs": [],
   "source": [
    "passage =\"Hello there! I love cat , I\\'ll come tomorrow to play with it\" \n"
   ]
  },
  {
   "cell_type": "markdown",
   "metadata": {
    "id": "jMW-JQ3735NH"
   },
   "source": [
    "# Task 3\n",
    "# Create a function to translate the English text to French using the dictionary."
   ]
  },
  {
   "cell_type": "code",
   "execution_count": 91,
   "metadata": {},
   "outputs": [],
   "source": [
    "def english_to_french_text(passage):\n",
    "    result = passage.split()\n",
    "    french_text=[]\n",
    "    for i in result:\n",
    "        a=english_to_french.get(i.lower(),i)\n",
    "        french_text.append(a)\n",
    "    return \" \".join(french_text)\n",
    "        \n",
    "    "
   ]
  },
  {
   "cell_type": "markdown",
   "metadata": {
    "id": "UrcKJRBP4BUA"
   },
   "source": [
    "# Task 4\n",
    "# Translate the English text to French."
   ]
  },
  {
   "cell_type": "code",
   "execution_count": 92,
   "metadata": {},
   "outputs": [
    {
     "data": {
      "text/plain": [
       "\"bonjour there! I love chat , I'll come demain to play with it\""
      ]
     },
     "execution_count": 92,
     "metadata": {},
     "output_type": "execute_result"
    }
   ],
   "source": [
    "english_to_french_text(passage)\n",
    " "
   ]
  },
  {
   "cell_type": "markdown",
   "metadata": {
    "id": "Ta-2AK674DrH"
   },
   "source": [
    "# Task 5\n",
    "# Print the original and translated texts."
   ]
  },
  {
   "cell_type": "code",
   "execution_count": 93,
   "metadata": {
    "id": "KPBYxmt03f1r"
   },
   "outputs": [
    {
     "name": "stdout",
     "output_type": "stream",
     "text": [
      "Original passage: Hello there! I love cat , I'll come tomorrow to play with it\n",
      "Translated passage: bonjour there! I love chat , I'll come demain to play with it\n"
     ]
    }
   ],
   "source": [
    "print(\"Original passage: \"+passage)\n",
    "print(\"Translated passage: \"+ english_to_french_text(passage))"
   ]
  },
  {
   "cell_type": "code",
   "execution_count": null,
   "metadata": {},
   "outputs": [],
   "source": []
  }
 ],
 "metadata": {
  "colab": {
   "provenance": []
  },
  "kernelspec": {
   "display_name": "Python 3 (ipykernel)",
   "language": "python",
   "name": "python3"
  },
  "language_info": {
   "codemirror_mode": {
    "name": "ipython",
    "version": 3
   },
   "file_extension": ".py",
   "mimetype": "text/x-python",
   "name": "python",
   "nbconvert_exporter": "python",
   "pygments_lexer": "ipython3",
   "version": "3.11.4"
  }
 },
 "nbformat": 4,
 "nbformat_minor": 1
}
