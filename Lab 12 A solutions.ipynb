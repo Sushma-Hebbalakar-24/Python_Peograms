{
 "cells": [
  {
   "cell_type": "code",
   "execution_count": 2,
   "metadata": {
    "executionInfo": {
     "elapsed": 2262,
     "status": "ok",
     "timestamp": 1613840483170,
     "user": {
      "displayName": "Furqan Rustam",
      "photoUrl": "https://lh3.googleusercontent.com/a-/AOh14Gg5oat7XG884rtNww-Dgt4sEfDMp6vxfwes8ntbog=s64",
      "userId": "11638408104830397330"
     },
     "user_tz": -300
    },
    "id": "jRpgtgXaYoiD"
   },
   "outputs": [],
   "source": [
    "import matplotlib\n",
    "import numpy as np\n",
    "import pandas as pd\n",
    "import seaborn as sns\n",
    "import matplotlib.pyplot as plt\n"
   ]
  },
  {
   "cell_type": "code",
   "execution_count": 30,
   "metadata": {
    "executionInfo": {
     "elapsed": 2350,
     "status": "ok",
     "timestamp": 1613850164152,
     "user": {
      "displayName": "Furqan Rustam",
      "photoUrl": "https://lh3.googleusercontent.com/a-/AOh14Gg5oat7XG884rtNww-Dgt4sEfDMp6vxfwes8ntbog=s64",
      "userId": "11638408104830397330"
     },
     "user_tz": -300
    },
    "id": "7i10IQAVYoiM"
   },
   "outputs": [],
   "source": [
    "data1=pd.read_csv('/content/drive/MyDrive/Network Paper/Multidomain.csv')\n",
    "col=list(data1.columns.values)\n"
   ]
  },
  {
   "cell_type": "code",
   "execution_count": 13,
   "metadata": {
    "executionInfo": {
     "elapsed": 1768,
     "status": "ok",
     "timestamp": 1613840747497,
     "user": {
      "displayName": "Furqan Rustam",
      "photoUrl": "https://lh3.googleusercontent.com/a-/AOh14Gg5oat7XG884rtNww-Dgt4sEfDMp6vxfwes8ntbog=s64",
      "userId": "11638408104830397330"
     },
     "user_tz": -300
    },
    "id": "HPcOQ7bcYoiV"
   },
   "outputs": [],
   "source": [
    "target1=data1[\"target\"]\n",
    "data1.drop(['target'], axis=1, inplace=True)"
   ]
  },
  {
   "cell_type": "code",
   "execution_count": null,
   "metadata": {
    "id": "eNS7occsYoiW"
   },
   "outputs": [],
   "source": [
    "from sklearn import preprocessing\n",
    "import pandas as pd\n",
    "\n",
    "le = preprocessing.LabelEncoder()\n",
    "dataF=dataF.apply(le.fit_transform)"
   ]
  },
  {
   "cell_type": "code",
   "execution_count": 14,
   "metadata": {
    "colab": {
     "base_uri": "https://localhost:8080/",
     "height": 132
    },
    "executionInfo": {
     "elapsed": 1350,
     "status": "ok",
     "timestamp": 1613840779309,
     "user": {
      "displayName": "Furqan Rustam",
      "photoUrl": "https://lh3.googleusercontent.com/a-/AOh14Gg5oat7XG884rtNww-Dgt4sEfDMp6vxfwes8ntbog=s64",
      "userId": "11638408104830397330"
     },
     "user_tz": -300
    },
    "id": "L8cyM6llYoiW",
    "outputId": "57177e26-5600-467d-de6e-5301684678da"
   },
   "outputs": [
    {
     "data": {
      "text/html": [
       "<div>\n",
       "<style scoped>\n",
       "    .dataframe tbody tr th:only-of-type {\n",
       "        vertical-align: middle;\n",
       "    }\n",
       "\n",
       "    .dataframe tbody tr th {\n",
       "        vertical-align: top;\n",
       "    }\n",
       "\n",
       "    .dataframe thead th {\n",
       "        text-align: right;\n",
       "    }\n",
       "</style>\n",
       "<table border=\"1\" class=\"dataframe\">\n",
       "  <thead>\n",
       "    <tr style=\"text-align: right;\">\n",
       "      <th></th>\n",
       "      <th>f0</th>\n",
       "      <th>f1</th>\n",
       "      <th>f2</th>\n",
       "      <th>f3</th>\n",
       "      <th>f4</th>\n",
       "      <th>f5</th>\n",
       "      <th>f6</th>\n",
       "      <th>f7</th>\n",
       "      <th>f8</th>\n",
       "      <th>f9</th>\n",
       "      <th>f10</th>\n",
       "      <th>f11</th>\n",
       "      <th>f12</th>\n",
       "      <th>f13</th>\n",
       "      <th>f14</th>\n",
       "      <th>f15</th>\n",
       "      <th>f16</th>\n",
       "      <th>f17</th>\n",
       "      <th>f18</th>\n",
       "      <th>f19</th>\n",
       "      <th>f20</th>\n",
       "      <th>f21</th>\n",
       "      <th>f22</th>\n",
       "      <th>f23</th>\n",
       "      <th>f24</th>\n",
       "      <th>f25</th>\n",
       "      <th>f26</th>\n",
       "      <th>f27</th>\n",
       "      <th>f28</th>\n",
       "      <th>f29</th>\n",
       "    </tr>\n",
       "  </thead>\n",
       "  <tbody>\n",
       "    <tr>\n",
       "      <th>0</th>\n",
       "      <td>-34076.546559</td>\n",
       "      <td>-8224.989249</td>\n",
       "      <td>-3326.002898</td>\n",
       "      <td>-1670.955659</td>\n",
       "      <td>31.932957</td>\n",
       "      <td>1492.750867</td>\n",
       "      <td>-17.500300</td>\n",
       "      <td>-574.636839</td>\n",
       "      <td>100.679926</td>\n",
       "      <td>-61.716269</td>\n",
       "      <td>-54.787456</td>\n",
       "      <td>-192.001639</td>\n",
       "      <td>49.921045</td>\n",
       "      <td>-84.778219</td>\n",
       "      <td>61.645593</td>\n",
       "      <td>42.669846</td>\n",
       "      <td>93.213570</td>\n",
       "      <td>-21.021412</td>\n",
       "      <td>9.143736</td>\n",
       "      <td>-22.684489</td>\n",
       "      <td>-15.890189</td>\n",
       "      <td>-4.389971</td>\n",
       "      <td>-2.562875</td>\n",
       "      <td>-1.375288</td>\n",
       "      <td>-1.282683</td>\n",
       "      <td>0.862600</td>\n",
       "      <td>1.402457</td>\n",
       "      <td>-0.347386</td>\n",
       "      <td>1.078057</td>\n",
       "      <td>1.211749</td>\n",
       "    </tr>\n",
       "    <tr>\n",
       "      <th>1</th>\n",
       "      <td>-34385.270713</td>\n",
       "      <td>-8095.326334</td>\n",
       "      <td>-3656.372901</td>\n",
       "      <td>-1932.878977</td>\n",
       "      <td>18.608311</td>\n",
       "      <td>1446.356225</td>\n",
       "      <td>-358.814606</td>\n",
       "      <td>-364.127052</td>\n",
       "      <td>431.079880</td>\n",
       "      <td>469.194905</td>\n",
       "      <td>22.575979</td>\n",
       "      <td>-59.559601</td>\n",
       "      <td>194.568495</td>\n",
       "      <td>-565.647215</td>\n",
       "      <td>557.056752</td>\n",
       "      <td>203.267142</td>\n",
       "      <td>468.100083</td>\n",
       "      <td>-97.827253</td>\n",
       "      <td>40.147443</td>\n",
       "      <td>-9.782846</td>\n",
       "      <td>-14.584927</td>\n",
       "      <td>-23.482293</td>\n",
       "      <td>-4.563935</td>\n",
       "      <td>-7.506609</td>\n",
       "      <td>0.341560</td>\n",
       "      <td>2.195337</td>\n",
       "      <td>3.016091</td>\n",
       "      <td>-2.752021</td>\n",
       "      <td>-0.645518</td>\n",
       "      <td>1.157425</td>\n",
       "    </tr>\n",
       "  </tbody>\n",
       "</table>\n",
       "</div>"
      ],
      "text/plain": [
       "             f0           f1           f2  ...       f27       f28       f29\n",
       "0 -34076.546559 -8224.989249 -3326.002898  ... -0.347386  1.078057  1.211749\n",
       "1 -34385.270713 -8095.326334 -3656.372901  ... -2.752021 -0.645518  1.157425\n",
       "\n",
       "[2 rows x 30 columns]"
      ]
     },
     "execution_count": 14,
     "metadata": {
      "tags": []
     },
     "output_type": "execute_result"
    }
   ],
   "source": [
    "data1[:2]"
   ]
  },
  {
   "cell_type": "code",
   "execution_count": 16,
   "metadata": {
    "colab": {
     "base_uri": "https://localhost:8080/"
    },
    "executionInfo": {
     "elapsed": 908,
     "status": "ok",
     "timestamp": 1613840820290,
     "user": {
      "displayName": "Furqan Rustam",
      "photoUrl": "https://lh3.googleusercontent.com/a-/AOh14Gg5oat7XG884rtNww-Dgt4sEfDMp6vxfwes8ntbog=s64",
      "userId": "11638408104830397330"
     },
     "user_tz": -300
    },
    "id": "rEf_f_R7YoiX",
    "outputId": "9229ce99-1567-4d09-8444-9c12ebfb7837"
   },
   "outputs": [
    {
     "data": {
      "text/plain": [
       "Counter({0: 37000, 1: 45332, 2: 30000, 3: 30000})"
      ]
     },
     "execution_count": 16,
     "metadata": {
      "tags": []
     },
     "output_type": "execute_result"
    }
   ],
   "source": [
    "from collections import Counter\n",
    "Counter(target1)"
   ]
  },
  {
   "cell_type": "code",
   "execution_count": 18,
   "metadata": {
    "executionInfo": {
     "elapsed": 1693,
     "status": "ok",
     "timestamp": 1613840847534,
     "user": {
      "displayName": "Furqan Rustam",
      "photoUrl": "https://lh3.googleusercontent.com/a-/AOh14Gg5oat7XG884rtNww-Dgt4sEfDMp6vxfwes8ntbog=s64",
      "userId": "11638408104830397330"
     },
     "user_tz": -300
    },
    "id": "GHjTChdtYoiY"
   },
   "outputs": [],
   "source": [
    "from sklearn.model_selection import train_test_split\n",
    "X_train, X_test, y_train, y_test = train_test_split(data1, target1, test_size=0.30, random_state=1, stratify=target1, shuffle=True)"
   ]
  },
  {
   "cell_type": "code",
   "execution_count": 19,
   "metadata": {
    "colab": {
     "base_uri": "https://localhost:8080/"
    },
    "executionInfo": {
     "elapsed": 1692,
     "status": "ok",
     "timestamp": 1613840859030,
     "user": {
      "displayName": "Furqan Rustam",
      "photoUrl": "https://lh3.googleusercontent.com/a-/AOh14Gg5oat7XG884rtNww-Dgt4sEfDMp6vxfwes8ntbog=s64",
      "userId": "11638408104830397330"
     },
     "user_tz": -300
    },
    "id": "SV0rxUlcYoiZ",
    "outputId": "7474ebd9-4bf1-4033-b736-34c4ed789d22"
   },
   "outputs": [
    {
     "name": "stdout",
     "output_type": "stream",
     "text": [
      "Number transactions X_train dataset:  (99632, 30)\n",
      "Number transactions y_train dataset:  (99632,)\n",
      "Number transactions X_test dataset:  (42700, 30)\n",
      "Number transactions y_test dataset:  (42700,)\n"
     ]
    }
   ],
   "source": [
    "\n",
    "\n",
    "\n",
    "print(\"Number transactions X_train dataset: \", X_train.shape)\n",
    "print(\"Number transactions y_train dataset: \", y_train.shape)\n",
    "print(\"Number transactions X_test dataset: \", X_test.shape)\n",
    "print(\"Number transactions y_test dataset: \", y_test.shape)"
   ]
  },
  {
   "cell_type": "code",
   "execution_count": null,
   "metadata": {
    "id": "Z0dUO8Z3YoiZ"
   },
   "outputs": [],
   "source": []
  },
  {
   "cell_type": "code",
   "execution_count": null,
   "metadata": {
    "id": "z_7XrKIAYoia"
   },
   "outputs": [],
   "source": []
  },
  {
   "cell_type": "code",
   "execution_count": 20,
   "metadata": {
    "colab": {
     "base_uri": "https://localhost:8080/",
     "height": 132
    },
    "executionInfo": {
     "elapsed": 1670,
     "status": "ok",
     "timestamp": 1613840863211,
     "user": {
      "displayName": "Furqan Rustam",
      "photoUrl": "https://lh3.googleusercontent.com/a-/AOh14Gg5oat7XG884rtNww-Dgt4sEfDMp6vxfwes8ntbog=s64",
      "userId": "11638408104830397330"
     },
     "user_tz": -300
    },
    "id": "y-QaXoeeYoia",
    "outputId": "392614b0-42cd-42e6-9667-27f21e6ccc41"
   },
   "outputs": [
    {
     "data": {
      "text/html": [
       "<div>\n",
       "<style scoped>\n",
       "    .dataframe tbody tr th:only-of-type {\n",
       "        vertical-align: middle;\n",
       "    }\n",
       "\n",
       "    .dataframe tbody tr th {\n",
       "        vertical-align: top;\n",
       "    }\n",
       "\n",
       "    .dataframe thead th {\n",
       "        text-align: right;\n",
       "    }\n",
       "</style>\n",
       "<table border=\"1\" class=\"dataframe\">\n",
       "  <thead>\n",
       "    <tr style=\"text-align: right;\">\n",
       "      <th></th>\n",
       "      <th>f0</th>\n",
       "      <th>f1</th>\n",
       "      <th>f2</th>\n",
       "      <th>f3</th>\n",
       "      <th>f4</th>\n",
       "      <th>f5</th>\n",
       "      <th>f6</th>\n",
       "      <th>f7</th>\n",
       "      <th>f8</th>\n",
       "      <th>f9</th>\n",
       "      <th>f10</th>\n",
       "      <th>f11</th>\n",
       "      <th>f12</th>\n",
       "      <th>f13</th>\n",
       "      <th>f14</th>\n",
       "      <th>f15</th>\n",
       "      <th>f16</th>\n",
       "      <th>f17</th>\n",
       "      <th>f18</th>\n",
       "      <th>f19</th>\n",
       "      <th>f20</th>\n",
       "      <th>f21</th>\n",
       "      <th>f22</th>\n",
       "      <th>f23</th>\n",
       "      <th>f24</th>\n",
       "      <th>f25</th>\n",
       "      <th>f26</th>\n",
       "      <th>f27</th>\n",
       "      <th>f28</th>\n",
       "      <th>f29</th>\n",
       "    </tr>\n",
       "  </thead>\n",
       "  <tbody>\n",
       "    <tr>\n",
       "      <th>96012</th>\n",
       "      <td>-993.024227</td>\n",
       "      <td>-1538.080898</td>\n",
       "      <td>-2849.891662</td>\n",
       "      <td>-678.648461</td>\n",
       "      <td>-2585.126283</td>\n",
       "      <td>-693.670684</td>\n",
       "      <td>-843.992547</td>\n",
       "      <td>89.876954</td>\n",
       "      <td>-796.562749</td>\n",
       "      <td>450.498066</td>\n",
       "      <td>241.947926</td>\n",
       "      <td>-62.530670</td>\n",
       "      <td>-70.212089</td>\n",
       "      <td>9.151641</td>\n",
       "      <td>-44.879142</td>\n",
       "      <td>-198.900460</td>\n",
       "      <td>-148.421859</td>\n",
       "      <td>-8.545234</td>\n",
       "      <td>-100.171691</td>\n",
       "      <td>-118.232672</td>\n",
       "      <td>-47.098777</td>\n",
       "      <td>24.248097</td>\n",
       "      <td>-28.482537</td>\n",
       "      <td>28.260913</td>\n",
       "      <td>-96.987277</td>\n",
       "      <td>-82.199360</td>\n",
       "      <td>-8.058055</td>\n",
       "      <td>11.070114</td>\n",
       "      <td>-2.299134</td>\n",
       "      <td>6.534362</td>\n",
       "    </tr>\n",
       "    <tr>\n",
       "      <th>132646</th>\n",
       "      <td>-1192.285738</td>\n",
       "      <td>1734.798964</td>\n",
       "      <td>1982.769133</td>\n",
       "      <td>-1240.832931</td>\n",
       "      <td>663.375381</td>\n",
       "      <td>919.721819</td>\n",
       "      <td>-1272.273198</td>\n",
       "      <td>-59.367191</td>\n",
       "      <td>-204.389465</td>\n",
       "      <td>-137.441596</td>\n",
       "      <td>578.787164</td>\n",
       "      <td>-572.328026</td>\n",
       "      <td>58.830736</td>\n",
       "      <td>24.670712</td>\n",
       "      <td>-5.851637</td>\n",
       "      <td>251.242593</td>\n",
       "      <td>-293.558137</td>\n",
       "      <td>-153.532287</td>\n",
       "      <td>-58.319268</td>\n",
       "      <td>-20.007298</td>\n",
       "      <td>-4.225427</td>\n",
       "      <td>1.821814</td>\n",
       "      <td>-103.913697</td>\n",
       "      <td>49.413630</td>\n",
       "      <td>75.819999</td>\n",
       "      <td>42.353958</td>\n",
       "      <td>26.023078</td>\n",
       "      <td>-42.755256</td>\n",
       "      <td>-24.214171</td>\n",
       "      <td>19.222293</td>\n",
       "    </tr>\n",
       "  </tbody>\n",
       "</table>\n",
       "</div>"
      ],
      "text/plain": [
       "                 f0           f1           f2  ...        f27        f28        f29\n",
       "96012   -993.024227 -1538.080898 -2849.891662  ...  11.070114  -2.299134   6.534362\n",
       "132646 -1192.285738  1734.798964  1982.769133  ... -42.755256 -24.214171  19.222293\n",
       "\n",
       "[2 rows x 30 columns]"
      ]
     },
     "execution_count": 20,
     "metadata": {
      "tags": []
     },
     "output_type": "execute_result"
    }
   ],
   "source": [
    "X_train[:2]"
   ]
  },
  {
   "cell_type": "code",
   "execution_count": 21,
   "metadata": {
    "executionInfo": {
     "elapsed": 1690,
     "status": "ok",
     "timestamp": 1613840875989,
     "user": {
      "displayName": "Furqan Rustam",
      "photoUrl": "https://lh3.googleusercontent.com/a-/AOh14Gg5oat7XG884rtNww-Dgt4sEfDMp6vxfwes8ntbog=s64",
      "userId": "11638408104830397330"
     },
     "user_tz": -300
    },
    "id": "crhJXjb8Yoib"
   },
   "outputs": [],
   "source": [
    "from sklearn.metrics import accuracy_score\n",
    "from sklearn.metrics import classification_report\n",
    "from sklearn.metrics import confusion_matrix\n",
    "from sklearn.metrics import accuracy_score\n",
    "from sklearn.metrics import precision_score\n",
    "from sklearn.metrics import recall_score\n",
    "from sklearn.metrics import f1_score"
   ]
  },
  {
   "cell_type": "code",
   "execution_count": 22,
   "metadata": {
    "colab": {
     "base_uri": "https://localhost:8080/"
    },
    "executionInfo": {
     "elapsed": 704846,
     "status": "ok",
     "timestamp": 1613841589218,
     "user": {
      "displayName": "Furqan Rustam",
      "photoUrl": "https://lh3.googleusercontent.com/a-/AOh14Gg5oat7XG884rtNww-Dgt4sEfDMp6vxfwes8ntbog=s64",
      "userId": "11638408104830397330"
     },
     "user_tz": -300
    },
    "id": "bYfoPmU0Yoib",
    "outputId": "9398a6ee-6803-4994-d149-820bbd85da84",
    "scrolled": true
   },
   "outputs": [
    {
     "name": "stdout",
     "output_type": "stream",
     "text": [
      "GBM\n",
      "0.9835362997658079\n",
      "              precision    recall  f1-score   support\n",
      "\n",
      "           0       0.97      0.98      0.97     11100\n",
      "           1       0.98      0.97      0.98     13600\n",
      "           2       0.99      0.99      0.99      9000\n",
      "           3       0.99      0.99      0.99      9000\n",
      "\n",
      "    accuracy                           0.98     42700\n",
      "   macro avg       0.98      0.99      0.98     42700\n",
      "weighted avg       0.98      0.98      0.98     42700\n",
      "\n",
      "[[10876   224     0     0]\n",
      " [  378 13222     0     0]\n",
      " [    0     0  8950    50]\n",
      " [    0     0    51  8949]]\n"
     ]
    }
   ],
   "source": [
    "from sklearn.ensemble import GradientBoostingClassifier\n",
    "a = GradientBoostingClassifier(max_depth=8, learning_rate=0.1, n_estimators=50, random_state=2)\n",
    "print(\"GBM\")\n",
    "a_pred = a.fit(X_train, y_train)\n",
    "pred=a_pred.predict(X_test)\n",
    "print(accuracy_score(y_test,pred))\n",
    "print(classification_report(y_test,pred))\n",
    "print(confusion_matrix(y_test,pred))"
   ]
  },
  {
   "cell_type": "code",
   "execution_count": null,
   "metadata": {
    "id": "cY8ZgeeSYoib"
   },
   "outputs": [],
   "source": []
  },
  {
   "cell_type": "code",
   "execution_count": 23,
   "metadata": {
    "colab": {
     "base_uri": "https://localhost:8080/"
    },
    "executionInfo": {
     "elapsed": 37714,
     "status": "ok",
     "timestamp": 1613841626952,
     "user": {
      "displayName": "Furqan Rustam",
      "photoUrl": "https://lh3.googleusercontent.com/a-/AOh14Gg5oat7XG884rtNww-Dgt4sEfDMp6vxfwes8ntbog=s64",
      "userId": "11638408104830397330"
     },
     "user_tz": -300
    },
    "id": "9q76L2VBYoic",
    "outputId": "ad9e5ec3-bd9c-42fe-8650-6234c9a3d7b3"
   },
   "outputs": [
    {
     "name": "stdout",
     "output_type": "stream",
     "text": [
      "ETC\n",
      "0.9807494145199063\n",
      "              precision    recall  f1-score   support\n",
      "\n",
      "           0       0.95      0.98      0.97     11100\n",
      "           1       0.99      0.96      0.97     13600\n",
      "           2       0.99      1.00      1.00      9000\n",
      "           3       1.00      0.99      1.00      9000\n",
      "\n",
      "    accuracy                           0.98     42700\n",
      "   macro avg       0.98      0.98      0.98     42700\n",
      "weighted avg       0.98      0.98      0.98     42700\n",
      "\n",
      "[[10906   194     0     0]\n",
      " [  543 13057     0     0]\n",
      " [    0     0  8963    37]\n",
      " [    0     0    48  8952]]\n"
     ]
    }
   ],
   "source": [
    "from sklearn.ensemble import GradientBoostingClassifier\n",
    "from sklearn.ensemble import RandomForestClassifier\n",
    "from sklearn.ensemble import ExtraTreesClassifier\n",
    "a =  ExtraTreesClassifier(n_estimators=250, random_state=27, max_depth=150)\n",
    "print(\"ETC\")\n",
    "a_pred = a.fit(X_train, y_train)\n",
    "pred=a_pred.predict(X_test)\n",
    "print(accuracy_score(y_test,pred))\n",
    "print(classification_report(y_test,pred))\n",
    "print(confusion_matrix(y_test,pred))\n"
   ]
  },
  {
   "cell_type": "code",
   "execution_count": null,
   "metadata": {
    "id": "Pp2j62JIYoid"
   },
   "outputs": [],
   "source": []
  },
  {
   "cell_type": "code",
   "execution_count": 24,
   "metadata": {
    "colab": {
     "base_uri": "https://localhost:8080/"
    },
    "executionInfo": {
     "elapsed": 147207,
     "status": "ok",
     "timestamp": 1613841765408,
     "user": {
      "displayName": "Furqan Rustam",
      "photoUrl": "https://lh3.googleusercontent.com/a-/AOh14Gg5oat7XG884rtNww-Dgt4sEfDMp6vxfwes8ntbog=s64",
      "userId": "11638408104830397330"
     },
     "user_tz": -300
    },
    "id": "QByidYD-Yoid",
    "outputId": "7855b45e-ad8c-4c65-cf87-3bebeaf4d005"
   },
   "outputs": [
    {
     "name": "stdout",
     "output_type": "stream",
     "text": [
      "0.9834660421545668\n",
      "              precision    recall  f1-score   support\n",
      "\n",
      "           0       0.96      0.98      0.97     11100\n",
      "           1       0.99      0.97      0.98     13600\n",
      "           2       0.99      1.00      1.00      9000\n",
      "           3       1.00      0.99      1.00      9000\n",
      "\n",
      "    accuracy                           0.98     42700\n",
      "   macro avg       0.98      0.99      0.99     42700\n",
      "weighted avg       0.98      0.98      0.98     42700\n",
      "\n",
      "[[10915   185     0     0]\n",
      " [  444 13156     0     0]\n",
      " [    0     0  8973    27]\n",
      " [    0     0    50  8950]]\n"
     ]
    }
   ],
   "source": [
    "from sklearn.ensemble import GradientBoostingClassifier\n",
    "from sklearn.ensemble import RandomForestClassifier\n",
    "from sklearn.ensemble import ExtraTreesClassifier\n",
    "a =  RandomForestClassifier(n_estimators=200, random_state=2,max_depth=150) \n",
    "a_pred = a.fit(X_train, y_train)\n",
    "pred=a_pred.predict(X_test)\n",
    "print(accuracy_score(y_test,pred))\n",
    "print(classification_report(y_test,pred))\n",
    "print(confusion_matrix(y_test,pred))\n"
   ]
  },
  {
   "cell_type": "code",
   "execution_count": null,
   "metadata": {
    "id": "dtwAkfHXYoid"
   },
   "outputs": [],
   "source": []
  },
  {
   "cell_type": "code",
   "execution_count": null,
   "metadata": {
    "id": "ygqlwDNRYoid"
   },
   "outputs": [],
   "source": []
  },
  {
   "cell_type": "code",
   "execution_count": null,
   "metadata": {
    "id": "SJkiBnLwYoie"
   },
   "outputs": [],
   "source": []
  },
  {
   "cell_type": "code",
   "execution_count": 25,
   "metadata": {
    "colab": {
     "base_uri": "https://localhost:8080/"
    },
    "executionInfo": {
     "elapsed": 148765,
     "status": "ok",
     "timestamp": 1613841770414,
     "user": {
      "displayName": "Furqan Rustam",
      "photoUrl": "https://lh3.googleusercontent.com/a-/AOh14Gg5oat7XG884rtNww-Dgt4sEfDMp6vxfwes8ntbog=s64",
      "userId": "11638408104830397330"
     },
     "user_tz": -300
    },
    "id": "LzzB2M0xYoif",
    "outputId": "ccc8a57d-0208-4800-96b0-3ed67ac19dd0"
   },
   "outputs": [
    {
     "name": "stdout",
     "output_type": "stream",
     "text": [
      "0.9371194379391101\n",
      "              precision    recall  f1-score   support\n",
      "\n",
      "           0       0.87      0.91      0.89     11100\n",
      "           1       0.92      0.89      0.91     13600\n",
      "           2       0.99      0.99      0.99      9000\n",
      "           3       0.99      0.99      0.99      9000\n",
      "\n",
      "    accuracy                           0.94     42700\n",
      "   macro avg       0.94      0.94      0.94     42700\n",
      "weighted avg       0.94      0.94      0.94     42700\n",
      "\n",
      "[[10077  1023     0     0]\n",
      " [ 1474 12125     0     1]\n",
      " [    0     0  8872   128]\n",
      " [    0     0    59  8941]]\n"
     ]
    }
   ],
   "source": [
    "from sklearn.ensemble import GradientBoostingClassifier\n",
    "from sklearn.ensemble import RandomForestClassifier\n",
    "from sklearn.neighbors import KNeighborsClassifier\n",
    "a = KNeighborsClassifier(n_neighbors=3)\n",
    "a_pred = a.fit(X_train, y_train)\n",
    "pred=a_pred.predict(X_test)\n",
    "print(accuracy_score(y_test,pred))\n",
    "print(classification_report(y_test,pred))\n",
    "print(confusion_matrix(y_test,pred))"
   ]
  },
  {
   "cell_type": "code",
   "execution_count": null,
   "metadata": {
    "id": "oGYsH6ADYoif"
   },
   "outputs": [],
   "source": []
  },
  {
   "cell_type": "code",
   "execution_count": 26,
   "metadata": {
    "colab": {
     "base_uri": "https://localhost:8080/"
    },
    "executionInfo": {
     "elapsed": 189397,
     "status": "ok",
     "timestamp": 1613841813395,
     "user": {
      "displayName": "Furqan Rustam",
      "photoUrl": "https://lh3.googleusercontent.com/a-/AOh14Gg5oat7XG884rtNww-Dgt4sEfDMp6vxfwes8ntbog=s64",
      "userId": "11638408104830397330"
     },
     "user_tz": -300
    },
    "id": "eUght0blYoig",
    "outputId": "c38ea4d9-9f50-44f3-e4f7-ed7169fb87a7"
   },
   "outputs": [
    {
     "name": "stdout",
     "output_type": "stream",
     "text": [
      "0.4606791569086651\n",
      "              precision    recall  f1-score   support\n",
      "\n",
      "           0       0.42      0.60      0.49     11100\n",
      "           1       0.51      0.67      0.58     13600\n",
      "           2       0.34      0.15      0.21      9000\n",
      "           3       0.51      0.29      0.37      9000\n",
      "\n",
      "    accuracy                           0.46     42700\n",
      "   macro avg       0.45      0.43      0.41     42700\n",
      "weighted avg       0.45      0.46      0.43     42700\n",
      "\n",
      "[[6655 1494 1336 1615]\n",
      " [2903 9061  983  653]\n",
      " [2908 4467 1355  270]\n",
      " [3538 2596  266 2600]]\n"
     ]
    }
   ],
   "source": [
    "from sklearn.linear_model import SGDClassifier\n",
    "a = SGDClassifier()\n",
    "a_pred = a.fit(X_train, y_train)\n",
    "pred=a_pred.predict(X_test)\n",
    "print(accuracy_score(y_test,pred))\n",
    "print(classification_report(y_test,pred))\n",
    "print(confusion_matrix(y_test,pred))"
   ]
  },
  {
   "cell_type": "code",
   "execution_count": null,
   "metadata": {
    "id": "ul---9uRYoig"
   },
   "outputs": [],
   "source": []
  },
  {
   "cell_type": "code",
   "execution_count": 27,
   "metadata": {
    "colab": {
     "base_uri": "https://localhost:8080/"
    },
    "executionInfo": {
     "elapsed": 1343,
     "status": "ok",
     "timestamp": 1613841814757,
     "user": {
      "displayName": "Furqan Rustam",
      "photoUrl": "https://lh3.googleusercontent.com/a-/AOh14Gg5oat7XG884rtNww-Dgt4sEfDMp6vxfwes8ntbog=s64",
      "userId": "11638408104830397330"
     },
     "user_tz": -300
    },
    "id": "fYkjeuwwYoig",
    "outputId": "c295162a-1045-4751-e770-3f04da9bb2ee"
   },
   "outputs": [
    {
     "name": "stdout",
     "output_type": "stream",
     "text": [
      "0.785831381733021\n",
      "              precision    recall  f1-score   support\n",
      "\n",
      "           0       0.70      0.83      0.76     11100\n",
      "           1       0.84      0.71      0.77     13600\n",
      "           2       0.93      0.69      0.79      9000\n",
      "           3       0.75      0.95      0.84      9000\n",
      "\n",
      "    accuracy                           0.79     42700\n",
      "   macro avg       0.80      0.79      0.79     42700\n",
      "weighted avg       0.80      0.79      0.78     42700\n",
      "\n",
      "[[9195 1884    0   21]\n",
      " [3963 9625    4    8]\n",
      " [   0    0 6201 2799]\n",
      " [   0    0  466 8534]]\n"
     ]
    }
   ],
   "source": [
    "from sklearn.naive_bayes import GaussianNB\n",
    "a = GaussianNB()\n",
    "a_pred = a.fit(X_train, y_train)\n",
    "pred=a_pred.predict(X_test)\n",
    "print(accuracy_score(y_test,pred))\n",
    "print(classification_report(y_test,pred))\n",
    "print(confusion_matrix(y_test,pred))"
   ]
  },
  {
   "cell_type": "code",
   "execution_count": null,
   "metadata": {
    "id": "KQZSEU_GYoii"
   },
   "outputs": [],
   "source": []
  },
  {
   "cell_type": "code",
   "execution_count": 28,
   "metadata": {
    "colab": {
     "base_uri": "https://localhost:8080/"
    },
    "executionInfo": {
     "elapsed": 8647,
     "status": "ok",
     "timestamp": 1613841822070,
     "user": {
      "displayName": "Furqan Rustam",
      "photoUrl": "https://lh3.googleusercontent.com/a-/AOh14Gg5oat7XG884rtNww-Dgt4sEfDMp6vxfwes8ntbog=s64",
      "userId": "11638408104830397330"
     },
     "user_tz": -300
    },
    "id": "XT8eOukKYoij",
    "outputId": "3b2b738e-2603-4134-b36c-d51f50da2d99"
   },
   "outputs": [
    {
     "name": "stdout",
     "output_type": "stream",
     "text": [
      "0.9657377049180328\n",
      "              precision    recall  f1-score   support\n",
      "\n",
      "           0       0.94      0.95      0.95     11100\n",
      "           1       0.96      0.95      0.95     13600\n",
      "           2       0.99      0.99      0.99      9000\n",
      "           3       0.99      0.99      0.99      9000\n",
      "\n",
      "    accuracy                           0.97     42700\n",
      "   macro avg       0.97      0.97      0.97     42700\n",
      "weighted avg       0.97      0.97      0.97     42700\n",
      "\n",
      "[[10510   586     2     2]\n",
      " [  628 12958    10     4]\n",
      " [    3     2  8879   116]\n",
      " [    1     2   107  8890]]\n"
     ]
    }
   ],
   "source": [
    "from sklearn.tree import DecisionTreeClassifier\n",
    "a = DecisionTreeClassifier()\n",
    "a_pred = a.fit(X_train, y_train)\n",
    "pred=a_pred.predict(X_test)\n",
    "print(accuracy_score(y_test,pred))\n",
    "print(classification_report(y_test,pred))\n",
    "print(confusion_matrix(y_test,pred))"
   ]
  },
  {
   "cell_type": "code",
   "execution_count": null,
   "metadata": {
    "id": "NAfYewA9Yoik"
   },
   "outputs": [],
   "source": []
  },
  {
   "cell_type": "code",
   "execution_count": 29,
   "metadata": {
    "colab": {
     "base_uri": "https://localhost:8080/"
    },
    "executionInfo": {
     "elapsed": 39234,
     "status": "ok",
     "timestamp": 1613841852669,
     "user": {
      "displayName": "Furqan Rustam",
      "photoUrl": "https://lh3.googleusercontent.com/a-/AOh14Gg5oat7XG884rtNww-Dgt4sEfDMp6vxfwes8ntbog=s64",
      "userId": "11638408104830397330"
     },
     "user_tz": -300
    },
    "id": "947JCYV6Yoik",
    "outputId": "4f3eaa15-b6dc-4549-ec35-ad1f50996bba"
   },
   "outputs": [
    {
     "name": "stderr",
     "output_type": "stream",
     "text": [
      "/usr/local/lib/python3.6/dist-packages/sklearn/linear_model/_sag.py:330: ConvergenceWarning:\n",
      "\n",
      "The max_iter was reached which means the coef_ did not converge\n",
      "\n",
      "/usr/local/lib/python3.6/dist-packages/sklearn/linear_model/_sag.py:330: ConvergenceWarning:\n",
      "\n",
      "The max_iter was reached which means the coef_ did not converge\n",
      "\n",
      "/usr/local/lib/python3.6/dist-packages/sklearn/linear_model/_sag.py:330: ConvergenceWarning:\n",
      "\n",
      "The max_iter was reached which means the coef_ did not converge\n",
      "\n"
     ]
    },
    {
     "name": "stdout",
     "output_type": "stream",
     "text": [
      "0.6499297423887588\n",
      "              precision    recall  f1-score   support\n",
      "\n",
      "           0       0.60      0.68      0.64     11100\n",
      "           1       0.67      0.72      0.70     13600\n",
      "           2       0.66      0.56      0.61      9000\n",
      "           3       0.68      0.59      0.63      9000\n",
      "\n",
      "    accuracy                           0.65     42700\n",
      "   macro avg       0.65      0.64      0.64     42700\n",
      "weighted avg       0.65      0.65      0.65     42700\n",
      "\n",
      "[[7545 2389  749  417]\n",
      " [2364 9834  783  619]\n",
      " [ 523 1904 5067 1506]\n",
      " [2191  452 1051 5306]]\n"
     ]
    },
    {
     "name": "stderr",
     "output_type": "stream",
     "text": [
      "/usr/local/lib/python3.6/dist-packages/sklearn/linear_model/_sag.py:330: ConvergenceWarning:\n",
      "\n",
      "The max_iter was reached which means the coef_ did not converge\n",
      "\n"
     ]
    }
   ],
   "source": [
    "from sklearn.linear_model import LogisticRegression\n",
    "a=LogisticRegression(random_state=1000, solver='sag',multi_class='ovr',C=2.0)\n",
    "a_pred = a.fit(X_train, y_train)\n",
    "pred=a_pred.predict(X_test)\n",
    "print(accuracy_score(y_test,pred))\n",
    "print(classification_report(y_test,pred))\n",
    "print(confusion_matrix(y_test,pred))"
   ]
  },
  {
   "cell_type": "code",
   "execution_count": null,
   "metadata": {
    "id": "xUlZFmBtYoim"
   },
   "outputs": [],
   "source": []
  },
  {
   "cell_type": "code",
   "execution_count": null,
   "metadata": {
    "id": "X1lmyLl1Yoim",
    "outputId": "24414d32-6c24-443c-9b51-2e5d085c1d47"
   },
   "outputs": [
    {
     "name": "stdout",
     "output_type": "stream",
     "text": [
      ">lr 0.960 (0.002)\n",
      ">knn 0.990 (0.001)\n",
      ">cart 1.000 (0.000)\n",
      ">svm 0.685 (0.004)\n",
      ">bayes 0.996 (0.001)\n"
     ]
    },
    {
     "data": {
      "image/png": "[encoded data removed]",
      "text/plain": [
       "<Figure size 432x288 with 1 Axes>"
      ]
     },
     "metadata": {
      "needs_background": "light",
      "tags": []
     },
     "output_type": "display_data"
    }
   ],
   "source": [
    "# compare standalone models for binary classification\n",
    "from numpy import mean\n",
    "from numpy import std\n",
    "from sklearn.datasets import make_classification\n",
    "from sklearn.model_selection import cross_val_score\n",
    "from sklearn.model_selection import RepeatedStratifiedKFold\n",
    "from sklearn.linear_model import LogisticRegression\n",
    "from sklearn.neighbors import KNeighborsClassifier\n",
    "from sklearn.tree import DecisionTreeClassifier\n",
    "from sklearn.svm import SVC\n",
    "from sklearn.naive_bayes import GaussianNB\n",
    "from matplotlib import pyplot\n",
    "\n",
    "# get the dataset\n",
    "def get_dataset():\n",
    "\tX, y = make_classification(n_samples=1000, n_features=20, n_informative=15, n_redundant=5, random_state=1)\n",
    "\treturn dataF, target1\n",
    "\n",
    "# get a list of models to evaluate\n",
    "def get_models():\n",
    "\tmodels = dict()\n",
    "\tmodels['lr'] = LogisticRegression()\n",
    "\tmodels['knn'] = KNeighborsClassifier()\n",
    "\tmodels['cart'] = DecisionTreeClassifier()\n",
    "\tmodels['svm'] = SVC()\n",
    "\tmodels['bayes'] = GaussianNB()\n",
    "\treturn models\n",
    "\n",
    "# evaluate a given model using cross-validation\n",
    "def evaluate_model(model, X, y):\n",
    "\tcv = RepeatedStratifiedKFold(n_splits=10, n_repeats=3, random_state=1)\n",
    "\tscores = cross_val_score(model, X, y, scoring='accuracy', cv=cv, n_jobs=-1, error_score='raise')\n",
    "\treturn scores\n",
    "\n",
    "# define dataset\n",
    "X, y = get_dataset()\n",
    "# get the models to evaluate\n",
    "models = get_models()\n",
    "# evaluate the models and store results\n",
    "results, names = list(), list()\n",
    "for name, model in models.items():\n",
    "\tscores = evaluate_model(model, X, y)\n",
    "\tresults.append(scores)\n",
    "\tnames.append(name)\n",
    "\tprint('>%s %.3f (%.3f)' % (name, mean(scores), std(scores)))\n",
    "# plot model performance for comparison\n",
    "pyplot.boxplot(results, labels=names, showmeans=True)\n",
    "pyplot.show()"
   ]
  },
  {
   "cell_type": "code",
   "execution_count": null,
   "metadata": {
    "id": "4z7TJT6DYojd"
   },
   "outputs": [],
   "source": [
    "from sklearn import linear_model\n",
    "from sklearn.linear_model import LogisticRegression\n",
    "from sklearn.ensemble import ExtraTreesClassifier\n",
    "from sklearn.neighbors import KNeighborsClassifier\n",
    "from sklearn.svm import SVC, LinearSVC, NuSVC\n",
    "from sklearn.tree import DecisionTreeClassifier\n",
    "from sklearn.ensemble import RandomForestClassifier, AdaBoostClassifier, GradientBoostingClassifier\n",
    "from sklearn.naive_bayes import GaussianNB\n",
    "from sklearn.discriminant_analysis import LinearDiscriminantAnalysis\n",
    "from sklearn.discriminant_analysis import QuadraticDiscriminantAnalysis\n",
    "from sklearn.metrics import accuracy_score\n",
    "from sklearn.calibration import CalibratedClassifierCV\n",
    "from sklearn.linear_model import SGDClassifier\n",
    "from sklearn.ensemble import RandomForestClassifier, VotingClassifier"
   ]
  },
  {
   "cell_type": "code",
   "execution_count": null,
   "metadata": {
    "id": "t-wO-3dfYojd"
   },
   "outputs": [],
   "source": [
    "clf = SGDClassifier(loss='log')\n",
    "lr=LogisticRegression()\n",
    "\n",
    "Classifiers = [\n",
    "    CalibratedClassifierCV(clf, cv=5, method='isotonic'),\n",
    "    VotingClassifier(estimators=[('lr', lr), ('clf', clf),],voting='hard'),\n",
    "    LogisticRegression( solver='liblinear',multi_class='ovr',C=3.0),\n",
    "    ExtraTreesClassifier(n_estimators=500, random_state=5),\n",
    "    SVC(kernel='linear', C=2.0, random_state=500),\n",
    "    DecisionTreeClassifier(),\n",
    "    RandomForestClassifier(n_estimators=200,max_depth=100),\n",
    "    GradientBoostingClassifier(max_depth=100, learning_rate=0.1, n_estimators=50, random_state=52),\n",
    "    AdaBoostClassifier(n_estimators=100, random_state=5),\n",
    "    GaussianNB(),\n",
    "    linear_model.SGDClassifier(max_iter=1000, tol=1e-3)\n",
    "]"
   ]
  },
  {
   "cell_type": "code",
   "execution_count": null,
   "metadata": {
    "id": "UHkBMCXtYoje",
    "outputId": "fdc99058-bd07-407f-ce27-d5ff431fa723"
   },
   "outputs": [
    {
     "name": "stdout",
     "output_type": "stream",
     "text": [
      "Accuracy: CalibratedClassifierCV 0.9765272652726528\n",
      "Precision:  CalibratedClassifierCV 0.9834162520729685\n",
      "Recall: CalibratedClassifierCV 0.9695483343552013\n",
      "F1 score: CalibratedClassifierCV 0.9764330554697952\n",
      "==========================================\n"
     ]
    },
    {
     "name": "stderr",
     "output_type": "stream",
     "text": [
      "E:\\Python\\lib\\site-packages\\sklearn\\linear_model\\logistic.py:432: FutureWarning:\n",
      "\n",
      "Default solver will be changed to 'lbfgs' in 0.22. Specify a solver to silence this warning.\n",
      "\n"
     ]
    },
    {
     "name": "stdout",
     "output_type": "stream",
     "text": [
      "Accuracy: VotingClassifier 0.9765272652726528\n",
      "Precision:  VotingClassifier 0.9834162520729685\n",
      "Recall: VotingClassifier 0.9695483343552013\n",
      "F1 score: VotingClassifier 0.9764330554697952\n",
      "==========================================\n",
      "Accuracy: LogisticRegression 0.9765272652726528\n",
      "Precision:  LogisticRegression 0.9834162520729685\n",
      "Recall: LogisticRegression 0.9695483343552013\n",
      "F1 score: LogisticRegression 0.9764330554697952\n",
      "==========================================\n",
      "Accuracy: ExtraTreesClassifier 0.9765272652726528\n",
      "Precision:  ExtraTreesClassifier 0.9834162520729685\n",
      "Recall: ExtraTreesClassifier 0.9695483343552013\n",
      "F1 score: ExtraTreesClassifier 0.9764330554697952\n",
      "==========================================\n",
      "Accuracy: SVC 0.9765272652726528\n",
      "Precision:  SVC 0.9834162520729685\n",
      "Recall: SVC 0.9695483343552013\n",
      "F1 score: SVC 0.9764330554697952\n",
      "==========================================\n",
      "Accuracy: DecisionTreeClassifier 0.9765272652726528\n",
      "Precision:  DecisionTreeClassifier 0.9834162520729685\n",
      "Recall: DecisionTreeClassifier 0.9695483343552013\n",
      "F1 score: DecisionTreeClassifier 0.9764330554697952\n",
      "==========================================\n",
      "Accuracy: RandomForestClassifier 0.9765272652726528\n",
      "Precision:  RandomForestClassifier 0.9834162520729685\n",
      "Recall: RandomForestClassifier 0.9695483343552013\n",
      "F1 score: RandomForestClassifier 0.9764330554697952\n",
      "==========================================\n",
      "Accuracy: GradientBoostingClassifier 0.9765272652726528\n",
      "Precision:  GradientBoostingClassifier 0.9834162520729685\n",
      "Recall: GradientBoostingClassifier 0.9695483343552013\n",
      "F1 score: GradientBoostingClassifier 0.9764330554697952\n",
      "==========================================\n",
      "Accuracy: AdaBoostClassifier 0.9765272652726528\n",
      "Precision:  AdaBoostClassifier 0.9834162520729685\n",
      "Recall: AdaBoostClassifier 0.9695483343552013\n",
      "F1 score: AdaBoostClassifier 0.9764330554697952\n",
      "==========================================\n",
      "Accuracy: GaussianNB 0.9765272652726528\n",
      "Precision:  GaussianNB 0.9834162520729685\n",
      "Recall: GaussianNB 0.9695483343552013\n",
      "F1 score: GaussianNB 0.9764330554697952\n",
      "==========================================\n",
      "Accuracy: SGDClassifier 0.9765272652726528\n",
      "Precision:  SGDClassifier 0.9834162520729685\n",
      "Recall: SGDClassifier 0.9695483343552013\n",
      "F1 score: SGDClassifier 0.9764330554697952\n",
      "==========================================\n"
     ]
    }
   ],
   "source": [
    "Accuracy=[]\n",
    "Model=[]\n",
    "for classifier in Classifiers:\n",
    "    fit = classifier.fit(X_train,y_train)\n",
    "    pred = fit.predict(X_test)\n",
    "   \n",
    "    #print(classification_report(pred,y_test))\n",
    "    accuracy = accuracy_score(y_test, y_pred_class)\n",
    "    print('Accuracy:',classifier.__class__.__name__, accuracy)\n",
    "    # precision tp / (tp + fp)\n",
    "    precision = precision_score(y_test, y_pred_class)\n",
    "    print('Precision: ',classifier.__class__.__name__, precision)\n",
    "    # recall: tp / (tp + fn)\n",
    "    recall = recall_score(y_test, y_pred_class)\n",
    "    print('Recall:' ,classifier.__class__.__name__,recall)\n",
    "    # f1: 2 tp / (2 tp + fp + fn)\n",
    "    f1 = f1_score(y_test, y_pred_class)\n",
    "    print('F1 score:' ,classifier.__class__.__name__,f1)  \n",
    "    print(\"==========================================\")"
   ]
  },
  {
   "cell_type": "code",
   "execution_count": null,
   "metadata": {
    "id": "dvvBRCCaYoje"
   },
   "outputs": [],
   "source": []
  }
 ],
 "metadata": {
  "colab": {
   "name": "Networks-IoT.ipynb",
   "provenance": []
  },
  "kernelspec": {
   "display_name": "Python 3 (ipykernel)",
   "language": "python",
   "name": "python3"
  },
  "language_info": {
   "codemirror_mode": {
    "name": "ipython",
    "version": 3
   },
   "file_extension": ".py",
   "mimetype": "text/x-python",
   "name": "python",
   "nbconvert_exporter": "python",
   "pygments_lexer": "ipython3",
   "version": "3.11.4"
  }
 },
 "nbformat": 4,
 "nbformat_minor": 1
}
