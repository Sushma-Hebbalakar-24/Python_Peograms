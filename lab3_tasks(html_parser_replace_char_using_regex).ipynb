{
 "cells": [
  {
   "cell_type": "markdown",
   "id": "0fbbbe27",
   "metadata": {},
   "source": [
    "# Libraries"
   ]
  },
  {
   "cell_type": "code",
   "execution_count": 120,
   "id": "50a6078b",
   "metadata": {},
   "outputs": [],
   "source": [
    "import requests\n",
    "from bs4 import BeautifulSoup\n",
    "import pandas as pd\n",
    "import csv\n",
    "import string\n",
    "import re\n",
    "import json"
   ]
  },
  {
   "cell_type": "markdown",
   "id": "9c24819e",
   "metadata": {},
   "source": [
    "# Extract Data using BeautifulSoup"
   ]
  },
  {
   "cell_type": "code",
   "execution_count": 121,
   "id": "4cb6a016",
   "metadata": {},
   "outputs": [],
   "source": [
    "url = \"https://www.seoclarity.net/blog/structured-data-common-issues\"  # Replace with the URL of the website you want to scrape\n",
    "response=requests.get(url)\n",
    "soup= BeautifulSoup(response.text,'html.parser')\n",
    "#soup\n",
    "p=soup.find_all('p')\n",
    "#p"
   ]
  },
  {
   "cell_type": "markdown",
   "id": "f1602e74",
   "metadata": {},
   "source": [
    "# Extract text from paragraph and store in list"
   ]
  },
  {
   "cell_type": "code",
   "execution_count": 122,
   "id": "2dde6e47",
   "metadata": {},
   "outputs": [],
   "source": [
    "issues=[]\n",
    "for pi in p:\n",
    "    text = pi.get_text()\n",
    "    issues.append(text)\n",
    "#issues"
   ]
  },
  {
   "cell_type": "markdown",
   "id": "e32b9d25",
   "metadata": {},
   "source": [
    "# Remove punctuation from each paragraph"
   ]
  },
  {
   "cell_type": "code",
   "execution_count": 123,
   "id": "d7cfd822",
   "metadata": {},
   "outputs": [],
   "source": [
    "remove_punctuation = lambda x: re.sub(r'[^\\w\\s]','', x)\n",
    "remove_punctuations=[]\n",
    "for i in issues:\n",
    "    i=remove_punctuation(i)\n",
    "    remove_punctuations.append(i)\n",
    "#remove_punctuations"
   ]
  },
  {
   "cell_type": "markdown",
   "id": "d2a243c3",
   "metadata": {},
   "source": [
    "# Convert clean data into datafram and use dataframe column name 'text without punctuation'"
   ]
  },
  {
   "cell_type": "code",
   "execution_count": 136,
   "id": "71123e8b",
   "metadata": {},
   "outputs": [],
   "source": [
    "df=pd.DataFrame(remove_punctuations,columns=['text without punctuation'])\n",
    "#df\n"
   ]
  },
  {
   "cell_type": "markdown",
   "id": "d48b4e05",
   "metadata": {},
   "source": [
    "# Save datafram into csv file 'text without punctuation.csv'"
   ]
  },
  {
   "cell_type": "code",
   "execution_count": 137,
   "id": "22d63e7b",
   "metadata": {},
   "outputs": [],
   "source": [
    "df.to_csv('text without punctuation.csv',index=False)"
   ]
  },
  {
   "cell_type": "markdown",
   "id": "e684ebb3",
   "metadata": {},
   "source": [
    "#  Read file 'text without punctuation.csv' again "
   ]
  },
  {
   "cell_type": "code",
   "execution_count": 138,
   "id": "16aa5179",
   "metadata": {},
   "outputs": [
    {
     "data": {
      "text/html": [
       "<div>\n",
       "<style scoped>\n",
       "    .dataframe tbody tr th:only-of-type {\n",
       "        vertical-align: middle;\n",
       "    }\n",
       "\n",
       "    .dataframe tbody tr th {\n",
       "        vertical-align: top;\n",
       "    }\n",
       "\n",
       "    .dataframe thead th {\n",
       "        text-align: right;\n",
       "    }\n",
       "</style>\n",
       "<table border=\"1\" class=\"dataframe\">\n",
       "  <thead>\n",
       "    <tr style=\"text-align: right;\">\n",
       "      <th></th>\n",
       "      <th>text without punctuation</th>\n",
       "    </tr>\n",
       "  </thead>\n",
       "  <tbody>\n",
       "    <tr>\n",
       "      <th>0</th>\n",
       "      <td>Full power of seoClarity platform to scale ent...</td>\n",
       "    </tr>\n",
       "    <tr>\n",
       "      <th>1</th>\n",
       "      <td>Accurate reliable rank tracking with unlimited...</td>\n",
       "    </tr>\n",
       "    <tr>\n",
       "      <th>2</th>\n",
       "      <td>Access the entire search landscape and uncover...</td>\n",
       "    </tr>\n",
       "    <tr>\n",
       "      <th>3</th>\n",
       "      <td>Create relevant content and connect with your ...</td>\n",
       "    </tr>\n",
       "    <tr>\n",
       "      <th>4</th>\n",
       "      <td>Connect SEO efforts to measurable KPIs from ra...</td>\n",
       "    </tr>\n",
       "    <tr>\n",
       "      <th>...</th>\n",
       "      <td>...</td>\n",
       "    </tr>\n",
       "    <tr>\n",
       "      <th>61</th>\n",
       "      <td>And the results are there In all the sites in ...</td>\n",
       "    </tr>\n",
       "    <tr>\n",
       "      <th>62</th>\n",
       "      <td>When in place the simple addition can mean gre...</td>\n",
       "    </tr>\n",
       "    <tr>\n",
       "      <th>63</th>\n",
       "      <td>Subscribe to the blog to receive updates about</td>\n",
       "    </tr>\n",
       "    <tr>\n",
       "      <th>64</th>\n",
       "      <td>7738314500</td>\n",
       "    </tr>\n",
       "    <tr>\n",
       "      <th>65</th>\n",
       "      <td>PO Box 6143Buffalo Grove IL 60089</td>\n",
       "    </tr>\n",
       "  </tbody>\n",
       "</table>\n",
       "<p>66 rows × 1 columns</p>\n",
       "</div>"
      ],
      "text/plain": [
       "                             text without punctuation\n",
       "0   Full power of seoClarity platform to scale ent...\n",
       "1   Accurate reliable rank tracking with unlimited...\n",
       "2   Access the entire search landscape and uncover...\n",
       "3   Create relevant content and connect with your ...\n",
       "4   Connect SEO efforts to measurable KPIs from ra...\n",
       "..                                                ...\n",
       "61  And the results are there In all the sites in ...\n",
       "62  When in place the simple addition can mean gre...\n",
       "63     Subscribe to the blog to receive updates about\n",
       "64                                         7738314500\n",
       "65                  PO Box 6143Buffalo Grove IL 60089\n",
       "\n",
       "[66 rows x 1 columns]"
      ]
     },
     "execution_count": 138,
     "metadata": {},
     "output_type": "execute_result"
    }
   ],
   "source": [
    "df=pd.read_csv('text without punctuation.csv')\n",
    "df"
   ]
  },
  {
   "cell_type": "markdown",
   "id": "29b9f417",
   "metadata": {},
   "source": [
    "# Remove stopword using lambda function "
   ]
  },
  {
   "cell_type": "code",
   "execution_count": 139,
   "id": "96e011fe",
   "metadata": {},
   "outputs": [],
   "source": [
    "stopwords = [\"the\", \"and\", \"is\", \"in\", \"it\", \"to\", \"with\", \"this\"]\n",
    "#df['text without punctuation']"
   ]
  },
  {
   "cell_type": "code",
   "execution_count": 140,
   "id": "05d33151",
   "metadata": {},
   "outputs": [],
   "source": [
    "\n",
    "l1=df['text without punctuation'].tolist()\n",
    "\n"
   ]
  },
  {
   "cell_type": "code",
   "execution_count": 131,
   "id": "3fa28dbd",
   "metadata": {},
   "outputs": [
    {
     "data": {
      "text/plain": [
       "['Full power of seoClarity platform scale enterprise SEO earn search visibility you deserve provides all SEO data metrics capabilities seamlessly integrated for fastest most scalable insights',\n",
       " 'Accurate reliable rank tracking unlimited keyword capacity competitive comparisons rankings 180 countries',\n",
       " 'Access entire search landscape uncover content opportunities largest freshest keyword data set which covers 30 billion keywords 170 countries',\n",
       " 'Create relevant content connect your audience by leveraging industrys only builtin AIdriven content workflow',\n",
       " 'Connect SEO efforts measurable KPIs from rankings site conversions only interactive realtime SEO analytics platform',\n",
       " 'Create a strong site foundation an exceptional user experience only SEO platform that includes site audits unlimited crawls',\n",
       " 'Access rankings for any domain subdomain URL backlink index only SEO platform offer unlimited competitive comparisons',\n",
       " 'Nextgen SEO platform solves most fundamental roadblock achieving SEO results execution',\n",
       " 'Access entire seoClarity Data Ocean for your data science analysis or machine learning project',\n",
       " 'Incorporating schema markup on your site offers an incredible opportunity improve search visibility boost organic clickthrough rate CTR',\n",
       " 'tactic has benefits for users search engines alike but as Googles John Mueller commented a Google Webmaster hangout video implementing schema markup for rich results will not be getting any easier',\n",
       " 'fact will be getting harder more complicated',\n",
       " 'You can only benefit from schema markup if youve implemented fully without errors constantly make improvements have implemented properly so lets cover most common issues schema implementation',\n",
       " 'Heres list well cover Read on or jump a specific challenge that youre facing',\n",
       " 'Since structured data JSONLD easy implement separated from onsite text organizations sometimes do not realize that they need be tied together',\n",
       " 'Star Reviews for example are often listed on bottom of page or an additional click away from core landing page',\n",
       " 'these instances we see sites using schema markup add context text page without being uservisible text',\n",
       " 'While markup may appear SERPs often discovered whenever there an algorithm update or when Google actively crawls site',\n",
       " 'Googles response issue a warning via Google Search Console',\n",
       " 'However since markedup content hidden from user Google might consider practice as deceptive or misleading leading a manual action especially if a site owner has been warned but continues utilize following practice',\n",
       " 'Note According Google manual action will result structure data on page being ignored',\n",
       " 'Often companies assign an items rating information whole category For example a hotel might add one propertys ratings all of its hotels',\n",
       " 'practice can also be seen as manipulative lead a penalty',\n",
       " 'avoid manual action use markup for a specific product not a category or a list of products',\n",
       " 'If using schema markup on a series of products Google recommends ensuring that you are only listing toplevel topic aggregatingor averaging reviews ratings',\n",
       " 'Faced a lack of relevant reviews or testimonials incorporate into schema some companies produce their own reviews match what their competitors display SERPs',\n",
       " 'practice against Googles guidelines',\n",
       " 'past retailers would be able allow their customers post reviews instore but Google has gotten a lot smarter can now detect IP of user identify when reviews are potentially spam',\n",
       " 'Reviews must not be written or provided by business or content provider unless they are genuine independent unpaid editorial reviews',\n",
       " 'While we havent seen a lot of sites receive warnings these instances Google has their own system of detecting not including those reviews their overall rankings algorithm may decrease amount of impressions or even decrease rank of your website as a whole',\n",
       " 'Recommended Reading What How Why for Review Schema',\n",
       " 'often case which team simply does not know that category markup product markup are very different have different markup logic use cases',\n",
       " 'case review rating average of all reviews on a page rather than an individual value for a specific item',\n",
       " 'Once again I can understand logic behind marking up ratings way However another practice against Googles guidelines one we often see on category pages',\n",
       " 'Recommended Reading A Look at Product Review Schema for Ecommerce SEO',\n",
       " 'Often its tempting amend pages content based on user detection International sites often need adapt prices based on a specific IP address even update content based on demographic information of their user',\n",
       " 'But once again doing so can be perceived as a manipulative action ideal scenario that markup remains same cross sites different locations',\n",
       " 'Sites that are using AngularJS need ensure that schema markup added into header passed through DOM or utilizes thirdparty script ensure code can be rendered on page such as ngData for example',\n",
       " 'httpsgithubcomvinaygopinathngMeta',\n",
       " 'Google will penalize a site if inserts attributes content into schema markup that not an exact match content on page',\n",
       " 'addition because above delays time for content render can appear Google that does not contain schema markup when fact does those instances has little no value for your site',\n",
       " 'Many schemaorg tags seem similar at first datePublished dateModified are a good example of Both describe a date relation contents publication',\n",
       " 'Yet they arent same One reveals when page went live originally other when content was updated last',\n",
       " 'As a result they play a different role your markup Unfortunately companies often confuse them assign wrong markup various page elements',\n",
       " 'nan',\n",
       " 'Weve covered some of most common schema implementation issues so now lets get along fixing them',\n",
       " 'Before you can fix schema issues you first need locate where issues are',\n",
       " 'You have a few options do Your first option Googles Rich Results Test',\n",
       " 'Google has a very good response rate identifying potential issues addition Google has provided a tool that will review content on a page extract any structured markup notify you of any potential errors',\n",
       " 'also tells you if your pageschema eligible for rich results on SERPs',\n",
       " 'order use tool you need make sure your security protocols are not blocking tool from rendering content',\n",
       " 'You can also crawl your site audit structured data at scale An allinone SEO platform should have crawling capability',\n",
       " 'nan',\n",
       " 'Locating schema issues at scale',\n",
       " 'will allow you locate schema markup across your pages',\n",
       " 'Free plugins like Schema Tester are also available locate any errors warning code',\n",
       " 'monitor schema performance use a dedicated SEO platform capability audit your site help you understand value of structured markup',\n",
       " 'seoClarity for example you can understand potential ROI from applying schema markup across site pages as well as benchmark measure success generates measured by increase of organic CTR',\n",
       " 'Our Traffic Potential tool allows you see what potential ROI as a result of increased conversions you can understand potential increase of adding structured data across certain page types identify estimated organic traffic increase even revenue',\n",
       " 'more accurately forecast benefit of structured data improvements I recommend you create a test set leave at least one page without structured data for cleaner KPIs',\n",
       " 'Companies often have an issue ensuring that code implemented fully appropriately order yield results',\n",
       " 'results are there all sites which we implemented schema markup we have seen between 2530 increases CTR understand that beneficial for your search visibility',\n",
       " 'When place simple addition can mean great things for your ROI more items that are marked schema more results you will see increased impressions clicks',\n",
       " 'Subscribe blog receive updates about',\n",
       " '7738314500',\n",
       " 'PO Box 6143Buffalo Grove IL 60089']"
      ]
     },
     "execution_count": 131,
     "metadata": {},
     "output_type": "execute_result"
    }
   ],
   "source": [
    "#remove_punctuation = lambda x: re.sub(r'[\"the\", \"and\", \"is\", \"in\", \"it\", \"to\", \"with\", \"this\"]', '', x)\n",
    "remove_words_lambda = lambda x: ' '.join(word for word in str(x).split() if word.lower() not in stopwords)\n",
    "removing_stopword=[]\n",
    "for i in l1:\n",
    "    i=remove_words_lambda(i)\n",
    "    removing_stopword.append(i)\n",
    "removing_stopword\n",
    "\n"
   ]
  },
  {
   "cell_type": "markdown",
   "id": "e4eea921",
   "metadata": {},
   "source": [
    "# Add text without stopwords into existing dataframe with column name 'text without punctuation'"
   ]
  },
  {
   "cell_type": "code",
   "execution_count": 141,
   "id": "989ce1f8",
   "metadata": {},
   "outputs": [
    {
     "data": {
      "text/html": [
       "<div>\n",
       "<style scoped>\n",
       "    .dataframe tbody tr th:only-of-type {\n",
       "        vertical-align: middle;\n",
       "    }\n",
       "\n",
       "    .dataframe tbody tr th {\n",
       "        vertical-align: top;\n",
       "    }\n",
       "\n",
       "    .dataframe thead th {\n",
       "        text-align: right;\n",
       "    }\n",
       "</style>\n",
       "<table border=\"1\" class=\"dataframe\">\n",
       "  <thead>\n",
       "    <tr style=\"text-align: right;\">\n",
       "      <th></th>\n",
       "      <th>text without punctuation</th>\n",
       "      <th>text without stopword</th>\n",
       "    </tr>\n",
       "  </thead>\n",
       "  <tbody>\n",
       "    <tr>\n",
       "      <th>0</th>\n",
       "      <td>Full power of seoClarity platform to scale ent...</td>\n",
       "      <td>Full power of seoClarity platform scale enterp...</td>\n",
       "    </tr>\n",
       "    <tr>\n",
       "      <th>1</th>\n",
       "      <td>Accurate reliable rank tracking with unlimited...</td>\n",
       "      <td>Accurate reliable rank tracking unlimited keyw...</td>\n",
       "    </tr>\n",
       "    <tr>\n",
       "      <th>2</th>\n",
       "      <td>Access the entire search landscape and uncover...</td>\n",
       "      <td>Access entire search landscape uncover content...</td>\n",
       "    </tr>\n",
       "    <tr>\n",
       "      <th>3</th>\n",
       "      <td>Create relevant content and connect with your ...</td>\n",
       "      <td>Create relevant content connect your audience ...</td>\n",
       "    </tr>\n",
       "    <tr>\n",
       "      <th>4</th>\n",
       "      <td>Connect SEO efforts to measurable KPIs from ra...</td>\n",
       "      <td>Connect SEO efforts measurable KPIs from ranki...</td>\n",
       "    </tr>\n",
       "    <tr>\n",
       "      <th>...</th>\n",
       "      <td>...</td>\n",
       "      <td>...</td>\n",
       "    </tr>\n",
       "    <tr>\n",
       "      <th>61</th>\n",
       "      <td>And the results are there In all the sites in ...</td>\n",
       "      <td>results are there all sites which we implement...</td>\n",
       "    </tr>\n",
       "    <tr>\n",
       "      <th>62</th>\n",
       "      <td>When in place the simple addition can mean gre...</td>\n",
       "      <td>When place simple addition can mean great thin...</td>\n",
       "    </tr>\n",
       "    <tr>\n",
       "      <th>63</th>\n",
       "      <td>Subscribe to the blog to receive updates about</td>\n",
       "      <td>Subscribe blog receive updates about</td>\n",
       "    </tr>\n",
       "    <tr>\n",
       "      <th>64</th>\n",
       "      <td>7738314500</td>\n",
       "      <td>7738314500</td>\n",
       "    </tr>\n",
       "    <tr>\n",
       "      <th>65</th>\n",
       "      <td>PO Box 6143Buffalo Grove IL 60089</td>\n",
       "      <td>PO Box 6143Buffalo Grove IL 60089</td>\n",
       "    </tr>\n",
       "  </tbody>\n",
       "</table>\n",
       "<p>66 rows × 2 columns</p>\n",
       "</div>"
      ],
      "text/plain": [
       "                             text without punctuation  \\\n",
       "0   Full power of seoClarity platform to scale ent...   \n",
       "1   Accurate reliable rank tracking with unlimited...   \n",
       "2   Access the entire search landscape and uncover...   \n",
       "3   Create relevant content and connect with your ...   \n",
       "4   Connect SEO efforts to measurable KPIs from ra...   \n",
       "..                                                ...   \n",
       "61  And the results are there In all the sites in ...   \n",
       "62  When in place the simple addition can mean gre...   \n",
       "63     Subscribe to the blog to receive updates about   \n",
       "64                                         7738314500   \n",
       "65                  PO Box 6143Buffalo Grove IL 60089   \n",
       "\n",
       "                                text without stopword  \n",
       "0   Full power of seoClarity platform scale enterp...  \n",
       "1   Accurate reliable rank tracking unlimited keyw...  \n",
       "2   Access entire search landscape uncover content...  \n",
       "3   Create relevant content connect your audience ...  \n",
       "4   Connect SEO efforts measurable KPIs from ranki...  \n",
       "..                                                ...  \n",
       "61  results are there all sites which we implement...  \n",
       "62  When place simple addition can mean great thin...  \n",
       "63               Subscribe blog receive updates about  \n",
       "64                                         7738314500  \n",
       "65                  PO Box 6143Buffalo Grove IL 60089  \n",
       "\n",
       "[66 rows x 2 columns]"
      ]
     },
     "execution_count": 141,
     "metadata": {},
     "output_type": "execute_result"
    }
   ],
   "source": [
    "#df=pd.DataFrame(removing_stopword, columns=['text without stopword'])\n",
    "df['text without stopword']=removing_stopword\n",
    "#df=pd.DataFrame({'text without stopword':removing_stopword,'text without punctuation':remove_punctuations})\n",
    "df\n"
   ]
  },
  {
   "cell_type": "markdown",
   "id": "9a267eea",
   "metadata": {},
   "source": [
    "# Save datafram into json file 'text without stopwords.json'"
   ]
  },
  {
   "cell_type": "code",
   "execution_count": 142,
   "id": "036f975c",
   "metadata": {},
   "outputs": [],
   "source": [
    "df.to_json('text without stopwords.json')"
   ]
  },
  {
   "cell_type": "markdown",
   "id": "316942fb",
   "metadata": {},
   "source": [
    "# Read file 'text without stopwords.json' again "
   ]
  },
  {
   "cell_type": "code",
   "execution_count": 143,
   "id": "043996d3",
   "metadata": {},
   "outputs": [
    {
     "data": {
      "text/html": [
       "<div>\n",
       "<style scoped>\n",
       "    .dataframe tbody tr th:only-of-type {\n",
       "        vertical-align: middle;\n",
       "    }\n",
       "\n",
       "    .dataframe tbody tr th {\n",
       "        vertical-align: top;\n",
       "    }\n",
       "\n",
       "    .dataframe thead th {\n",
       "        text-align: right;\n",
       "    }\n",
       "</style>\n",
       "<table border=\"1\" class=\"dataframe\">\n",
       "  <thead>\n",
       "    <tr style=\"text-align: right;\">\n",
       "      <th></th>\n",
       "      <th>text without punctuation</th>\n",
       "      <th>text without stopword</th>\n",
       "    </tr>\n",
       "  </thead>\n",
       "  <tbody>\n",
       "    <tr>\n",
       "      <th>0</th>\n",
       "      <td>Full power of seoClarity platform to scale ent...</td>\n",
       "      <td>Full power of seoClarity platform scale enterp...</td>\n",
       "    </tr>\n",
       "    <tr>\n",
       "      <th>1</th>\n",
       "      <td>Accurate reliable rank tracking with unlimited...</td>\n",
       "      <td>Accurate reliable rank tracking unlimited keyw...</td>\n",
       "    </tr>\n",
       "    <tr>\n",
       "      <th>2</th>\n",
       "      <td>Access the entire search landscape and uncover...</td>\n",
       "      <td>Access entire search landscape uncover content...</td>\n",
       "    </tr>\n",
       "    <tr>\n",
       "      <th>3</th>\n",
       "      <td>Create relevant content and connect with your ...</td>\n",
       "      <td>Create relevant content connect your audience ...</td>\n",
       "    </tr>\n",
       "    <tr>\n",
       "      <th>4</th>\n",
       "      <td>Connect SEO efforts to measurable KPIs from ra...</td>\n",
       "      <td>Connect SEO efforts measurable KPIs from ranki...</td>\n",
       "    </tr>\n",
       "    <tr>\n",
       "      <th>...</th>\n",
       "      <td>...</td>\n",
       "      <td>...</td>\n",
       "    </tr>\n",
       "    <tr>\n",
       "      <th>61</th>\n",
       "      <td>And the results are there In all the sites in ...</td>\n",
       "      <td>results are there all sites which we implement...</td>\n",
       "    </tr>\n",
       "    <tr>\n",
       "      <th>62</th>\n",
       "      <td>When in place the simple addition can mean gre...</td>\n",
       "      <td>When place simple addition can mean great thin...</td>\n",
       "    </tr>\n",
       "    <tr>\n",
       "      <th>63</th>\n",
       "      <td>Subscribe to the blog to receive updates about</td>\n",
       "      <td>Subscribe blog receive updates about</td>\n",
       "    </tr>\n",
       "    <tr>\n",
       "      <th>64</th>\n",
       "      <td>7738314500</td>\n",
       "      <td>7738314500</td>\n",
       "    </tr>\n",
       "    <tr>\n",
       "      <th>65</th>\n",
       "      <td>PO Box 6143Buffalo Grove IL 60089</td>\n",
       "      <td>PO Box 6143Buffalo Grove IL 60089</td>\n",
       "    </tr>\n",
       "  </tbody>\n",
       "</table>\n",
       "<p>66 rows × 2 columns</p>\n",
       "</div>"
      ],
      "text/plain": [
       "                             text without punctuation  \\\n",
       "0   Full power of seoClarity platform to scale ent...   \n",
       "1   Accurate reliable rank tracking with unlimited...   \n",
       "2   Access the entire search landscape and uncover...   \n",
       "3   Create relevant content and connect with your ...   \n",
       "4   Connect SEO efforts to measurable KPIs from ra...   \n",
       "..                                                ...   \n",
       "61  And the results are there In all the sites in ...   \n",
       "62  When in place the simple addition can mean gre...   \n",
       "63     Subscribe to the blog to receive updates about   \n",
       "64                                         7738314500   \n",
       "65                  PO Box 6143Buffalo Grove IL 60089   \n",
       "\n",
       "                                text without stopword  \n",
       "0   Full power of seoClarity platform scale enterp...  \n",
       "1   Accurate reliable rank tracking unlimited keyw...  \n",
       "2   Access entire search landscape uncover content...  \n",
       "3   Create relevant content connect your audience ...  \n",
       "4   Connect SEO efforts measurable KPIs from ranki...  \n",
       "..                                                ...  \n",
       "61  results are there all sites which we implement...  \n",
       "62  When place simple addition can mean great thin...  \n",
       "63               Subscribe blog receive updates about  \n",
       "64                                         7738314500  \n",
       "65                  PO Box 6143Buffalo Grove IL 60089  \n",
       "\n",
       "[66 rows x 2 columns]"
      ]
     },
     "execution_count": 143,
     "metadata": {},
     "output_type": "execute_result"
    }
   ],
   "source": [
    "pd.read_json('text without stopwords.json')"
   ]
  },
  {
   "cell_type": "markdown",
   "id": "0ecb6c97",
   "metadata": {},
   "source": [
    "# Remove numbers using regular expression "
   ]
  },
  {
   "cell_type": "code",
   "execution_count": 144,
   "id": "cbd9c2a9",
   "metadata": {},
   "outputs": [],
   "source": [
    "df['text without numbers']=df['text without stopword'].str.replace(r'\\d+','',regex=True)\n"
   ]
  },
  {
   "cell_type": "markdown",
   "id": "f40e6b2f",
   "metadata": {},
   "source": [
    "# Save datafram into xml file 'text without numbers.xml'"
   ]
  },
  {
   "cell_type": "code",
   "execution_count": 145,
   "id": "2c4df2d7",
   "metadata": {},
   "outputs": [],
   "source": [
    "df.columns=df.columns.str.replace(' ','_')#to change the colmn names\n",
    "df.to_xml('text without numbers.xml')"
   ]
  },
  {
   "cell_type": "code",
   "execution_count": 99,
   "id": "e4bf2ec4",
   "metadata": {},
   "outputs": [
    {
     "data": {
      "text/html": [
       "<div>\n",
       "<style scoped>\n",
       "    .dataframe tbody tr th:only-of-type {\n",
       "        vertical-align: middle;\n",
       "    }\n",
       "\n",
       "    .dataframe tbody tr th {\n",
       "        vertical-align: top;\n",
       "    }\n",
       "\n",
       "    .dataframe thead th {\n",
       "        text-align: right;\n",
       "    }\n",
       "</style>\n",
       "<table border=\"1\" class=\"dataframe\">\n",
       "  <thead>\n",
       "    <tr style=\"text-align: right;\">\n",
       "      <th></th>\n",
       "      <th>text_without_stopword</th>\n",
       "      <th>text_without_numbers</th>\n",
       "      <th>remove_punctuations</th>\n",
       "    </tr>\n",
       "  </thead>\n",
       "  <tbody>\n",
       "    <tr>\n",
       "      <th>0</th>\n",
       "      <td>Full power of seoClarity platform scale enterp...</td>\n",
       "      <td>Full power of seoClarity platform scale enterp...</td>\n",
       "      <td>Full power of seoClarity platform to scale ent...</td>\n",
       "    </tr>\n",
       "    <tr>\n",
       "      <th>1</th>\n",
       "      <td>Accurate reliable rank tracking unlimited keyw...</td>\n",
       "      <td>Accurate reliable rank tracking unlimited keyw...</td>\n",
       "      <td>Accurate reliable rank tracking with unlimited...</td>\n",
       "    </tr>\n",
       "    <tr>\n",
       "      <th>2</th>\n",
       "      <td>Access entire search landscape uncover content...</td>\n",
       "      <td>Access entire search landscape uncover content...</td>\n",
       "      <td>Access the entire search landscape and uncover...</td>\n",
       "    </tr>\n",
       "    <tr>\n",
       "      <th>3</th>\n",
       "      <td>Create relevant content connect your audience ...</td>\n",
       "      <td>Create relevant content connect your audience ...</td>\n",
       "      <td>Create relevant content and connect with your ...</td>\n",
       "    </tr>\n",
       "    <tr>\n",
       "      <th>4</th>\n",
       "      <td>Connect SEO efforts measurable KPIs from ranki...</td>\n",
       "      <td>Connect SEO efforts measurable KPIs from ranki...</td>\n",
       "      <td>Connect SEO efforts to measurable KPIs from ra...</td>\n",
       "    </tr>\n",
       "    <tr>\n",
       "      <th>...</th>\n",
       "      <td>...</td>\n",
       "      <td>...</td>\n",
       "      <td>...</td>\n",
       "    </tr>\n",
       "    <tr>\n",
       "      <th>61</th>\n",
       "      <td>results are there all sites which we implement...</td>\n",
       "      <td>results are there all sites which we implement...</td>\n",
       "      <td>And the results are there In all the sites in ...</td>\n",
       "    </tr>\n",
       "    <tr>\n",
       "      <th>62</th>\n",
       "      <td>When place simple addition can mean great thin...</td>\n",
       "      <td>When place simple addition can mean great thin...</td>\n",
       "      <td>When in place the simple addition can mean gre...</td>\n",
       "    </tr>\n",
       "    <tr>\n",
       "      <th>63</th>\n",
       "      <td>Subscribe blog receive updates about</td>\n",
       "      <td>Subscribe blog receive updates about</td>\n",
       "      <td>Subscribe to the blog to receive updates about</td>\n",
       "    </tr>\n",
       "    <tr>\n",
       "      <th>64</th>\n",
       "      <td>7738314500</td>\n",
       "      <td></td>\n",
       "      <td>7738314500</td>\n",
       "    </tr>\n",
       "    <tr>\n",
       "      <th>65</th>\n",
       "      <td>PO Box 6143Buffalo Grove IL 60089</td>\n",
       "      <td>PO Box Buffalo Grove IL</td>\n",
       "      <td>PO Box 6143Buffalo Grove IL 60089</td>\n",
       "    </tr>\n",
       "  </tbody>\n",
       "</table>\n",
       "<p>66 rows × 3 columns</p>\n",
       "</div>"
      ],
      "text/plain": [
       "                                text_without_stopword  \\\n",
       "0   Full power of seoClarity platform scale enterp...   \n",
       "1   Accurate reliable rank tracking unlimited keyw...   \n",
       "2   Access entire search landscape uncover content...   \n",
       "3   Create relevant content connect your audience ...   \n",
       "4   Connect SEO efforts measurable KPIs from ranki...   \n",
       "..                                                ...   \n",
       "61  results are there all sites which we implement...   \n",
       "62  When place simple addition can mean great thin...   \n",
       "63               Subscribe blog receive updates about   \n",
       "64                                         7738314500   \n",
       "65                  PO Box 6143Buffalo Grove IL 60089   \n",
       "\n",
       "                                 text_without_numbers  \\\n",
       "0   Full power of seoClarity platform scale enterp...   \n",
       "1   Accurate reliable rank tracking unlimited keyw...   \n",
       "2   Access entire search landscape uncover content...   \n",
       "3   Create relevant content connect your audience ...   \n",
       "4   Connect SEO efforts measurable KPIs from ranki...   \n",
       "..                                                ...   \n",
       "61  results are there all sites which we implement...   \n",
       "62  When place simple addition can mean great thin...   \n",
       "63               Subscribe blog receive updates about   \n",
       "64                                                      \n",
       "65                           PO Box Buffalo Grove IL    \n",
       "\n",
       "                                  remove_punctuations  \n",
       "0   Full power of seoClarity platform to scale ent...  \n",
       "1   Accurate reliable rank tracking with unlimited...  \n",
       "2   Access the entire search landscape and uncover...  \n",
       "3   Create relevant content and connect with your ...  \n",
       "4   Connect SEO efforts to measurable KPIs from ra...  \n",
       "..                                                ...  \n",
       "61  And the results are there In all the sites in ...  \n",
       "62  When in place the simple addition can mean gre...  \n",
       "63     Subscribe to the blog to receive updates about  \n",
       "64                                         7738314500  \n",
       "65                  PO Box 6143Buffalo Grove IL 60089  \n",
       "\n",
       "[66 rows x 3 columns]"
      ]
     },
     "execution_count": 99,
     "metadata": {},
     "output_type": "execute_result"
    }
   ],
   "source": [
    "df['remove_punctuations']=remove_punctuations\n",
    "df\n"
   ]
  },
  {
   "cell_type": "code",
   "execution_count": null,
   "id": "c1a5e4ca",
   "metadata": {},
   "outputs": [],
   "source": []
  }
 ],
 "metadata": {
  "kernelspec": {
   "display_name": "Python 3 (ipykernel)",
   "language": "python",
   "name": "python3"
  },
  "language_info": {
   "codemirror_mode": {
    "name": "ipython",
    "version": 3
   },
   "file_extension": ".py",
   "mimetype": "text/x-python",
   "name": "python",
   "nbconvert_exporter": "python",
   "pygments_lexer": "ipython3",
   "version": "3.11.4"
  }
 },
 "nbformat": 4,
 "nbformat_minor": 5
}
