{
 "cells": [
  {
   "cell_type": "markdown",
   "metadata": {
    "id": "qpIBAbJG5-AU"
   },
   "source": [
    "# Task 1\n",
    "# Create an empty list to store tasks."
   ]
  },
  {
   "cell_type": "code",
   "execution_count": 1,
   "metadata": {},
   "outputs": [],
   "source": [
    "tasks=[]"
   ]
  },
  {
   "cell_type": "markdown",
   "metadata": {
    "id": "r6mARBbb5a8w"
   },
   "source": [
    "# Task 2\n",
    "# Create a function to add a new task to the list.\n"
   ]
  },
  {
   "cell_type": "code",
   "execution_count": 2,
   "metadata": {},
   "outputs": [],
   "source": [
    "def add(task):\n",
    "    tasks.append(task)\n",
    "    print(f\"Task has been added\",task)"
   ]
  },
  {
   "cell_type": "markdown",
   "metadata": {
    "id": "Ts-gVroq5TrB"
   },
   "source": [
    "# Task 3\n",
    "# Create a function to list all the tasks."
   ]
  },
  {
   "cell_type": "code",
   "execution_count": 3,
   "metadata": {},
   "outputs": [],
   "source": [
    "def list_all():\n",
    "    if(len(tasks)==0):\n",
    "        print(\"No tasks available\\n\")\n",
    "    else:\n",
    "        for index,value in enumerate(tasks):\n",
    "            print(index+1,value)\n",
    "    "
   ]
  },
  {
   "cell_type": "markdown",
   "metadata": {
    "id": "A26nJkIE5Q8K"
   },
   "source": [
    "# Task 4\n",
    "# Create a function to mark a task as completed."
   ]
  },
  {
   "cell_type": "code",
   "execution_count": 4,
   "metadata": {},
   "outputs": [],
   "source": [
    "def task_completed(task):\n",
    "    if(len(tasks)==0):\n",
    "        return\n",
    "    else:\n",
    "        print(\"The task\",tasks[int(task)-1],\"is deleted\")\n",
    "        tasks.pop(int(task)-1)\n",
    "    "
   ]
  },
  {
   "cell_type": "markdown",
   "metadata": {
    "id": "tKsXUNp-5OMU"
   },
   "source": [
    "# Task 5\n",
    "# Create a function to clear all tasks."
   ]
  },
  {
   "cell_type": "code",
   "execution_count": 5,
   "metadata": {},
   "outputs": [],
   "source": [
    "def clear_tasks():\n",
    "    tasks.clear()"
   ]
  },
  {
   "cell_type": "markdown",
   "metadata": {
    "id": "6NOABkTV5Kz8"
   },
   "source": [
    "# Task 6\n",
    "# Create a function to display a menu for the user.\n",
    "\n"
   ]
  },
  {
   "cell_type": "code",
   "execution_count": 6,
   "metadata": {},
   "outputs": [],
   "source": [
    "def display_menu():\n",
    "    print(\"You can perform below operations:\\n 1.Add tasks \\n 2.Check avaialable tasks\\n 3.Mark task completed(will remove that tasks from list) \\n 4.Clear all tasks \\n 5.Do Nothing\")\n",
    "    option=input(\"What task would you like to do?\\nChose any option from 1-5:\")\n",
    "    if option==\"1\":\n",
    "        a=input(\"Enter task to be added:\")\n",
    "        add(a)\n",
    "    elif option==\"2\":\n",
    "        print(\"Below are the tasks available:\\n\")\n",
    "        list_all()\n",
    "    elif option==\"3\":\n",
    "        print(\"Below are the tasks available:\\n\")\n",
    "        list_all()\n",
    "        if(len(tasks)>0):\n",
    "            b=input((print(\"Enter the task number you want to mark as completed: This wll remove the task from list\")))\n",
    "            task_completed(b)\n",
    "    elif option==\"4\":\n",
    "        decision=input(print(\"You are about to clear all task:\\nDo you want to continue enter Y if Yes else N if No\\n\"))\n",
    "        if decision.upper()==\"Y\":\n",
    "            clear_tasks()\n",
    "            print(\"All tasks have been cleared\")\n",
    "        else:\n",
    "            print(\"List is not being deleted\")\n",
    "    elif option==\"5\":\n",
    "        print(\"Exiting without performing any operation:\")\n",
    "        return\n",
    "    else:\n",
    "        print(\"Enter Valid option\\n\")\n",
    "        display_menu()  \n",
    "    "
   ]
  },
  {
   "cell_type": "markdown",
   "metadata": {
    "id": "Vm6vxwzh5IHq"
   },
   "source": [
    "# Task 7\n",
    "# Create a loop for the menu."
   ]
  },
  {
   "cell_type": "code",
   "execution_count": 7,
   "metadata": {},
   "outputs": [
    {
     "name": "stdout",
     "output_type": "stream",
     "text": [
      "Would you like to perform any operation: Type Y for yes N for No\n",
      "y\n",
      "You can perform below operations:\n",
      " 1.Add tasks \n",
      " 2.Check avaialable tasks\n",
      " 3.Mark task completed(will remove that tasks from list) \n",
      " 4.Clear all tasks \n",
      " 5.Do Nothing\n",
      "What task would you like to do?\n",
      "Chose any option from 1-5:1\n",
      "Enter task to be added:read\n",
      "Task has been added read\n",
      "Would you like to perform any operation: Type Y for yes N for No\n",
      "y\n",
      "You can perform below operations:\n",
      " 1.Add tasks \n",
      " 2.Check avaialable tasks\n",
      " 3.Mark task completed(will remove that tasks from list) \n",
      " 4.Clear all tasks \n",
      " 5.Do Nothing\n",
      "What task would you like to do?\n",
      "Chose any option from 1-5:1\n",
      "Enter task to be added:study\n",
      "Task has been added study\n",
      "Would you like to perform any operation: Type Y for yes N for No\n",
      "y\n",
      "You can perform below operations:\n",
      " 1.Add tasks \n",
      " 2.Check avaialable tasks\n",
      " 3.Mark task completed(will remove that tasks from list) \n",
      " 4.Clear all tasks \n",
      " 5.Do Nothing\n",
      "What task would you like to do?\n",
      "Chose any option from 1-5:1\n",
      "Enter task to be added:write\n",
      "Task has been added write\n",
      "Would you like to perform any operation: Type Y for yes N for No\n",
      "y\n",
      "You can perform below operations:\n",
      " 1.Add tasks \n",
      " 2.Check avaialable tasks\n",
      " 3.Mark task completed(will remove that tasks from list) \n",
      " 4.Clear all tasks \n",
      " 5.Do Nothing\n",
      "What task would you like to do?\n",
      "Chose any option from 1-5:2\n",
      "Below are the tasks available:\n",
      "\n",
      "1 read\n",
      "2 study\n",
      "3 write\n",
      "Would you like to perform any operation: Type Y for yes N for No\n",
      "y\n",
      "You can perform below operations:\n",
      " 1.Add tasks \n",
      " 2.Check avaialable tasks\n",
      " 3.Mark task completed(will remove that tasks from list) \n",
      " 4.Clear all tasks \n",
      " 5.Do Nothing\n",
      "What task would you like to do?\n",
      "Chose any option from 1-5:3\n",
      "Below are the tasks available:\n",
      "\n",
      "1 read\n",
      "2 study\n",
      "3 write\n",
      "Enter the task number you want to mark as completed: This wll remove the task from list\n",
      "None3\n",
      "The task write is deleted\n",
      "Would you like to perform any operation: Type Y for yes N for No\n",
      "y\n",
      "You can perform below operations:\n",
      " 1.Add tasks \n",
      " 2.Check avaialable tasks\n",
      " 3.Mark task completed(will remove that tasks from list) \n",
      " 4.Clear all tasks \n",
      " 5.Do Nothing\n",
      "What task would you like to do?\n",
      "Chose any option from 1-5:4\n",
      "You are about to clear all task:\n",
      "Do you want to continue enter Y if Yes else N if No\n",
      "\n",
      "Noney\n",
      "All tasks have been cleared\n",
      "Would you like to perform any operation: Type Y for yes N for No\n",
      "y\n",
      "You can perform below operations:\n",
      " 1.Add tasks \n",
      " 2.Check avaialable tasks\n",
      " 3.Mark task completed(will remove that tasks from list) \n",
      " 4.Clear all tasks \n",
      " 5.Do Nothing\n",
      "What task would you like to do?\n",
      "Chose any option from 1-5:2\n",
      "Below are the tasks available:\n",
      "\n",
      "No tasks available\n",
      "\n",
      "Would you like to perform any operation: Type Y for yes N for No\n",
      "y\n",
      "You can perform below operations:\n",
      " 1.Add tasks \n",
      " 2.Check avaialable tasks\n",
      " 3.Mark task completed(will remove that tasks from list) \n",
      " 4.Clear all tasks \n",
      " 5.Do Nothing\n",
      "What task would you like to do?\n",
      "Chose any option from 1-5:5\n",
      "Exiting without performing any operation:\n",
      "Would you like to perform any operation: Type Y for yes N for No\n",
      "N\n",
      "You opted to perform no operation: Thank You\n"
     ]
    }
   ],
   "source": [
    "opt=input(\"Would you like to perform any operation: Type Y for yes N for No\\n\")\n",
    "while(opt.upper()!=\"N\"):\n",
    "    display_menu()\n",
    "    opt=input(\"Would you like to perform any operation: Type Y for yes N for No\\n\")\n",
    "print(\"You opted to perform no operation: Thank You\")"
   ]
  },
  {
   "cell_type": "code",
   "execution_count": null,
   "metadata": {},
   "outputs": [],
   "source": []
  },
  {
   "cell_type": "code",
   "execution_count": null,
   "metadata": {},
   "outputs": [],
   "source": []
  },
  {
   "cell_type": "code",
   "execution_count": null,
   "metadata": {},
   "outputs": [],
   "source": []
  },
  {
   "cell_type": "code",
   "execution_count": null,
   "metadata": {},
   "outputs": [],
   "source": []
  },
  {
   "cell_type": "code",
   "execution_count": null,
   "metadata": {},
   "outputs": [],
   "source": []
  },
  {
   "cell_type": "code",
   "execution_count": null,
   "metadata": {},
   "outputs": [],
   "source": []
  },
  {
   "cell_type": "code",
   "execution_count": null,
   "metadata": {},
   "outputs": [],
   "source": []
  }
 ],
 "metadata": {
  "colab": {
   "provenance": []
  },
  "kernelspec": {
   "display_name": "Python 3 (ipykernel)",
   "language": "python",
   "name": "python3"
  },
  "language_info": {
   "codemirror_mode": {
    "name": "ipython",
    "version": 3
   },
   "file_extension": ".py",
   "mimetype": "text/x-python",
   "name": "python",
   "nbconvert_exporter": "python",
   "pygments_lexer": "ipython3",
   "version": "3.11.4"
  }
 },
 "nbformat": 4,
 "nbformat_minor": 1
}
