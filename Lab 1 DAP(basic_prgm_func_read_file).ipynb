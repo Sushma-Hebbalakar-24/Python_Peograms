{
 "cells": [
  {
   "cell_type": "markdown",
   "id": "c5107a2d",
   "metadata": {},
   "source": [
    "# Basic Python Programming Concepts"
   ]
  },
  {
   "cell_type": "code",
   "execution_count": 1,
   "id": "56b7a696",
   "metadata": {},
   "outputs": [],
   "source": [
    "# Example of an imperative program\n",
    "def factorial(n):\n",
    "    +\n",
    "    for i in range(1, n + 1):\n",
    "        result *= i\n",
    "    return result\n",
    "\n",
    "# Example of a functional program\n",
    "def factorial_func(n):\n",
    "    if n == 0:\n",
    "        return 1\n",
    "    else:\n",
    "        return n * factorial_func(n - 1)\n"
   ]
  },
  {
   "cell_type": "code",
   "execution_count": null,
   "id": "03c0b9b7",
   "metadata": {},
   "outputs": [],
   "source": []
  },
  {
   "cell_type": "code",
   "execution_count": 5,
   "id": "d6af2952",
   "metadata": {},
   "outputs": [
    {
     "name": "stdout",
     "output_type": "stream",
     "text": [
      "apple\n",
      "apple\n",
      "banana\n",
      "cherry\n",
      "orange\n"
     ]
    }
   ],
   "source": [
    "# Creating a list\n",
    "fruits = ['apple', 'banana', 'cherry']\n",
    "\n",
    "# Accessing elements\n",
    "print(fruits[0])  # Prints 'apple'\n",
    "\n",
    "# Adding elements\n",
    "fruits.append('orange')\n",
    "\n",
    "# Looping through a list\n",
    "for fruit in fruits:\n",
    "    print(fruit)\n"
   ]
  },
  {
   "cell_type": "code",
   "execution_count": null,
   "id": "01d4711a",
   "metadata": {},
   "outputs": [],
   "source": []
  },
  {
   "cell_type": "code",
   "execution_count": 6,
   "id": "15d89261",
   "metadata": {},
   "outputs": [
    {
     "name": "stdout",
     "output_type": "stream",
     "text": [
      "x is greater than 5\n",
      "x is equal to 10\n"
     ]
    }
   ],
   "source": [
    "# If statement\n",
    "x = 10\n",
    "if x > 5:\n",
    "    print(\"x is greater than 5\")\n",
    "else:\n",
    "    print(\"x is not greater than 5\")\n",
    "\n",
    "# Using elif\n",
    "if x > 10:\n",
    "    print(\"x is greater than 10\")\n",
    "elif x == 10:\n",
    "    print(\"x is equal to 10\")\n",
    "else:\n",
    "    print(\"x is less than 10\")\n"
   ]
  },
  {
   "cell_type": "code",
   "execution_count": null,
   "id": "00aa8a22",
   "metadata": {},
   "outputs": [],
   "source": []
  },
  {
   "cell_type": "code",
   "execution_count": 7,
   "id": "a5dd4c23",
   "metadata": {},
   "outputs": [
    {
     "name": "stdout",
     "output_type": "stream",
     "text": [
      "0\n",
      "1\n",
      "2\n",
      "3\n",
      "4\n",
      "0\n",
      "1\n",
      "2\n",
      "3\n",
      "4\n"
     ]
    }
   ],
   "source": [
    "# For loop\n",
    "for i in range(5):\n",
    "    print(i)  # Prints numbers 0 to 4\n",
    "\n",
    "# While loop\n",
    "count = 0\n",
    "while count < 5:\n",
    "    print(count)\n",
    "    count += 1\n"
   ]
  },
  {
   "cell_type": "code",
   "execution_count": null,
   "id": "c3d4d0c5",
   "metadata": {},
   "outputs": [],
   "source": []
  },
  {
   "cell_type": "code",
   "execution_count": 8,
   "id": "4a234f7c",
   "metadata": {},
   "outputs": [
    {
     "name": "stdout",
     "output_type": "stream",
     "text": [
      "Hello, Alice\n"
     ]
    }
   ],
   "source": [
    "# Defining a function\n",
    "def greet(name):\n",
    "    return \"Hello, \" + name\n",
    "\n",
    "# Calling a function\n",
    "message = greet(\"Alice\")\n",
    "print(message)  # Prints \"Hello, Alice\"\n"
   ]
  },
  {
   "cell_type": "code",
   "execution_count": null,
   "id": "041d5857",
   "metadata": {},
   "outputs": [],
   "source": []
  },
  {
   "cell_type": "code",
   "execution_count": 9,
   "id": "1c85cbfb",
   "metadata": {},
   "outputs": [
    {
     "name": "stdout",
     "output_type": "stream",
     "text": [
      "Error: Division by zero\n"
     ]
    }
   ],
   "source": [
    "# Handling exceptions\n",
    "try:\n",
    "    result = 10 / 0\n",
    "except ZeroDivisionError:\n",
    "    print(\"Error: Division by zero\")\n"
   ]
  },
  {
   "cell_type": "code",
   "execution_count": null,
   "id": "53f82aad",
   "metadata": {},
   "outputs": [],
   "source": []
  },
  {
   "cell_type": "code",
   "execution_count": 10,
   "id": "ad7dbbbe",
   "metadata": {},
   "outputs": [],
   "source": [
    "# Concatenating strings\n",
    "str1 = \"Hello, \"\n",
    "str2 = \"World!\"\n",
    "combined_str = str1 + str2\n",
    "\n",
    "# String formatting\n",
    "name = \"Alice\"\n",
    "age = 30\n",
    "formatted_str = f\"My name is {name} and I am {age} years old.\"\n"
   ]
  },
  {
   "cell_type": "markdown",
   "id": "3f619c1a",
   "metadata": {},
   "source": [
    "# Data Manipulation with Pandas:"
   ]
  },
  {
   "cell_type": "code",
   "execution_count": 2,
   "id": "754e6d6d",
   "metadata": {},
   "outputs": [
    {
     "name": "stdout",
     "output_type": "stream",
     "text": [
      "0      Alice\n",
      "1        Bob\n",
      "2    Charlie\n",
      "Name: Name, dtype: object\n",
      "  Name  Age\n",
      "1  Bob   30\n",
      "Age\n",
      "22    1\n",
      "25    1\n",
      "30    1\n",
      "Name: Name, dtype: int64\n"
     ]
    }
   ],
   "source": [
    "import pandas as pd\n",
    "\n",
    "# Creating a DataFrame\n",
    "data = {'Name': ['Alice', 'Bob', 'Charlie'],\n",
    "        'Age': [25, 30, 22]}\n",
    "df = pd.DataFrame(data)\n",
    "\n",
    "# Selecting rows and columns\n",
    "print(df['Name'])\n",
    "print(df[df['Age'] > 25])\n",
    "\n",
    "# Grouping and aggregating data\n",
    "grouped = df.groupby('Age')\n",
    "print(grouped['Name'].count())\n"
   ]
  },
  {
   "cell_type": "code",
   "execution_count": null,
   "id": "39861783",
   "metadata": {},
   "outputs": [],
   "source": []
  },
  {
   "cell_type": "markdown",
   "id": "c6ab6a13",
   "metadata": {},
   "source": [
    "# Algorithm Design in Python"
   ]
  },
  {
   "cell_type": "code",
   "execution_count": 3,
   "id": "6ef2d222",
   "metadata": {},
   "outputs": [],
   "source": [
    "# Example of a simple greedy algorithm (finding the largest number in a list)\n",
    "def find_largest(numbers):\n",
    "    largest = numbers[0]\n",
    "    for num in numbers:\n",
    "        if num > largest:\n",
    "            largest = num\n",
    "    return largest\n"
   ]
  },
  {
   "cell_type": "markdown",
   "id": "bd7c54a1",
   "metadata": {},
   "source": [
    "# Program Input and Output:"
   ]
  },
  {
   "cell_type": "code",
   "execution_count": null,
   "id": "9f543e92",
   "metadata": {},
   "outputs": [],
   "source": [
    "# Reading data from a file\n",
    "with open('data.txt', 'r') as file:\n",
    "    data = file.read()\n",
    "\n",
    "# Writing data to a file\n",
    "with open('output.txt', 'w') as file:\n",
    "    file.write(\"Hello, World!\")\n",
    "\n",
    "# User input\n",
    "name = input(\"Enter your name: \")\n",
    "print(\"Hello, \" + name)\n"
   ]
  },
  {
   "cell_type": "code",
   "execution_count": null,
   "id": "5a3a60d8",
   "metadata": {},
   "outputs": [],
   "source": []
  }
 ],
 "metadata": {
  "kernelspec": {
   "display_name": "Python 3 (ipykernel)",
   "language": "python",
   "name": "python3"
  },
  "language_info": {
   "codemirror_mode": {
    "name": "ipython",
    "version": 3
   },
   "file_extension": ".py",
   "mimetype": "text/x-python",
   "name": "python",
   "nbconvert_exporter": "python",
   "pygments_lexer": "ipython3",
   "version": "3.11.4"
  }
 },
 "nbformat": 4,
 "nbformat_minor": 5
}
