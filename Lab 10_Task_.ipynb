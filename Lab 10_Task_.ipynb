{
 "cells": [
  {
   "cell_type": "code",
   "execution_count": 2,
   "metadata": {
    "colab": {
     "base_uri": "https://localhost:8080/"
    },
    "id": "OZJHxJ-Ehrw-",
    "outputId": "3c8e2f1e-23ce-40aa-bc9a-a4c0de2e4875"
   },
   "outputs": [
    {
     "name": "stdout",
     "output_type": "stream",
     "text": [
      "Collecting pyspark\n",
      "  Downloading pyspark-3.5.0.tar.gz (316.9 MB)\n",
      "\u001b[2K     \u001b[90m━━━━━━━━━━━━━━━━━━━━━━━━━━━━━━━━━━━━━━━━\u001b[0m \u001b[32m316.9/316.9 MB\u001b[0m \u001b[31m4.5 MB/s\u001b[0m eta \u001b[36m0:00:00\u001b[0m\n",
      "\u001b[?25h  Preparing metadata (setup.py) ... \u001b[?25l\u001b[?25hdone\n",
      "Requirement already satisfied: py4j==0.10.9.7 in /usr/local/lib/python3.10/dist-packages (from pyspark) (0.10.9.7)\n",
      "Building wheels for collected packages: pyspark\n",
      "  Building wheel for pyspark (setup.py) ... \u001b[?25l\u001b[?25hdone\n",
      "  Created wheel for pyspark: filename=pyspark-3.5.0-py2.py3-none-any.whl size=317425344 sha256=39224869eb94dab4c3c242134307dfe285d120751cdf9d166a3d515cf7b622ab\n",
      "  Stored in directory: /root/.cache/pip/wheels/41/4e/10/c2cf2467f71c678cfc8a6b9ac9241e5e44a01940da8fbb17fc\n",
      "Successfully built pyspark\n",
      "Installing collected packages: pyspark\n",
      "Successfully installed pyspark-3.5.0\n"
     ]
    }
   ],
   "source": [
    "pip install pyspark"
   ]
  },
  {
   "cell_type": "code",
   "execution_count": 1,
   "metadata": {
    "id": "6B-Rt680hgcK"
   },
   "outputs": [],
   "source": [
    "from pyspark import SparkContext"
   ]
  },
  {
   "cell_type": "code",
   "execution_count": 2,
   "metadata": {
    "id": "9rvq9lv3h6nj"
   },
   "outputs": [],
   "source": [
    "sc=SparkContext(\"local\", \"PySparkIntro\")"
   ]
  },
  {
   "cell_type": "code",
   "execution_count": 3,
   "metadata": {
    "id": "Klr16Y_ZiFuB"
   },
   "outputs": [],
   "source": [
    "from pyspark.sql import SparkSession\n",
    "spark=SparkSession.builder.appName(\"PySparkIntro\").getOrCreate()"
   ]
  },
  {
   "cell_type": "code",
   "execution_count": 4,
   "metadata": {
    "id": "-9AoXy5oiFxp"
   },
   "outputs": [],
   "source": [
    "data=[1,2,3,4,5]\n",
    "rdd=sc.parallelize(data)"
   ]
  },
  {
   "cell_type": "code",
   "execution_count": 5,
   "metadata": {
    "colab": {
     "base_uri": "https://localhost:8080/"
    },
    "id": "3MBI3ZDeq1WD",
    "outputId": "35312e89-b07b-47f4-bb55-74f135fd970b"
   },
   "outputs": [
    {
     "data": {
      "text/plain": [
       "PythonRDD[1] at RDD at PythonRDD.scala:53"
      ]
     },
     "execution_count": 5,
     "metadata": {},
     "output_type": "execute_result"
    }
   ],
   "source": [
    "squared_rdd=rdd.map(lambda x:x**2)\n",
    "squared_rdd"
   ]
  },
  {
   "cell_type": "code",
   "execution_count": 6,
   "metadata": {
    "colab": {
     "base_uri": "https://localhost:8080/"
    },
    "id": "UA1druxSq1gW",
    "outputId": "9c8e7c47-05a4-4271-8e6d-c55d7bcabff8"
   },
   "outputs": [
    {
     "data": {
      "text/plain": [
       "PythonRDD[2] at RDD at PythonRDD.scala:53"
      ]
     },
     "execution_count": 6,
     "metadata": {},
     "output_type": "execute_result"
    }
   ],
   "source": [
    "even_rdd=rdd.map(lambda x:x%2==0)\n",
    "even_rdd"
   ]
  },
  {
   "cell_type": "code",
   "execution_count": 7,
   "metadata": {
    "colab": {
     "base_uri": "https://localhost:8080/"
    },
    "id": "0bdu-KJXq1pU",
    "outputId": "549582c4-7e8d-456b-a8a9-17ea08b431f1"
   },
   "outputs": [
    {
     "data": {
      "text/plain": [
       "[1, 4, 9, 16, 25]"
      ]
     },
     "execution_count": 7,
     "metadata": {},
     "output_type": "execute_result"
    }
   ],
   "source": [
    "collected_data=squared_rdd.collect()\n",
    "collected_data"
   ]
  },
  {
   "cell_type": "code",
   "execution_count": 8,
   "metadata": {
    "colab": {
     "base_uri": "https://localhost:8080/"
    },
    "id": "yQ4o2M0nq1sj",
    "outputId": "da5387b4-d5ef-4ffc-dbd8-e6e45fd94969"
   },
   "outputs": [
    {
     "data": {
      "text/plain": [
       "5"
      ]
     },
     "execution_count": 8,
     "metadata": {},
     "output_type": "execute_result"
    }
   ],
   "source": [
    "num_element=squared_rdd.count()\n",
    "num_element"
   ]
  },
  {
   "cell_type": "code",
   "execution_count": 9,
   "metadata": {
    "id": "yoMmX4vBtCKL"
   },
   "outputs": [],
   "source": [
    "from pyspark.sql.types import StructType, StructField, StringType, IntegerType"
   ]
  },
  {
   "cell_type": "code",
   "execution_count": 10,
   "metadata": {
    "id": "AbO6_OzJtXSq"
   },
   "outputs": [],
   "source": [
    "schema=StructType([\n",
    "    StructField(\"Name\",StringType(),True),\n",
    "    StructField(\"Age\",IntegerType(),True),\n",
    "    StructField(\"Salary\",IntegerType(),True)\n",
    "])"
   ]
  },
  {
   "cell_type": "code",
   "execution_count": 11,
   "metadata": {
    "id": "chWLAz1CtXWB"
   },
   "outputs": [],
   "source": [
    "data=[(\"Alice\", 28, 45000),(\"Bob\", 36, 60000)]"
   ]
  },
  {
   "cell_type": "code",
   "execution_count": 12,
   "metadata": {
    "id": "aU0IL4H0u3y-"
   },
   "outputs": [],
   "source": [
    "ds=spark.createDataFrame(data,schema)"
   ]
  },
  {
   "cell_type": "code",
   "execution_count": 13,
   "metadata": {
    "id": "sbhSgntMu370"
   },
   "outputs": [],
   "source": [
    "ds=ds.alias('Employees')"
   ]
  },
  {
   "cell_type": "code",
   "execution_count": 14,
   "metadata": {
    "colab": {
     "base_uri": "https://localhost:8080/"
    },
    "id": "yyhzhgwwwMBy",
    "outputId": "e284833e-3b30-47dd-8884-08421e762644"
   },
   "outputs": [
    {
     "name": "stdout",
     "output_type": "stream",
     "text": [
      "+-----+---+------+\n",
      "| Name|Age|Salary|\n",
      "+-----+---+------+\n",
      "|Alice| 28| 45000|\n",
      "|  Bob| 36| 60000|\n",
      "+-----+---+------+\n",
      "\n"
     ]
    }
   ],
   "source": [
    "ds.show()"
   ]
  },
  {
   "cell_type": "code",
   "execution_count": 14,
   "metadata": {
    "id": "o8irBnwtwzBX"
   },
   "outputs": [],
   "source": []
  },
  {
   "cell_type": "code",
   "execution_count": 15,
   "metadata": {
    "colab": {
     "base_uri": "https://localhost:8080/"
    },
    "id": "Jvx50_50wzE-",
    "outputId": "4eebbaf1-3b78-40c6-9e37-4ca8a3088cac"
   },
   "outputs": [
    {
     "data": {
      "text/plain": [
       "DataFrame[PassengerId: int, Survived: int, Pclass: int, Name: string, Sex: string, Age: int, SibSp: int, Parch: int, Ticket: string, Fare: double, Cabin: string, Embarked: string]"
      ]
     },
     "execution_count": 15,
     "metadata": {},
     "output_type": "execute_result"
    }
   ],
   "source": [
    "df=spark.read.csv(\"/content/data1.csv\",header=True, inferSchema=True)\n",
    "df"
   ]
  },
  {
   "cell_type": "code",
   "execution_count": 17,
   "metadata": {
    "colab": {
     "base_uri": "https://localhost:8080/"
    },
    "id": "LARBc1WHwzIX",
    "outputId": "ec1a1469-e610-408d-a888-9f5147537bb1"
   },
   "outputs": [
    {
     "name": "stdout",
     "output_type": "stream",
     "text": [
      "+-----------+--------+------+--------------------+------+----+-----+-----+----------------+-------+-----+--------+\n",
      "|PassengerId|Survived|Pclass|                Name|   Sex| Age|SibSp|Parch|          Ticket|   Fare|Cabin|Embarked|\n",
      "+-----------+--------+------+--------------------+------+----+-----+-----+----------------+-------+-----+--------+\n",
      "|          1|       0|     3|Braund, Mr. Owen ...|  male|  22|    1|    0|       A/5 21171|   7.25| NULL|       S|\n",
      "|          2|       1|     1|Cumings, Mrs. Joh...|female|  38|    1|    0|        PC 17599|71.2833|  C85|       C|\n",
      "|          3|       1|     3|Heikkinen, Miss. ...|female|  26|    0|    0|STON/O2. 3101282|  7.925| NULL|       S|\n",
      "|          4|       1|     1|Futrelle, Mrs. Ja...|female|  35|    1|    0|          113803|   53.1| C123|       S|\n",
      "|          5|       0|     3|Allen, Mr. Willia...|  male|  35|    0|    0|          373450|   8.05| NULL|       S|\n",
      "|          6|       0|     3|    Moran, Mr. James|  male|NULL|    0|    0|          330877| 8.4583| NULL|       Q|\n",
      "|          7|       0|     1|McCarthy, Mr. Tim...|  male|  54|    0|    0|           17463|51.8625|  E46|       S|\n",
      "|          8|       0|     3|Palsson, Master. ...|  male|   2|    3|    1|          349909| 21.075| NULL|       S|\n",
      "|          9|       1|     3|Johnson, Mrs. Osc...|female|  27|    0|    2|          347742|11.1333| NULL|       S|\n",
      "|         10|       1|     2|Nasser, Mrs. Nich...|female|  14|    1|    0|          237736|30.0708| NULL|       C|\n",
      "|         11|       1|     3|Sandstrom, Miss. ...|female|   4|    1|    1|         PP 9549|   16.7|   G6|       S|\n",
      "|         12|       1|     1|Bonnell, Miss. El...|female|  58|    0|    0|          113783|  26.55| C103|       S|\n",
      "|         13|       0|     3|Saundercock, Mr. ...|  male|  20|    0|    0|       A/5. 2151|   8.05| NULL|       S|\n",
      "|         14|       0|     3|Andersson, Mr. An...|  male|  39|    1|    5|          347082| 31.275| NULL|       S|\n",
      "|         15|       0|     3|Vestrom, Miss. Hu...|female|  14|    0|    0|          350406| 7.8542| NULL|       S|\n",
      "|         16|       1|     2|Hewlett, Mrs. (Ma...|female|  55|    0|    0|          248706|   16.0| NULL|       S|\n",
      "|         17|       0|     3|Rice, Master. Eugene|  male|   2|    4|    1|          382652| 29.125| NULL|       Q|\n",
      "|         18|       1|     2|Williams, Mr. Cha...|  male|NULL|    0|    0|          244373|   13.0| NULL|       S|\n",
      "|         19|       0|     3|Vander Planke, Mr...|female|  31|    1|    0|          345763|   18.0| NULL|       S|\n",
      "|         20|       1|     3|Masselmani, Mrs. ...|female|NULL|    0|    0|            2649|  7.225| NULL|       C|\n",
      "+-----------+--------+------+--------------------+------+----+-----+-----+----------------+-------+-----+--------+\n",
      "only showing top 20 rows\n",
      "\n"
     ]
    }
   ],
   "source": [
    "df.show()"
   ]
  },
  {
   "cell_type": "code",
   "execution_count": 18,
   "metadata": {
    "id": "oIQcNrM_xqot"
   },
   "outputs": [],
   "source": [
    "mean_age=df.select(\"Age\").agg({\"Age\":\"avg\"}).collect()[0][0]\n",
    "mean_fare=df.select(\"Fare\").agg({\"Fare\":\"avg\"}).collect()[0][0]"
   ]
  },
  {
   "cell_type": "code",
   "execution_count": 19,
   "metadata": {
    "id": "VKIc2s0lxq0H"
   },
   "outputs": [],
   "source": [
    "df_cleaned=df.na.fill(mean_age,subset=[\"Age\"])\n",
    "df_cleaned=df_cleaned.na.fill(mean_fare,subset=[\"Fare\"])"
   ]
  },
  {
   "cell_type": "code",
   "execution_count": 20,
   "metadata": {
    "colab": {
     "base_uri": "https://localhost:8080/"
    },
    "id": "lNklSkfWxq3A",
    "outputId": "820c7f0c-d0c6-4523-da33-1f45fc85a99b"
   },
   "outputs": [
    {
     "name": "stdout",
     "output_type": "stream",
     "text": [
      "+-----------+--------+------+--------------------+------+---+-----+-----+----------------+-------+-----+--------+\n",
      "|PassengerId|Survived|Pclass|                Name|   Sex|Age|SibSp|Parch|          Ticket|   Fare|Cabin|Embarked|\n",
      "+-----------+--------+------+--------------------+------+---+-----+-----+----------------+-------+-----+--------+\n",
      "|          1|       0|     3|Braund, Mr. Owen ...|  male| 22|    1|    0|       A/5 21171|   7.25| NULL|       S|\n",
      "|          2|       1|     1|Cumings, Mrs. Joh...|female| 38|    1|    0|        PC 17599|71.2833|  C85|       C|\n",
      "|          3|       1|     3|Heikkinen, Miss. ...|female| 26|    0|    0|STON/O2. 3101282|  7.925| NULL|       S|\n",
      "|          4|       1|     1|Futrelle, Mrs. Ja...|female| 35|    1|    0|          113803|   53.1| C123|       S|\n",
      "|          5|       0|     3|Allen, Mr. Willia...|  male| 35|    0|    0|          373450|   8.05| NULL|       S|\n",
      "|          6|       0|     3|    Moran, Mr. James|  male| 27|    0|    0|          330877| 8.4583| NULL|       Q|\n",
      "|          7|       0|     1|McCarthy, Mr. Tim...|  male| 54|    0|    0|           17463|51.8625|  E46|       S|\n",
      "|          8|       0|     3|Palsson, Master. ...|  male|  2|    3|    1|          349909| 21.075| NULL|       S|\n",
      "|          9|       1|     3|Johnson, Mrs. Osc...|female| 27|    0|    2|          347742|11.1333| NULL|       S|\n",
      "|         10|       1|     2|Nasser, Mrs. Nich...|female| 14|    1|    0|          237736|30.0708| NULL|       C|\n",
      "|         11|       1|     3|Sandstrom, Miss. ...|female|  4|    1|    1|         PP 9549|   16.7|   G6|       S|\n",
      "|         12|       1|     1|Bonnell, Miss. El...|female| 58|    0|    0|          113783|  26.55| C103|       S|\n",
      "|         13|       0|     3|Saundercock, Mr. ...|  male| 20|    0|    0|       A/5. 2151|   8.05| NULL|       S|\n",
      "|         14|       0|     3|Andersson, Mr. An...|  male| 39|    1|    5|          347082| 31.275| NULL|       S|\n",
      "|         15|       0|     3|Vestrom, Miss. Hu...|female| 14|    0|    0|          350406| 7.8542| NULL|       S|\n",
      "|         16|       1|     2|Hewlett, Mrs. (Ma...|female| 55|    0|    0|          248706|   16.0| NULL|       S|\n",
      "|         17|       0|     3|Rice, Master. Eugene|  male|  2|    4|    1|          382652| 29.125| NULL|       Q|\n",
      "|         18|       1|     2|Williams, Mr. Cha...|  male| 27|    0|    0|          244373|   13.0| NULL|       S|\n",
      "|         19|       0|     3|Vander Planke, Mr...|female| 31|    1|    0|          345763|   18.0| NULL|       S|\n",
      "|         20|       1|     3|Masselmani, Mrs. ...|female| 27|    0|    0|            2649|  7.225| NULL|       C|\n",
      "+-----------+--------+------+--------------------+------+---+-----+-----+----------------+-------+-----+--------+\n",
      "only showing top 20 rows\n",
      "\n"
     ]
    }
   ],
   "source": [
    "df_cleaned.show()"
   ]
  },
  {
   "cell_type": "code",
   "execution_count": 21,
   "metadata": {
    "id": "1vRyJowixq6b"
   },
   "outputs": [],
   "source": [
    "from pyspark.ml.feature import MinMaxScaler, StandardScaler, VectorAssembler\n",
    "from pyspark.ml.feature import VectorAssembler"
   ]
  },
  {
   "cell_type": "code",
   "execution_count": 22,
   "metadata": {
    "id": "ktmqEG_F2Y2X"
   },
   "outputs": [],
   "source": [
    "assembler=VectorAssembler(inputCols=['Age','Fare'],outputCol='Features')\n",
    "assembled_df = assembler.transform(df_cleaned)"
   ]
  },
  {
   "cell_type": "code",
   "execution_count": 23,
   "metadata": {
    "colab": {
     "base_uri": "https://localhost:8080/"
    },
    "id": "7QrmrYwi4Aef",
    "outputId": "ea8d839d-1422-49cd-fcc8-643e8c7a0526"
   },
   "outputs": [
    {
     "name": "stdout",
     "output_type": "stream",
     "text": [
      "+-----------+--------+------+--------------------+------+---+-----+-----+----------------+-------+-----+--------+--------------+\n",
      "|PassengerId|Survived|Pclass|                Name|   Sex|Age|SibSp|Parch|          Ticket|   Fare|Cabin|Embarked|      Features|\n",
      "+-----------+--------+------+--------------------+------+---+-----+-----+----------------+-------+-----+--------+--------------+\n",
      "|          1|       0|     3|Braund, Mr. Owen ...|  male| 22|    1|    0|       A/5 21171|   7.25| NULL|       S|   [22.0,7.25]|\n",
      "|          2|       1|     1|Cumings, Mrs. Joh...|female| 38|    1|    0|        PC 17599|71.2833|  C85|       C|[38.0,71.2833]|\n",
      "|          3|       1|     3|Heikkinen, Miss. ...|female| 26|    0|    0|STON/O2. 3101282|  7.925| NULL|       S|  [26.0,7.925]|\n",
      "|          4|       1|     1|Futrelle, Mrs. Ja...|female| 35|    1|    0|          113803|   53.1| C123|       S|   [35.0,53.1]|\n",
      "|          5|       0|     3|Allen, Mr. Willia...|  male| 35|    0|    0|          373450|   8.05| NULL|       S|   [35.0,8.05]|\n",
      "|          6|       0|     3|    Moran, Mr. James|  male| 27|    0|    0|          330877| 8.4583| NULL|       Q| [27.0,8.4583]|\n",
      "|          7|       0|     1|McCarthy, Mr. Tim...|  male| 54|    0|    0|           17463|51.8625|  E46|       S|[54.0,51.8625]|\n",
      "|          8|       0|     3|Palsson, Master. ...|  male|  2|    3|    1|          349909| 21.075| NULL|       S|  [2.0,21.075]|\n",
      "|          9|       1|     3|Johnson, Mrs. Osc...|female| 27|    0|    2|          347742|11.1333| NULL|       S|[27.0,11.1333]|\n",
      "|         10|       1|     2|Nasser, Mrs. Nich...|female| 14|    1|    0|          237736|30.0708| NULL|       C|[14.0,30.0708]|\n",
      "|         11|       1|     3|Sandstrom, Miss. ...|female|  4|    1|    1|         PP 9549|   16.7|   G6|       S|    [4.0,16.7]|\n",
      "|         12|       1|     1|Bonnell, Miss. El...|female| 58|    0|    0|          113783|  26.55| C103|       S|  [58.0,26.55]|\n",
      "|         13|       0|     3|Saundercock, Mr. ...|  male| 20|    0|    0|       A/5. 2151|   8.05| NULL|       S|   [20.0,8.05]|\n",
      "|         14|       0|     3|Andersson, Mr. An...|  male| 39|    1|    5|          347082| 31.275| NULL|       S| [39.0,31.275]|\n",
      "|         15|       0|     3|Vestrom, Miss. Hu...|female| 14|    0|    0|          350406| 7.8542| NULL|       S| [14.0,7.8542]|\n",
      "|         16|       1|     2|Hewlett, Mrs. (Ma...|female| 55|    0|    0|          248706|   16.0| NULL|       S|   [55.0,16.0]|\n",
      "|         17|       0|     3|Rice, Master. Eugene|  male|  2|    4|    1|          382652| 29.125| NULL|       Q|  [2.0,29.125]|\n",
      "|         18|       1|     2|Williams, Mr. Cha...|  male| 27|    0|    0|          244373|   13.0| NULL|       S|   [27.0,13.0]|\n",
      "|         19|       0|     3|Vander Planke, Mr...|female| 31|    1|    0|          345763|   18.0| NULL|       S|   [31.0,18.0]|\n",
      "|         20|       1|     3|Masselmani, Mrs. ...|female| 27|    0|    0|            2649|  7.225| NULL|       C|  [27.0,7.225]|\n",
      "+-----------+--------+------+--------------------+------+---+-----+-----+----------------+-------+-----+--------+--------------+\n",
      "only showing top 20 rows\n",
      "\n"
     ]
    }
   ],
   "source": [
    "assembled_df.show()"
   ]
  },
  {
   "cell_type": "code",
   "execution_count": 24,
   "metadata": {
    "id": "dTgJ7B5Dxq90"
   },
   "outputs": [],
   "source": [
    "\n",
    "\n",
    "# MinMaxScaler\n",
    "min_max_scaler = MinMaxScaler(inputCol=\"Features\", outputCol=\"minmax_scaled_features\")\n",
    "min_max_model = min_max_scaler.fit(assembled_df)\n",
    "min_max_scaled_df = min_max_model.transform(assembled_df)\n",
    "\n"
   ]
  },
  {
   "cell_type": "code",
   "execution_count": 25,
   "metadata": {
    "colab": {
     "base_uri": "https://localhost:8080/"
    },
    "id": "X1adaOBq4OiH",
    "outputId": "ca5ed12f-b122-4de6-aaa0-b6dfe48d4fde"
   },
   "outputs": [
    {
     "name": "stdout",
     "output_type": "stream",
     "text": [
      "+-----------+--------+------+--------------------+------+---+-----+-----+----------------+-------+-----+--------+--------------+----------------------+\n",
      "|PassengerId|Survived|Pclass|                Name|   Sex|Age|SibSp|Parch|          Ticket|   Fare|Cabin|Embarked|      Features|minmax_scaled_features|\n",
      "+-----------+--------+------+--------------------+------+---+-----+-----+----------------+-------+-----+--------+--------------+----------------------+\n",
      "|          1|       0|     3|Braund, Mr. Owen ...|  male| 22|    1|    0|       A/5 21171|   7.25| NULL|       S|   [22.0,7.25]|  [0.3125,9.7742156...|\n",
      "|          2|       1|     1|Cumings, Mrs. Joh...|female| 38|    1|    0|        PC 17599|71.2833|  C85|       C|[38.0,71.2833]|  [0.5625,0.2504478...|\n",
      "|          3|       1|     3|Heikkinen, Miss. ...|female| 26|    0|    0|STON/O2. 3101282|  7.925| NULL|       S|  [26.0,7.925]|  [0.375,0.00273678...|\n",
      "|          4|       1|     1|Futrelle, Mrs. Ja...|female| 35|    1|    0|          113803|   53.1| C123|       S|   [35.0,53.1]|  [0.515625,0.17935...|\n",
      "|          5|       0|     3|Allen, Mr. Willia...|  male| 35|    0|    0|          373450|   8.05| NULL|       S|   [35.0,8.05]|  [0.515625,0.00322...|\n",
      "|          6|       0|     3|    Moran, Mr. James|  male| 27|    0|    0|          330877| 8.4583| NULL|       Q| [27.0,8.4583]|  [0.390625,0.00482...|\n",
      "|          7|       0|     1|McCarthy, Mr. Tim...|  male| 54|    0|    0|           17463|51.8625|  E46|       S|[54.0,51.8625]|  [0.8125,0.1745186...|\n",
      "|          8|       0|     3|Palsson, Master. ...|  male|  2|    3|    1|          349909| 21.075| NULL|       S|  [2.0,21.075]|  [0.0,0.0541491545...|\n",
      "|          9|       1|     3|Johnson, Mrs. Osc...|female| 27|    0|    2|          347742|11.1333| NULL|       S|[27.0,11.1333]|  [0.390625,0.01528...|\n",
      "|         10|       1|     2|Nasser, Mrs. Nich...|female| 14|    1|    0|          237736|30.0708| NULL|       C|[14.0,30.0708]|  [0.1875,0.0893199...|\n",
      "|         11|       1|     3|Sandstrom, Miss. ...|female|  4|    1|    1|         PP 9549|   16.7|   G6|       S|    [4.0,16.7]|  [0.03125,0.037044...|\n",
      "|         12|       1|     1|Bonnell, Miss. El...|female| 58|    0|    0|          113783|  26.55| C103|       S|  [58.0,26.55]|  [0.875,0.07555468...|\n",
      "|         13|       0|     3|Saundercock, Mr. ...|  male| 20|    0|    0|       A/5. 2151|   8.05| NULL|       S|   [20.0,8.05]|  [0.28125,0.003225...|\n",
      "|         14|       0|     3|Andersson, Mr. An...|  male| 39|    1|    5|          347082| 31.275| NULL|       S| [39.0,31.275]|  [0.578125,0.09402...|\n",
      "|         15|       0|     3|Vestrom, Miss. Hu...|female| 14|    0|    0|          350406| 7.8542| NULL|       S| [14.0,7.8542]|  [0.1875,0.0024599...|\n",
      "|         16|       1|     2|Hewlett, Mrs. (Ma...|female| 55|    0|    0|          248706|   16.0| NULL|       S|   [55.0,16.0]|  [0.828125,0.03430...|\n",
      "|         17|       0|     3|Rice, Master. Eugene|  male|  2|    4|    1|          382652| 29.125| NULL|       Q|  [2.0,29.125]|  [0.0,0.0856221288...|\n",
      "|         18|       1|     2|Williams, Mr. Cha...|  male| 27|    0|    0|          244373|   13.0| NULL|       S|   [27.0,13.0]|  [0.390625,0.02257...|\n",
      "|         19|       0|     3|Vander Planke, Mr...|female| 31|    1|    0|          345763|   18.0| NULL|       S|   [31.0,18.0]|  [0.453125,0.04212...|\n",
      "|         20|       1|     3|Masselmani, Mrs. ...|female| 27|    0|    0|            2649|  7.225| NULL|       C|  [27.0,7.225]|        [0.390625,0.0]|\n",
      "+-----------+--------+------+--------------------+------+---+-----+-----+----------------+-------+-----+--------+--------------+----------------------+\n",
      "only showing top 20 rows\n",
      "\n"
     ]
    }
   ],
   "source": [
    "min_max_scaled_df.show()"
   ]
  },
  {
   "cell_type": "code",
   "execution_count": 26,
   "metadata": {
    "id": "MdblxkO5xrA0"
   },
   "outputs": [],
   "source": [
    "\n",
    "# StandardScaler\n",
    "standard_scaler = StandardScaler(inputCol=\"Features\", outputCol=\"standard_scaled_features\", withStd=True, withMean=True)\n",
    "standard_model = standard_scaler.fit(assembled_df)\n",
    "standard_scaled_df = standard_model.transform(assembled_df)\n",
    "\n"
   ]
  },
  {
   "cell_type": "code",
   "execution_count": 27,
   "metadata": {
    "colab": {
     "base_uri": "https://localhost:8080/"
    },
    "id": "o01_Ah134RMT",
    "outputId": "09e5e5dd-becd-48f8-f8cd-8ec16d99426f"
   },
   "outputs": [
    {
     "name": "stdout",
     "output_type": "stream",
     "text": [
      "+-----------+--------+------+--------------------+------+---+-----+-----+----------------+-------+-----+--------+--------------+------------------------+\n",
      "|PassengerId|Survived|Pclass|                Name|   Sex|Age|SibSp|Parch|          Ticket|   Fare|Cabin|Embarked|      Features|standard_scaled_features|\n",
      "+-----------+--------+------+--------------------+------+---+-----+-----+----------------+-------+-----+--------+--------------+------------------------+\n",
      "|          1|       0|     3|Braund, Mr. Owen ...|  male| 22|    1|    0|       A/5 21171|   7.25| NULL|       S|   [22.0,7.25]|    [-0.3863425954613...|\n",
      "|          2|       1|     1|Cumings, Mrs. Joh...|female| 38|    1|    0|        PC 17599|71.2833|  C85|       C|[38.0,71.2833]|    [0.784885483411,1...|\n",
      "|          3|       1|     3|Heikkinen, Miss. ...|female| 26|    0|    0|STON/O2. 3101282|  7.925| NULL|       S|  [26.0,7.925]|    [-0.0935355757432...|\n",
      "|          4|       1|     1|Futrelle, Mrs. Ja...|female| 35|    1|    0|          113803|   53.1| C123|       S|   [35.0,53.1]|    [0.56528021862243...|\n",
      "|          5|       0|     3|Allen, Mr. Willia...|  male| 35|    0|    0|          373450|   8.05| NULL|       S|   [35.0,8.05]|    [0.56528021862243...|\n",
      "|          6|       0|     3|    Moran, Mr. James|  male| 27|    0|    0|          330877| 8.4583| NULL|       Q| [27.0,8.4583]|    [-0.0203338208137...|\n",
      "|          7|       0|     1|McCarthy, Mr. Tim...|  male| 54|    0|    0|           17463|51.8625|  E46|       S|[54.0,51.8625]|    [1.95611356228337...|\n",
      "|          8|       0|     3|Palsson, Master. ...|  male|  2|    3|    1|          349909| 21.075| NULL|       S|  [2.0,21.075]|    [-1.8503776940518...|\n",
      "|          9|       1|     3|Johnson, Mrs. Osc...|female| 27|    0|    2|          347742|11.1333| NULL|       S|[27.0,11.1333]|    [-0.0203338208137...|\n",
      "|         10|       1|     2|Nasser, Mrs. Nich...|female| 14|    1|    0|          237736|30.0708| NULL|       C|[14.0,30.0708]|    [-0.9719566348975...|\n",
      "|         11|       1|     3|Sandstrom, Miss. ...|female|  4|    1|    1|         PP 9549|   16.7|   G6|       S|    [4.0,16.7]|    [-1.7039741841927...|\n",
      "|         12|       1|     1|Bonnell, Miss. El...|female| 58|    0|    0|          113783|  26.55| C103|       S|  [58.0,26.55]|    [2.24892058200146...|\n",
      "|         13|       0|     3|Saundercock, Mr. ...|  male| 20|    0|    0|       A/5. 2151|   8.05| NULL|       S|   [20.0,8.05]|    [-0.5327461053204...|\n",
      "|         14|       0|     3|Andersson, Mr. An...|  male| 39|    1|    5|          347082| 31.275| NULL|       S| [39.0,31.275]|    [0.85808723834052...|\n",
      "|         15|       0|     3|Vestrom, Miss. Hu...|female| 14|    0|    0|          350406| 7.8542| NULL|       S| [14.0,7.8542]|    [-0.9719566348975...|\n",
      "|         16|       1|     2|Hewlett, Mrs. (Ma...|female| 55|    0|    0|          248706|   16.0| NULL|       S|   [55.0,16.0]|    [2.02931531721289...|\n",
      "|         17|       0|     3|Rice, Master. Eugene|  male|  2|    4|    1|          382652| 29.125| NULL|       Q|  [2.0,29.125]|    [-1.8503776940518...|\n",
      "|         18|       1|     2|Williams, Mr. Cha...|  male| 27|    0|    0|          244373|   13.0| NULL|       S|   [27.0,13.0]|    [-0.0203338208137...|\n",
      "|         19|       0|     3|Vander Planke, Mr...|female| 31|    1|    0|          345763|   18.0| NULL|       S|   [31.0,18.0]|    [0.27247319890433...|\n",
      "|         20|       1|     3|Masselmani, Mrs. ...|female| 27|    0|    0|            2649|  7.225| NULL|       C|  [27.0,7.225]|    [-0.0203338208137...|\n",
      "+-----------+--------+------+--------------------+------+---+-----+-----+----------------+-------+-----+--------+--------------+------------------------+\n",
      "only showing top 20 rows\n",
      "\n"
     ]
    }
   ],
   "source": [
    "standard_scaled_df.show()"
   ]
  },
  {
   "cell_type": "code",
   "execution_count": 35,
   "metadata": {
    "id": "WQGmIyTEZV7k"
   },
   "outputs": [],
   "source": [
    "# Splitting data into training and test sets\n",
    "train_data, test_data = standard_scaled_df.randomSplit([0.7, 0.3])\n",
    "\n"
   ]
  },
  {
   "cell_type": "code",
   "execution_count": 37,
   "metadata": {
    "colab": {
     "base_uri": "https://localhost:8080/"
    },
    "id": "wT3fdbwlZWIV",
    "outputId": "b72125e5-b605-438d-ee32-17034bf25df8"
   },
   "outputs": [
    {
     "name": "stdout",
     "output_type": "stream",
     "text": [
      "Accuracy: 0.38095238095238093\n",
      "Precision: 0.3979591836734694\n",
      "Recall: 0.38095238095238093\n",
      "F1-score: 0.36678653154625696\n"
     ]
    }
   ],
   "source": [
    "from pyspark.ml.classification import RandomForestClassifier\n",
    "from pyspark.sql.functions import col\n",
    "from pyspark.ml.evaluation import MulticlassClassificationEvaluator\n",
    "\n",
    "rf = RandomForestClassifier(featuresCol='standard_scaled_features', labelCol='Survived')\n",
    "# Training the model\n",
    "model = rf.fit(train_data)\n",
    "# Making predictions on test data\n",
    "predictions = model.transform(test_data)\n",
    "\n",
    "# Evaluation\n",
    "evaluator = MulticlassClassificationEvaluator(labelCol='Survived', metricName='accuracy')\n",
    "accuracy = evaluator.evaluate(predictions)\n",
    "\n",
    "precision_recall_f1 = MulticlassClassificationEvaluator(labelCol='Survived', metricName='weightedPrecision')\\\n",
    "                        .evaluate(predictions),\\\n",
    "                    MulticlassClassificationEvaluator(labelCol='Survived', metricName='weightedRecall')\\\n",
    "                        .evaluate(predictions),\\\n",
    "                    MulticlassClassificationEvaluator(labelCol='Survived', metricName='f1')\\\n",
    "                        .evaluate(predictions)\n",
    "\n",
    "print(f\"Accuracy: {accuracy}\")\n",
    "print(f\"Precision: {precision_recall_f1[0]}\")\n",
    "print(f\"Recall: {precision_recall_f1[1]}\")\n",
    "print(f\"F1-score: {precision_recall_f1[2]}\")"
   ]
  },
  {
   "cell_type": "code",
   "execution_count": 34,
   "metadata": {
    "colab": {
     "base_uri": "https://localhost:8080/"
    },
    "id": "qoHnBSvAYBSV",
    "outputId": "390f85de-7d99-460a-b87a-f4ab830c5916"
   },
   "outputs": [
    {
     "name": "stdout",
     "output_type": "stream",
     "text": [
      "+--------+----------+--------------------+\n",
      "|Survived|prediction|         probability|\n",
      "+--------+----------+--------------------+\n",
      "|       0|       1.0|[0.20820707070707...|\n",
      "|       0|       1.0|[0.47873965216070...|\n",
      "|       0|       1.0|[0.47873965216070...|\n",
      "|       0|       1.0|[0.29712349054454...|\n",
      "|       0|       1.0|[0.48608452950558...|\n",
      "|       0|       0.0|[0.79801634768740...|\n",
      "|       1|       0.0|     [0.6875,0.3125]|\n",
      "|       1|       0.0|[0.71862373737373...|\n",
      "|       1|       1.0|[0.24195707070707...|\n",
      "|       1|       1.0|[0.26517543859649...|\n",
      "|       1|       0.0|[0.95426634768740...|\n",
      "|       1|       0.0|[0.97093301435406...|\n",
      "+--------+----------+--------------------+\n",
      "\n",
      "Accuracy: 0.3333333333333333\n"
     ]
    }
   ],
   "source": [
    "from pyspark.ml import Pipeline\n",
    "from pyspark.ml.classification import RandomForestClassifier\n",
    "\n",
    "# Selecting relevant columns\n",
    "selected_cols = ['Survived', 'Age', 'Fare']\n",
    "df_selected = df_cleaned.select(selected_cols)\n",
    "\n",
    "# Defining the feature columns\n",
    "feature_cols = ['Age', 'Fare']\n",
    "\n",
    "# Creating a VectorAssembler to assemble feature columns into a single vector column\n",
    "assembler = VectorAssembler(inputCols=feature_cols, outputCol='unscaled_features')\n",
    "\n",
    "# Applying StandardScaler\n",
    "scaler = StandardScaler(inputCol='unscaled_features', outputCol='features', withStd=True, withMean=True)\n",
    "\n",
    "# Creating a Random Forest classifier\n",
    "rf = RandomForestClassifier(featuresCol='features', labelCol='Survived')\n",
    "\n",
    "# Creating a pipeline with VectorAssembler, StandardScaler, and RandomForestClassifier\n",
    "pipeline = Pipeline(stages=[assembler, scaler, rf])\n",
    "\n",
    "# Splitting data into training and test sets\n",
    "train_data, test_data = df_selected.randomSplit([0.7, 0.3])\n",
    "\n",
    "# Fitting the pipeline on training data\n",
    "model = pipeline.fit(train_data)\n",
    "\n",
    "# Making predictions on test data\n",
    "predictions = model.transform(test_data)\n",
    "\n",
    "# Showing predictions\n",
    "predictions.select('Survived', 'prediction', 'probability').show()\n",
    "\n",
    "# Evaluating the model (if you have labels for the test data)\n",
    "from pyspark.ml.evaluation import BinaryClassificationEvaluator\n",
    "\n",
    "evaluator = BinaryClassificationEvaluator(labelCol='Survived', metricName='areaUnderROC')\n",
    "accuracy = evaluator.evaluate(predictions)\n",
    "print(f\"Accuracy: {accuracy}\")"
   ]
  },
  {
   "cell_type": "code",
   "execution_count": 27,
   "metadata": {
    "id": "gZrW-_jm4RPf"
   },
   "outputs": [],
   "source": []
  },
  {
   "cell_type": "code",
   "execution_count": 28,
   "metadata": {
    "colab": {
     "base_uri": "https://localhost:8080/"
    },
    "id": "K9Ok_wVT4piO",
    "outputId": "3a8d8fa9-34d5-47c0-fcc6-a52652628d0a"
   },
   "outputs": [
    {
     "name": "stdout",
     "output_type": "stream",
     "text": [
      "+-------+-----------------+------------------+\n",
      "|summary|              Age|              Fare|\n",
      "+-------+-----------------+------------------+\n",
      "|  count|               54|                54|\n",
      "|   mean|27.27777777777778| 28.61087962962963|\n",
      "| stddev|13.66087467387597|40.969309876818585|\n",
      "|    min|                2|             7.225|\n",
      "|    max|               66|             263.0|\n",
      "+-------+-----------------+------------------+\n",
      "\n"
     ]
    }
   ],
   "source": [
    "description = df_cleaned.describe(['Age','Fare'])\n",
    "description.show()"
   ]
  },
  {
   "cell_type": "code",
   "execution_count": 29,
   "metadata": {
    "colab": {
     "base_uri": "https://localhost:8080/",
     "height": 472
    },
    "id": "3cLCux3o5DTm",
    "outputId": "504671bf-7496-4ada-d97b-97875a0af8fb"
   },
   "outputs": [
    {
     "data": {
      "image/png": "[encoded data removed]",
      "text/plain": [
       "<Figure size 640x480 with 1 Axes>"
      ]
     },
     "metadata": {},
     "output_type": "display_data"
    }
   ],
   "source": [
    "import matplotlib.pyplot as plt\n",
    "age_data = df_cleaned.select('Age').toPandas()\n",
    "plt.hist(age_data['Age'].dropna(), bins=20, color='skyblue', edgecolor='black')\n",
    "plt.xlabel('Age')\n",
    "plt.ylabel('Frequency')\n",
    "plt.title('Distribution of Age')\n",
    "plt.show()"
   ]
  },
  {
   "cell_type": "code",
   "execution_count": 29,
   "metadata": {
    "id": "3DnVqecg6xL_"
   },
   "outputs": [],
   "source": []
  },
  {
   "cell_type": "code",
   "execution_count": 30,
   "metadata": {
    "colab": {
     "base_uri": "https://localhost:8080/"
    },
    "id": "25mnj3Wo6xT2",
    "outputId": "c70224c5-ced3-42ff-a34d-b3dc44178256"
   },
   "outputs": [
    {
     "name": "stdout",
     "output_type": "stream",
     "text": [
      "+-----------------+\n",
      "|         avg(Age)|\n",
      "+-----------------+\n",
      "|27.27777777777778|\n",
      "+-----------------+\n",
      "\n"
     ]
    }
   ],
   "source": [
    "from pyspark.sql.functions import avg\n",
    "\n",
    "# Calculate the average salary\n",
    "average_salary = df_cleaned.select(avg(\"Age\"))\n",
    "\n",
    "# Show the average salary\n",
    "average_salary.show()"
   ]
  },
  {
   "cell_type": "code",
   "execution_count": 31,
   "metadata": {
    "colab": {
     "base_uri": "https://localhost:8080/"
    },
    "id": "SK4MZlIF67Pi",
    "outputId": "83315ac6-cfe3-4555-be9a-d0b0a8d87596"
   },
   "outputs": [
    {
     "name": "stdout",
     "output_type": "stream",
     "text": [
      "+-----------------+\n",
      "|        avg(Fare)|\n",
      "+-----------------+\n",
      "|28.61087962962963|\n",
      "+-----------------+\n",
      "\n"
     ]
    }
   ],
   "source": [
    "from pyspark.sql.functions import avg\n",
    "\n",
    "# Calculate the average salary\n",
    "average_salary = df_cleaned.select(avg(\"Fare\"))\n",
    "\n",
    "# Show the average salary\n",
    "average_salary.show()"
   ]
  },
  {
   "cell_type": "code",
   "execution_count": 32,
   "metadata": {
    "colab": {
     "base_uri": "https://localhost:8080/"
    },
    "id": "ZVBz-TIa7qag",
    "outputId": "54f05683-2f0e-47cf-9bbd-01111770cdbe"
   },
   "outputs": [
    {
     "name": "stdout",
     "output_type": "stream",
     "text": [
      "+---+---------+--------+\n",
      "|Age|  AvgFare| MaxFare|\n",
      "+---+---------+--------+\n",
      "| 31|     18.0|    18.0|\n",
      "| 34|     13.0|    13.0|\n",
      "| 28|  58.8354| 82.1708|\n",
      "| 26|    7.925|   7.925|\n",
      "| 27|19.136975|146.5208|\n",
      "| 22|     7.25|    7.25|\n",
      "|  3|  41.5792| 41.5792|\n",
      "| 20|     8.05|    8.05|\n",
      "| 40|  18.5979| 27.7208|\n",
      "| 54|  51.8625| 51.8625|\n",
      "| 19| 135.4396|   263.0|\n",
      "| 15|   8.0292|  8.0292|\n",
      "| 35|    29.05|    53.1|\n",
      "|  4|     16.7|    16.7|\n",
      "| 55|     16.0|    16.0|\n",
      "|  8|   21.075|  21.075|\n",
      "| 39|   31.275|  31.275|\n",
      "| 49|  76.7292| 76.7292|\n",
      "|  7|  39.6875| 39.6875|\n",
      "| 38|  51.3354| 71.2833|\n",
      "+---+---------+--------+\n",
      "only showing top 20 rows\n",
      "\n"
     ]
    }
   ],
   "source": [
    "from pyspark.sql.functions import avg, max\n",
    "result = df_cleaned.groupBy('Age').agg(avg('Fare').alias('AvgFare'), max('Fare').alias('MaxFare'))\n",
    "result.show()"
   ]
  },
  {
   "cell_type": "code",
   "execution_count": 32,
   "metadata": {
    "id": "-ucPSJjy7qik"
   },
   "outputs": [],
   "source": []
  },
  {
   "cell_type": "code",
   "execution_count": null,
   "metadata": {
    "id": "PXCB-JMTdDhl"
   },
   "outputs": [],
   "source": [
    "from pyspark.sql import SparkSession\n",
    "\n",
    "# Create a SparkSession\n",
    "spark = SparkSession.builder.appName(\"WordCount\").getOrCreate()\n",
    "\n",
    "# Read a text file into an RDD\n",
    "lines = spark.sparkContext.textFile(\"path/to/your/textfile.txt\")\n",
    "\n",
    "# Split each line into words and flatten the results\n",
    "words = lines.flatMap(lambda line: line.split())\n",
    "\n",
    "# Map each word to a tuple of (word, 1) for counting\n",
    "word_counts = words.map(lambda word: (word, 1))\n",
    "\n",
    "# Aggregate the word counts\n",
    "word_counts = word_counts.reduceByKey(lambda x, y: x + y)\n",
    "\n",
    "# Collect the results and print the word counts\n",
    "result = word_counts.collect()\n",
    "for word, count in result:\n",
    "    print(f\"{word}: {count}\")\n",
    "\n",
    "# Stop the SparkSession\n",
    "spark.stop()\n"
   ]
  },
  {
   "cell_type": "markdown",
   "metadata": {
    "id": "W8z781jVdL8J"
   },
   "source": [
    "**Parallelism**: The flatMap() and reduceByKey() functions apply transformations to data in parallel across different partitions of the dataset.\n",
    "\n",
    "**Distributed** **Computing**: Spark breaks down the operations into tasks and executes them across a cluster of nodes.\n",
    "\n",
    "**Challenges**: While this example doesn't explicitly handle challenges like fault tolerance or optimization, Spark provides fault tolerance by recomputing lost partitions and offers optimization techniques for better performance."
   ]
  },
  {
   "cell_type": "code",
   "execution_count": 38,
   "metadata": {
    "colab": {
     "base_uri": "https://localhost:8080/"
    },
    "id": "OzOySl8SdVf6",
    "outputId": "f1e7d379-f0fa-43bd-e2a4-e6eb6015624f"
   },
   "outputs": [
    {
     "name": "stdout",
     "output_type": "stream",
     "text": [
      "+-----------+--------------------------------+-----------------------------------------------------------------------------------------------------------------------------------+\n",
      "|document_id|text                            |tf_idf                                                                                                                             |\n",
      "+-----------+--------------------------------+-----------------------------------------------------------------------------------------------------------------------------------+\n",
      "|1          |This is an example of document 1|(20,[0,6,9,10,11,13,15],[0.0,0.0,0.6931471805599453,0.6931471805599453,0.28768207245178085,0.6931471805599453,0.28768207245178085])|\n",
      "|2          |Another example of document 2   |(20,[0,6,12,15],[0.0,0.0,0.6931471805599453,0.28768207245178085])                                                                  |\n",
      "|3          |And a third document example    |(20,[0,6,7,11],[0.0,0.0,0.6931471805599453,0.5753641449035617])                                                                    |\n",
      "+-----------+--------------------------------+-----------------------------------------------------------------------------------------------------------------------------------+\n",
      "\n"
     ]
    }
   ],
   "source": [
    "from pyspark.sql import SparkSession\n",
    "from pyspark.ml.feature import Tokenizer, HashingTF, IDF\n",
    "\n",
    "# Create a SparkSession\n",
    "spark = SparkSession.builder.appName(\"TF-IDF\").getOrCreate()\n",
    "\n",
    "# Sample document data\n",
    "data = [(\"1\", \"This is an example of document 1\"),\n",
    "        (\"2\", \"Another example of document 2\"),\n",
    "        (\"3\", \"And a third document example\")]\n",
    "\n",
    "# Create a DataFrame with document id and text\n",
    "df = spark.createDataFrame(data, [\"document_id\", \"text\"])\n",
    "\n",
    "# Tokenize the text into words\n",
    "tokenizer = Tokenizer(inputCol=\"text\", outputCol=\"words\")\n",
    "words_df = tokenizer.transform(df)\n",
    "\n",
    "# Calculate Term Frequency (TF)\n",
    "hashing_tf = HashingTF(inputCol=\"words\", outputCol=\"raw_tf\", numFeatures=20)\n",
    "tf_df = hashing_tf.transform(words_df)\n",
    "\n",
    "# Calculate Inverse Document Frequency (IDF)\n",
    "idf = IDF(inputCol=\"raw_tf\", outputCol=\"tf_idf\")\n",
    "idf_model = idf.fit(tf_df)\n",
    "tf_idf_df = idf_model.transform(tf_df)\n",
    "\n",
    "# Select relevant columns and display results\n",
    "result = tf_idf_df.select(\"document_id\", \"text\", \"tf_idf\")\n",
    "result.show(truncate=False)\n",
    "\n",
    "# Stop the SparkSession\n",
    "spark.stop()\n"
   ]
  },
  {
   "cell_type": "code",
   "execution_count": 39,
   "metadata": {
    "colab": {
     "base_uri": "https://localhost:8080/"
    },
    "id": "ZtXduGRfdDku",
    "outputId": "3d335fac-ed07-4528-eda9-cfebeb21d6ed"
   },
   "outputs": [
    {
     "name": "stdout",
     "output_type": "stream",
     "text": [
      "Result of the distributed computation: 15\n"
     ]
    }
   ],
   "source": [
    "from pyspark.sql import SparkSession\n",
    "\n",
    "# Create a Spark session\n",
    "spark = SparkSession.builder.appName(\"DistributedComputingExample\").getOrCreate()\n",
    "\n",
    "# Sample data to parallelize\n",
    "data = [1, 2, 3, 4, 5]\n",
    "\n",
    "# Parallelize the data\n",
    "distributed_data = spark.sparkContext.parallelize(data)\n",
    "\n",
    "# Perform a computation (sum) using distributed computing\n",
    "result = distributed_data.reduce(lambda x, y: x + y)\n",
    "\n",
    "print(\"Result of the distributed computation:\", result)\n",
    "\n",
    "# Stop the Spark session\n",
    "spark.stop()\n"
   ]
  },
  {
   "cell_type": "markdown",
   "metadata": {
    "id": "rn7sHr2Seuht"
   },
   "source": [
    "**Spark Session Creation**: SparkSession is initialized, creating an entry point to Spark.\n",
    "\n",
    "**Sample Data Creation**: A list of integers [1, 2, 3, 4, 5] is created. This represents the dataset that needs to be processed.\n",
    "\n",
    "**Parallelization**: The parallelize() function takes the list of data and distributes it across the Spark cluster. In this case, let's say the cluster has multiple nodes. Each element of the list (integer) is considered an individual task, and these tasks are distributed across the nodes in the cluster. For example:\n",
    "\n",
    "Element 1 goes to Node 1\n",
    "\n",
    "Element 2 goes to Node 2\n",
    "\n",
    "Element 3 goes to Node 3\n",
    "\n",
    "And so on...\n",
    "\n",
    "**Computation (Reduce Operation)**: The reduce() function is applied to the distributed data (distributed_data). This function is used to aggregate the elements of the dataset. In this case, it's summing up all the elements by performing a binary operation (the lambda function lambda x, y: x + y) in a tree-like way across the cluster.\n",
    "\n",
    "The operation might look like:\n",
    "\n",
    "Node 1: 1 + 2 = 3\n",
    "\n",
    "Node 2: 3 + 3 = 6\n",
    "\n",
    "Node 3: 6 + 4 = 10\n",
    "\n",
    "Node 4: 10 + 5 = 15\n",
    "\n",
    "The final result 15 is the aggregated value computed across the cluster.\n",
    "Output: Finally, the result of the distributed computation is printed."
   ]
  },
  {
   "cell_type": "code",
   "execution_count": null,
   "metadata": {
    "id": "aoB3vQnketWL"
   },
   "outputs": [],
   "source": []
  },
  {
   "cell_type": "code",
   "execution_count": null,
   "metadata": {
    "id": "lVbyGdYWetbu"
   },
   "outputs": [],
   "source": []
  }
 ],
 "metadata": {
  "colab": {
   "provenance": []
  },
  "kernelspec": {
   "display_name": "Python 3 (ipykernel)",
   "language": "python",
   "name": "python3"
  },
  "language_info": {
   "codemirror_mode": {
    "name": "ipython",
    "version": 3
   },
   "file_extension": ".py",
   "mimetype": "text/x-python",
   "name": "python",
   "nbconvert_exporter": "python",
   "pygments_lexer": "ipython3",
   "version": "3.11.4"
  }
 },
 "nbformat": 4,
 "nbformat_minor": 1
}
