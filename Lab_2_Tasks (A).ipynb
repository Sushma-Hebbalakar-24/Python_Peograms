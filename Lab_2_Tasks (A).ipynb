{
 "cells": [
  {
   "cell_type": "markdown",
   "metadata": {
    "id": "Vp86YbPY3sKs"
   },
   "source": [
    "# Task 1\n",
    "# Create a Python dictionary that maps English words to their French translations."
   ]
  },
  {
   "cell_type": "code",
   "execution_count": 1,
   "metadata": {
    "id": "ib1pP2bc3Uke"
   },
   "outputs": [],
   "source": [
    "# Task 1\n",
    "# Create a Python dictionary that maps English words to their French translations.\n",
    "english_to_french = {\n",
    "    \"hello\": \"bonjour\",\n",
    "    \"cat\": \"chat\",\n",
    "    \"dog\": \"chien\",\n",
    "    \"yes\": \"oui\",\n",
    "    \"tomorrow\": \"demain\",\n",
    "    \"yesterday\": \"hier\",\n",
    "    \"fish\": \"poisson\",\n",
    "    \"difficult\": \"difficile\",\n",
    "    \"easy\": \"facile\",\n",
    "    \"bad\": \"mauvais\",\n",
    "    \"no\": \"non\",\n",
    "    \"tuesday\": \"mardi\",\n",
    "    \"january\": \"janvier\",\n",
    "    \"world\": \"monde\"\n",
    "}\n"
   ]
  },
  {
   "cell_type": "markdown",
   "metadata": {
    "id": "7HIZtwDZ30Bc"
   },
   "source": [
    "# Task 2\n",
    "# Create a passage of text in English."
   ]
  },
  {
   "cell_type": "markdown",
   "metadata": {
    "id": "jMW-JQ3735NH"
   },
   "source": [
    "# Task 3\n",
    "# Create a function to translate the English text to French using the dictionary."
   ]
  },
  {
   "cell_type": "markdown",
   "metadata": {
    "id": "UrcKJRBP4BUA"
   },
   "source": [
    "# Task 4\n",
    "# Translate the English text to French."
   ]
  },
  {
   "cell_type": "markdown",
   "metadata": {
    "id": "Ta-2AK674DrH"
   },
   "source": [
    "# Task 5\n",
    "# Print the original and translated texts."
   ]
  },
  {
   "cell_type": "code",
   "execution_count": 5,
   "metadata": {
    "id": "KPBYxmt03f1r"
   },
   "outputs": [],
   "source": []
  }
 ],
 "metadata": {
  "colab": {
   "provenance": []
  },
  "kernelspec": {
   "display_name": "Python 3 (ipykernel)",
   "language": "python",
   "name": "python3"
  },
  "language_info": {
   "codemirror_mode": {
    "name": "ipython",
    "version": 3
   },
   "file_extension": ".py",
   "mimetype": "text/x-python",
   "name": "python",
   "nbconvert_exporter": "python",
   "pygments_lexer": "ipython3",
   "version": "3.11.4"
  }
 },
 "nbformat": 4,
 "nbformat_minor": 1
}
