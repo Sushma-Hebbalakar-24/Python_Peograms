{
 "cells": [
  {
   "cell_type": "markdown",
   "metadata": {
    "id": "qpIBAbJG5-AU"
   },
   "source": [
    "# Task 1\n",
    "# Create an empty list to store tasks."
   ]
  },
  {
   "cell_type": "markdown",
   "metadata": {
    "id": "r6mARBbb5a8w"
   },
   "source": [
    "# Task 2\n",
    "# Create a function to add a new task to the list.\n"
   ]
  },
  {
   "cell_type": "markdown",
   "metadata": {
    "id": "Ts-gVroq5TrB"
   },
   "source": [
    "# Task 3\n",
    "# Create a function to list all the tasks."
   ]
  },
  {
   "cell_type": "markdown",
   "metadata": {
    "id": "A26nJkIE5Q8K"
   },
   "source": [
    "# Task 4\n",
    "# Create a function to mark a task as completed."
   ]
  },
  {
   "cell_type": "markdown",
   "metadata": {
    "id": "tKsXUNp-5OMU"
   },
   "source": [
    "# Task 5\n",
    "# Create a function to clear all tasks."
   ]
  },
  {
   "cell_type": "markdown",
   "metadata": {
    "id": "6NOABkTV5Kz8"
   },
   "source": [
    "# Task 6\n",
    "# Create a function to display a menu for the user.\n",
    "\n"
   ]
  },
  {
   "cell_type": "markdown",
   "metadata": {
    "id": "Vm6vxwzh5IHq"
   },
   "source": [
    "# Task 7\n",
    "# Create a loop for the menu."
   ]
  }
 ],
 "metadata": {
  "colab": {
   "provenance": []
  },
  "kernelspec": {
   "display_name": "Python 3 (ipykernel)",
   "language": "python",
   "name": "python3"
  },
  "language_info": {
   "codemirror_mode": {
    "name": "ipython",
    "version": 3
   },
   "file_extension": ".py",
   "mimetype": "text/x-python",
   "name": "python",
   "nbconvert_exporter": "python",
   "pygments_lexer": "ipython3",
   "version": "3.11.4"
  }
 },
 "nbformat": 4,
 "nbformat_minor": 1
}
